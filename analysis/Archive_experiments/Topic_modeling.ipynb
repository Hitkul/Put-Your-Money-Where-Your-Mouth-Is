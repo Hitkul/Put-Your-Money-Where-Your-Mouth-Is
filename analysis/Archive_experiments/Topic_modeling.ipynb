{
 "cells": [
  {
   "cell_type": "code",
   "execution_count": 1,
   "metadata": {},
   "outputs": [
    {
     "name": "stderr",
     "output_type": "stream",
     "text": [
      "/opt/anaconda/anaconda3/envs/stickk/lib/python3.11/site-packages/umap/distances.py:1063: NumbaDeprecationWarning: The 'nopython' keyword argument was not supplied to the 'numba.jit' decorator. The implicit default value for this argument is currently False, but it will be changed to True in Numba 0.59.0. See https://numba.readthedocs.io/en/stable/reference/deprecation.html#deprecation-of-object-mode-fall-back-behaviour-when-using-jit for details.\n",
      "  @numba.jit()\n",
      "/opt/anaconda/anaconda3/envs/stickk/lib/python3.11/site-packages/umap/distances.py:1071: NumbaDeprecationWarning: The 'nopython' keyword argument was not supplied to the 'numba.jit' decorator. The implicit default value for this argument is currently False, but it will be changed to True in Numba 0.59.0. See https://numba.readthedocs.io/en/stable/reference/deprecation.html#deprecation-of-object-mode-fall-back-behaviour-when-using-jit for details.\n",
      "  @numba.jit()\n",
      "/opt/anaconda/anaconda3/envs/stickk/lib/python3.11/site-packages/umap/distances.py:1086: NumbaDeprecationWarning: The 'nopython' keyword argument was not supplied to the 'numba.jit' decorator. The implicit default value for this argument is currently False, but it will be changed to True in Numba 0.59.0. See https://numba.readthedocs.io/en/stable/reference/deprecation.html#deprecation-of-object-mode-fall-back-behaviour-when-using-jit for details.\n",
      "  @numba.jit()\n",
      "/opt/anaconda/anaconda3/envs/stickk/lib/python3.11/site-packages/umap/umap_.py:660: NumbaDeprecationWarning: The 'nopython' keyword argument was not supplied to the 'numba.jit' decorator. The implicit default value for this argument is currently False, but it will be changed to True in Numba 0.59.0. See https://numba.readthedocs.io/en/stable/reference/deprecation.html#deprecation-of-object-mode-fall-back-behaviour-when-using-jit for details.\n",
      "  @numba.jit()\n"
     ]
    }
   ],
   "source": [
    "import json\n",
    "import umap\n",
    "import pandas as pd\n",
    "import numpy as np\n",
    "from tqdm import tqdm\n",
    "from datetime import datetime,timedelta\n",
    "from sentence_transformers import SentenceTransformer\n",
    "import matplotlib.pyplot as plt\n",
    "%matplotlib inline\n",
    "import hdbscan\n",
    "from sklearn.feature_extraction.text import CountVectorizer\n",
    "from sklearn.metrics.pairwise import cosine_similarity"
   ]
  },
  {
   "cell_type": "code",
   "execution_count": 2,
   "metadata": {},
   "outputs": [],
   "source": [
    "user_index = json.load(open(\"../data/user_index.json\",'r'))\n",
    "commitment_index = json.load(open(\"../data/commitment_index.json\",'r'))"
   ]
  },
  {
   "cell_type": "code",
   "execution_count": 3,
   "metadata": {},
   "outputs": [],
   "source": [
    "max_user_id = max([int(i) for i in user_index.keys()])"
   ]
  },
  {
   "cell_type": "code",
   "execution_count": 4,
   "metadata": {},
   "outputs": [
    {
     "name": "stderr",
     "output_type": "stream",
     "text": [
      "100%|██████████████████████████████████████████████████████████████████████████████████████████████████████████████████████████████████| 521632/521632 [00:03<00:00, 154630.03it/s]\n"
     ]
    }
   ],
   "source": [
    "for k,v in tqdm(user_index.items()):\n",
    "    user_index[k]['date'] = datetime.strptime(v['date'], '%d %b %Y')"
   ]
  },
  {
   "cell_type": "code",
   "execution_count": 5,
   "metadata": {},
   "outputs": [
    {
     "name": "stderr",
     "output_type": "stream",
     "text": [
      "100%|█████████████████████████████████████████████████████████████████████████████████████████████████████████████████████████████████| 521632/521632 [00:00<00:00, 2213049.99it/s]\n"
     ]
    }
   ],
   "source": [
    "id_for_1_jan_2023 = 722621\n",
    "for k,v in tqdm(user_index.items()):\n",
    "    if int(k)<id_for_1_jan_2023 and v['date'].year == 2023:\n",
    "        user_index[k]['date'] = None"
   ]
  },
  {
   "cell_type": "code",
   "execution_count": 6,
   "metadata": {},
   "outputs": [],
   "source": [
    "last_date = user_index['1']['date']\n",
    "for i in range(1, max_user_id+1):\n",
    "    if str(i) in user_index.keys():\n",
    "        if user_index[str(i)]['date'] == None:\n",
    "            user_index[str(i)]['date'] = last_date\n",
    "        else:\n",
    "            last_date = user_index[str(i)]['date']"
   ]
  },
  {
   "cell_type": "code",
   "execution_count": 7,
   "metadata": {},
   "outputs": [
    {
     "name": "stderr",
     "output_type": "stream",
     "text": [
      "100%|███████████████████████████████████████████████████████████████████████████████████████████████████████████████████████████████████| 319928/319928 [00:03<00:00, 80083.48it/s]\n"
     ]
    }
   ],
   "source": [
    "for k,v in tqdm(commitment_index.items()):\n",
    "    commitment_index[k]['start_date'] = datetime.strptime(v['start_date'], '%B %d, %Y')\n",
    "    commitment_index[k]['end_date'] = datetime.strptime(v['end_date'], '%B %d, %Y')"
   ]
  },
  {
   "cell_type": "code",
   "execution_count": 8,
   "metadata": {},
   "outputs": [
    {
     "name": "stderr",
     "output_type": "stream",
     "text": [
      "100%|█████████████████████████████████████████████████████████████████████████████████████████████████████████████████████████████████| 319928/319928 [00:00<00:00, 2805685.68it/s]\n"
     ]
    }
   ],
   "source": [
    "for k,v in tqdm(commitment_index.items()):\n",
    "    if v['start_date'].year < 2007:\n",
    "        deta = v['end_date'] - v['start_date']\n",
    "        commitment_index[k]['start_date'] = user_index[str(v['user_id'])]['date']\n",
    "        commitment_index[k]['end_date'] = commitment_index[k]['start_date'] + deta"
   ]
  },
  {
   "cell_type": "markdown",
   "metadata": {},
   "source": [
    "Extract data"
   ]
  },
  {
   "cell_type": "code",
   "execution_count": 9,
   "metadata": {},
   "outputs": [],
   "source": [
    "raw_data = []\n",
    "for k,v in commitment_index.items():\n",
    "    raw_data.append(f\"{v['title']}. {v['description']}\")"
   ]
  },
  {
   "cell_type": "code",
   "execution_count": 10,
   "metadata": {},
   "outputs": [
    {
     "data": {
      "text/plain": [
       "319928"
      ]
     },
     "execution_count": 10,
     "metadata": {},
     "output_type": "execute_result"
    }
   ],
   "source": [
    "len(raw_data)"
   ]
  },
  {
   "cell_type": "code",
   "execution_count": 11,
   "metadata": {},
   "outputs": [],
   "source": [
    "#  raw_data = raw_data[:1000]"
   ]
  },
  {
   "cell_type": "code",
   "execution_count": 12,
   "metadata": {},
   "outputs": [],
   "source": [
    "model = SentenceTransformer('distilbert-base-nli-mean-tokens')"
   ]
  },
  {
   "cell_type": "code",
   "execution_count": 13,
   "metadata": {},
   "outputs": [
    {
     "data": {
      "application/vnd.jupyter.widget-view+json": {
       "model_id": "4c83937abd824cdb87cab866440793b1",
       "version_major": 2,
       "version_minor": 0
      },
      "text/plain": [
       "Batches:   0%|          | 0/9998 [00:00<?, ?it/s]"
      ]
     },
     "metadata": {},
     "output_type": "display_data"
    }
   ],
   "source": [
    "embeddings = model.encode(raw_data, show_progress_bar=True)"
   ]
  },
  {
   "cell_type": "code",
   "execution_count": 14,
   "metadata": {},
   "outputs": [
    {
     "ename": "KeyboardInterrupt",
     "evalue": "",
     "output_type": "error",
     "traceback": [
      "\u001b[0;31m---------------------------------------------------------------------------\u001b[0m",
      "\u001b[0;31mKeyboardInterrupt\u001b[0m                         Traceback (most recent call last)",
      "Cell \u001b[0;32mIn[14], line 3\u001b[0m\n\u001b[1;32m      1\u001b[0m umap_embeddings \u001b[38;5;241m=\u001b[39m umap\u001b[38;5;241m.\u001b[39mUMAP(n_neighbors\u001b[38;5;241m=\u001b[39m\u001b[38;5;241m15\u001b[39m, \n\u001b[1;32m      2\u001b[0m                             n_components\u001b[38;5;241m=\u001b[39m\u001b[38;5;241m5\u001b[39m, \n\u001b[0;32m----> 3\u001b[0m                             metric\u001b[38;5;241m=\u001b[39m\u001b[38;5;124m'\u001b[39m\u001b[38;5;124mcosine\u001b[39m\u001b[38;5;124m'\u001b[39m)\u001b[38;5;241m.\u001b[39mfit_transform(embeddings)\n",
      "File \u001b[0;32m/opt/anaconda/anaconda3/envs/stickk/lib/python3.11/site-packages/umap/umap_.py:2772\u001b[0m, in \u001b[0;36mUMAP.fit_transform\u001b[0;34m(self, X, y)\u001b[0m\n\u001b[1;32m   2742\u001b[0m \u001b[38;5;28;01mdef\u001b[39;00m \u001b[38;5;21mfit_transform\u001b[39m(\u001b[38;5;28mself\u001b[39m, X, y\u001b[38;5;241m=\u001b[39m\u001b[38;5;28;01mNone\u001b[39;00m):\n\u001b[1;32m   2743\u001b[0m \u001b[38;5;250m    \u001b[39m\u001b[38;5;124;03m\"\"\"Fit X into an embedded space and return that transformed\u001b[39;00m\n\u001b[1;32m   2744\u001b[0m \u001b[38;5;124;03m    output.\u001b[39;00m\n\u001b[1;32m   2745\u001b[0m \n\u001b[0;32m   (...)\u001b[0m\n\u001b[1;32m   2770\u001b[0m \u001b[38;5;124;03m        Local radii of data points in the embedding (log-transformed).\u001b[39;00m\n\u001b[1;32m   2771\u001b[0m \u001b[38;5;124;03m    \"\"\"\u001b[39;00m\n\u001b[0;32m-> 2772\u001b[0m     \u001b[38;5;28mself\u001b[39m\u001b[38;5;241m.\u001b[39mfit(X, y)\n\u001b[1;32m   2773\u001b[0m     \u001b[38;5;28;01mif\u001b[39;00m \u001b[38;5;28mself\u001b[39m\u001b[38;5;241m.\u001b[39mtransform_mode \u001b[38;5;241m==\u001b[39m \u001b[38;5;124m\"\u001b[39m\u001b[38;5;124membedding\u001b[39m\u001b[38;5;124m\"\u001b[39m:\n\u001b[1;32m   2774\u001b[0m         \u001b[38;5;28;01mif\u001b[39;00m \u001b[38;5;28mself\u001b[39m\u001b[38;5;241m.\u001b[39moutput_dens:\n",
      "File \u001b[0;32m/opt/anaconda/anaconda3/envs/stickk/lib/python3.11/site-packages/umap/umap_.py:2684\u001b[0m, in \u001b[0;36mUMAP.fit\u001b[0;34m(self, X, y)\u001b[0m\n\u001b[1;32m   2681\u001b[0m     \u001b[38;5;28mprint\u001b[39m(ts(), \u001b[38;5;124m\"\u001b[39m\u001b[38;5;124mConstruct embedding\u001b[39m\u001b[38;5;124m\"\u001b[39m)\n\u001b[1;32m   2683\u001b[0m \u001b[38;5;28;01mif\u001b[39;00m \u001b[38;5;28mself\u001b[39m\u001b[38;5;241m.\u001b[39mtransform_mode \u001b[38;5;241m==\u001b[39m \u001b[38;5;124m\"\u001b[39m\u001b[38;5;124membedding\u001b[39m\u001b[38;5;124m\"\u001b[39m:\n\u001b[0;32m-> 2684\u001b[0m     \u001b[38;5;28mself\u001b[39m\u001b[38;5;241m.\u001b[39membedding_, aux_data \u001b[38;5;241m=\u001b[39m \u001b[38;5;28mself\u001b[39m\u001b[38;5;241m.\u001b[39m_fit_embed_data(\n\u001b[1;32m   2685\u001b[0m         \u001b[38;5;28mself\u001b[39m\u001b[38;5;241m.\u001b[39m_raw_data[index],\n\u001b[1;32m   2686\u001b[0m         \u001b[38;5;28mself\u001b[39m\u001b[38;5;241m.\u001b[39mn_epochs,\n\u001b[1;32m   2687\u001b[0m         init,\n\u001b[1;32m   2688\u001b[0m         random_state,  \u001b[38;5;66;03m# JH why raw data?\u001b[39;00m\n\u001b[1;32m   2689\u001b[0m     )\n\u001b[1;32m   2690\u001b[0m     \u001b[38;5;66;03m# Assign any points that are fully disconnected from our manifold(s) to have embedding\u001b[39;00m\n\u001b[1;32m   2691\u001b[0m     \u001b[38;5;66;03m# coordinates of np.nan.  These will be filtered by our plotting functions automatically.\u001b[39;00m\n\u001b[1;32m   2692\u001b[0m     \u001b[38;5;66;03m# They also prevent users from being deceived a distance query to one of these points.\u001b[39;00m\n\u001b[1;32m   2693\u001b[0m     \u001b[38;5;66;03m# Might be worth moving this into simplicial_set_embedding or _fit_embed_data\u001b[39;00m\n\u001b[1;32m   2694\u001b[0m     disconnected_vertices \u001b[38;5;241m=\u001b[39m np\u001b[38;5;241m.\u001b[39marray(\u001b[38;5;28mself\u001b[39m\u001b[38;5;241m.\u001b[39mgraph_\u001b[38;5;241m.\u001b[39msum(axis\u001b[38;5;241m=\u001b[39m\u001b[38;5;241m1\u001b[39m))\u001b[38;5;241m.\u001b[39mflatten() \u001b[38;5;241m==\u001b[39m \u001b[38;5;241m0\u001b[39m\n",
      "File \u001b[0;32m/opt/anaconda/anaconda3/envs/stickk/lib/python3.11/site-packages/umap/umap_.py:2717\u001b[0m, in \u001b[0;36mUMAP._fit_embed_data\u001b[0;34m(self, X, n_epochs, init, random_state)\u001b[0m\n\u001b[1;32m   2713\u001b[0m \u001b[38;5;28;01mdef\u001b[39;00m \u001b[38;5;21m_fit_embed_data\u001b[39m(\u001b[38;5;28mself\u001b[39m, X, n_epochs, init, random_state):\n\u001b[1;32m   2714\u001b[0m \u001b[38;5;250m    \u001b[39m\u001b[38;5;124;03m\"\"\"A method wrapper for simplicial_set_embedding that can be\u001b[39;00m\n\u001b[1;32m   2715\u001b[0m \u001b[38;5;124;03m    replaced by subclasses.\u001b[39;00m\n\u001b[1;32m   2716\u001b[0m \u001b[38;5;124;03m    \"\"\"\u001b[39;00m\n\u001b[0;32m-> 2717\u001b[0m     \u001b[38;5;28;01mreturn\u001b[39;00m simplicial_set_embedding(\n\u001b[1;32m   2718\u001b[0m         X,\n\u001b[1;32m   2719\u001b[0m         \u001b[38;5;28mself\u001b[39m\u001b[38;5;241m.\u001b[39mgraph_,\n\u001b[1;32m   2720\u001b[0m         \u001b[38;5;28mself\u001b[39m\u001b[38;5;241m.\u001b[39mn_components,\n\u001b[1;32m   2721\u001b[0m         \u001b[38;5;28mself\u001b[39m\u001b[38;5;241m.\u001b[39m_initial_alpha,\n\u001b[1;32m   2722\u001b[0m         \u001b[38;5;28mself\u001b[39m\u001b[38;5;241m.\u001b[39m_a,\n\u001b[1;32m   2723\u001b[0m         \u001b[38;5;28mself\u001b[39m\u001b[38;5;241m.\u001b[39m_b,\n\u001b[1;32m   2724\u001b[0m         \u001b[38;5;28mself\u001b[39m\u001b[38;5;241m.\u001b[39mrepulsion_strength,\n\u001b[1;32m   2725\u001b[0m         \u001b[38;5;28mself\u001b[39m\u001b[38;5;241m.\u001b[39mnegative_sample_rate,\n\u001b[1;32m   2726\u001b[0m         n_epochs,\n\u001b[1;32m   2727\u001b[0m         init,\n\u001b[1;32m   2728\u001b[0m         random_state,\n\u001b[1;32m   2729\u001b[0m         \u001b[38;5;28mself\u001b[39m\u001b[38;5;241m.\u001b[39m_input_distance_func,\n\u001b[1;32m   2730\u001b[0m         \u001b[38;5;28mself\u001b[39m\u001b[38;5;241m.\u001b[39m_metric_kwds,\n\u001b[1;32m   2731\u001b[0m         \u001b[38;5;28mself\u001b[39m\u001b[38;5;241m.\u001b[39mdensmap,\n\u001b[1;32m   2732\u001b[0m         \u001b[38;5;28mself\u001b[39m\u001b[38;5;241m.\u001b[39m_densmap_kwds,\n\u001b[1;32m   2733\u001b[0m         \u001b[38;5;28mself\u001b[39m\u001b[38;5;241m.\u001b[39moutput_dens,\n\u001b[1;32m   2734\u001b[0m         \u001b[38;5;28mself\u001b[39m\u001b[38;5;241m.\u001b[39m_output_distance_func,\n\u001b[1;32m   2735\u001b[0m         \u001b[38;5;28mself\u001b[39m\u001b[38;5;241m.\u001b[39m_output_metric_kwds,\n\u001b[1;32m   2736\u001b[0m         \u001b[38;5;28mself\u001b[39m\u001b[38;5;241m.\u001b[39moutput_metric \u001b[38;5;129;01min\u001b[39;00m (\u001b[38;5;124m\"\u001b[39m\u001b[38;5;124meuclidean\u001b[39m\u001b[38;5;124m\"\u001b[39m, \u001b[38;5;124m\"\u001b[39m\u001b[38;5;124ml2\u001b[39m\u001b[38;5;124m\"\u001b[39m),\n\u001b[1;32m   2737\u001b[0m         \u001b[38;5;28mself\u001b[39m\u001b[38;5;241m.\u001b[39mrandom_state \u001b[38;5;129;01mis\u001b[39;00m \u001b[38;5;28;01mNone\u001b[39;00m,\n\u001b[1;32m   2738\u001b[0m         \u001b[38;5;28mself\u001b[39m\u001b[38;5;241m.\u001b[39mverbose,\n\u001b[1;32m   2739\u001b[0m         tqdm_kwds\u001b[38;5;241m=\u001b[39m\u001b[38;5;28mself\u001b[39m\u001b[38;5;241m.\u001b[39mtqdm_kwds,\n\u001b[1;32m   2740\u001b[0m     )\n",
      "File \u001b[0;32m/opt/anaconda/anaconda3/envs/stickk/lib/python3.11/site-packages/umap/umap_.py:1078\u001b[0m, in \u001b[0;36msimplicial_set_embedding\u001b[0;34m(data, graph, n_components, initial_alpha, a, b, gamma, negative_sample_rate, n_epochs, init, random_state, metric, metric_kwds, densmap, densmap_kwds, output_dens, output_metric, output_metric_kwds, euclidean_output, parallel, verbose, tqdm_kwds)\u001b[0m\n\u001b[1;32m   1073\u001b[0m     embedding \u001b[38;5;241m=\u001b[39m random_state\u001b[38;5;241m.\u001b[39muniform(\n\u001b[1;32m   1074\u001b[0m         low\u001b[38;5;241m=\u001b[39m\u001b[38;5;241m-\u001b[39m\u001b[38;5;241m10.0\u001b[39m, high\u001b[38;5;241m=\u001b[39m\u001b[38;5;241m10.0\u001b[39m, size\u001b[38;5;241m=\u001b[39m(graph\u001b[38;5;241m.\u001b[39mshape[\u001b[38;5;241m0\u001b[39m], n_components)\n\u001b[1;32m   1075\u001b[0m     )\u001b[38;5;241m.\u001b[39mastype(np\u001b[38;5;241m.\u001b[39mfloat32)\n\u001b[1;32m   1076\u001b[0m \u001b[38;5;28;01melif\u001b[39;00m \u001b[38;5;28misinstance\u001b[39m(init, \u001b[38;5;28mstr\u001b[39m) \u001b[38;5;129;01mand\u001b[39;00m init \u001b[38;5;241m==\u001b[39m \u001b[38;5;124m\"\u001b[39m\u001b[38;5;124mspectral\u001b[39m\u001b[38;5;124m\"\u001b[39m:\n\u001b[1;32m   1077\u001b[0m     \u001b[38;5;66;03m# We add a little noise to avoid local minima for optimization to come\u001b[39;00m\n\u001b[0;32m-> 1078\u001b[0m     initialisation \u001b[38;5;241m=\u001b[39m spectral_layout(\n\u001b[1;32m   1079\u001b[0m         data,\n\u001b[1;32m   1080\u001b[0m         graph,\n\u001b[1;32m   1081\u001b[0m         n_components,\n\u001b[1;32m   1082\u001b[0m         random_state,\n\u001b[1;32m   1083\u001b[0m         metric\u001b[38;5;241m=\u001b[39mmetric,\n\u001b[1;32m   1084\u001b[0m         metric_kwds\u001b[38;5;241m=\u001b[39mmetric_kwds,\n\u001b[1;32m   1085\u001b[0m     )\n\u001b[1;32m   1086\u001b[0m     expansion \u001b[38;5;241m=\u001b[39m \u001b[38;5;241m10.0\u001b[39m \u001b[38;5;241m/\u001b[39m np\u001b[38;5;241m.\u001b[39mabs(initialisation)\u001b[38;5;241m.\u001b[39mmax()\n\u001b[1;32m   1087\u001b[0m     embedding \u001b[38;5;241m=\u001b[39m (initialisation \u001b[38;5;241m*\u001b[39m expansion)\u001b[38;5;241m.\u001b[39mastype(\n\u001b[1;32m   1088\u001b[0m         np\u001b[38;5;241m.\u001b[39mfloat32\n\u001b[1;32m   1089\u001b[0m     ) \u001b[38;5;241m+\u001b[39m random_state\u001b[38;5;241m.\u001b[39mnormal(\n\u001b[0;32m   (...)\u001b[0m\n\u001b[1;32m   1092\u001b[0m         np\u001b[38;5;241m.\u001b[39mfloat32\n\u001b[1;32m   1093\u001b[0m     )\n",
      "File \u001b[0;32m/opt/anaconda/anaconda3/envs/stickk/lib/python3.11/site-packages/umap/spectral.py:306\u001b[0m, in \u001b[0;36mspectral_layout\u001b[0;34m(data, graph, dim, random_state, metric, metric_kwds)\u001b[0m\n\u001b[1;32m    303\u001b[0m n_components, labels \u001b[38;5;241m=\u001b[39m scipy\u001b[38;5;241m.\u001b[39msparse\u001b[38;5;241m.\u001b[39mcsgraph\u001b[38;5;241m.\u001b[39mconnected_components(graph)\n\u001b[1;32m    305\u001b[0m \u001b[38;5;28;01mif\u001b[39;00m n_components \u001b[38;5;241m>\u001b[39m \u001b[38;5;241m1\u001b[39m:\n\u001b[0;32m--> 306\u001b[0m     \u001b[38;5;28;01mreturn\u001b[39;00m multi_component_layout(\n\u001b[1;32m    307\u001b[0m         data,\n\u001b[1;32m    308\u001b[0m         graph,\n\u001b[1;32m    309\u001b[0m         n_components,\n\u001b[1;32m    310\u001b[0m         labels,\n\u001b[1;32m    311\u001b[0m         dim,\n\u001b[1;32m    312\u001b[0m         random_state,\n\u001b[1;32m    313\u001b[0m         metric\u001b[38;5;241m=\u001b[39mmetric,\n\u001b[1;32m    314\u001b[0m         metric_kwds\u001b[38;5;241m=\u001b[39mmetric_kwds,\n\u001b[1;32m    315\u001b[0m     )\n\u001b[1;32m    317\u001b[0m diag_data \u001b[38;5;241m=\u001b[39m np\u001b[38;5;241m.\u001b[39masarray(graph\u001b[38;5;241m.\u001b[39msum(axis\u001b[38;5;241m=\u001b[39m\u001b[38;5;241m0\u001b[39m))\n\u001b[1;32m    318\u001b[0m \u001b[38;5;66;03m# standard Laplacian\u001b[39;00m\n\u001b[1;32m    319\u001b[0m \u001b[38;5;66;03m# D = scipy.sparse.spdiags(diag_data, 0, graph.shape[0], graph.shape[0])\u001b[39;00m\n\u001b[1;32m    320\u001b[0m \u001b[38;5;66;03m# L = D - graph\u001b[39;00m\n\u001b[1;32m    321\u001b[0m \u001b[38;5;66;03m# Normalized Laplacian\u001b[39;00m\n",
      "File \u001b[0;32m/opt/anaconda/anaconda3/envs/stickk/lib/python3.11/site-packages/umap/spectral.py:243\u001b[0m, in \u001b[0;36mmulti_component_layout\u001b[0;34m(data, graph, n_components, component_labels, dim, random_state, metric, metric_kwds)\u001b[0m\n\u001b[1;32m    241\u001b[0m num_lanczos_vectors \u001b[38;5;241m=\u001b[39m \u001b[38;5;28mmax\u001b[39m(\u001b[38;5;241m2\u001b[39m \u001b[38;5;241m*\u001b[39m k \u001b[38;5;241m+\u001b[39m \u001b[38;5;241m1\u001b[39m, \u001b[38;5;28mint\u001b[39m(np\u001b[38;5;241m.\u001b[39msqrt(component_graph\u001b[38;5;241m.\u001b[39mshape[\u001b[38;5;241m0\u001b[39m])))\n\u001b[1;32m    242\u001b[0m \u001b[38;5;28;01mtry\u001b[39;00m:\n\u001b[0;32m--> 243\u001b[0m     eigenvalues, eigenvectors \u001b[38;5;241m=\u001b[39m scipy\u001b[38;5;241m.\u001b[39msparse\u001b[38;5;241m.\u001b[39mlinalg\u001b[38;5;241m.\u001b[39meigsh(\n\u001b[1;32m    244\u001b[0m         L,\n\u001b[1;32m    245\u001b[0m         k,\n\u001b[1;32m    246\u001b[0m         which\u001b[38;5;241m=\u001b[39m\u001b[38;5;124m\"\u001b[39m\u001b[38;5;124mSM\u001b[39m\u001b[38;5;124m\"\u001b[39m,\n\u001b[1;32m    247\u001b[0m         ncv\u001b[38;5;241m=\u001b[39mnum_lanczos_vectors,\n\u001b[1;32m    248\u001b[0m         tol\u001b[38;5;241m=\u001b[39m\u001b[38;5;241m1e-4\u001b[39m,\n\u001b[1;32m    249\u001b[0m         v0\u001b[38;5;241m=\u001b[39mnp\u001b[38;5;241m.\u001b[39mones(L\u001b[38;5;241m.\u001b[39mshape[\u001b[38;5;241m0\u001b[39m]),\n\u001b[1;32m    250\u001b[0m         maxiter\u001b[38;5;241m=\u001b[39mgraph\u001b[38;5;241m.\u001b[39mshape[\u001b[38;5;241m0\u001b[39m] \u001b[38;5;241m*\u001b[39m \u001b[38;5;241m5\u001b[39m,\n\u001b[1;32m    251\u001b[0m     )\n\u001b[1;32m    252\u001b[0m     order \u001b[38;5;241m=\u001b[39m np\u001b[38;5;241m.\u001b[39margsort(eigenvalues)[\u001b[38;5;241m1\u001b[39m:k]\n\u001b[1;32m    253\u001b[0m     component_embedding \u001b[38;5;241m=\u001b[39m eigenvectors[:, order]\n",
      "File \u001b[0;32m/opt/anaconda/anaconda3/envs/stickk/lib/python3.11/site-packages/scipy/sparse/linalg/_eigen/arpack/arpack.py:1697\u001b[0m, in \u001b[0;36meigsh\u001b[0;34m(A, k, M, sigma, which, v0, ncv, maxiter, tol, return_eigenvectors, Minv, OPinv, mode)\u001b[0m\n\u001b[1;32m   1695\u001b[0m \u001b[38;5;28;01mwith\u001b[39;00m _ARPACK_LOCK:\n\u001b[1;32m   1696\u001b[0m     \u001b[38;5;28;01mwhile\u001b[39;00m \u001b[38;5;129;01mnot\u001b[39;00m params\u001b[38;5;241m.\u001b[39mconverged:\n\u001b[0;32m-> 1697\u001b[0m         params\u001b[38;5;241m.\u001b[39miterate()\n\u001b[1;32m   1699\u001b[0m     \u001b[38;5;28;01mreturn\u001b[39;00m params\u001b[38;5;241m.\u001b[39mextract(return_eigenvectors)\n",
      "File \u001b[0;32m/opt/anaconda/anaconda3/envs/stickk/lib/python3.11/site-packages/scipy/sparse/linalg/_eigen/arpack/arpack.py:537\u001b[0m, in \u001b[0;36m_SymmetricArpackParams.iterate\u001b[0;34m(self)\u001b[0m\n\u001b[1;32m    535\u001b[0m \u001b[38;5;28;01mdef\u001b[39;00m \u001b[38;5;21miterate\u001b[39m(\u001b[38;5;28mself\u001b[39m):\n\u001b[1;32m    536\u001b[0m     \u001b[38;5;28mself\u001b[39m\u001b[38;5;241m.\u001b[39mido, \u001b[38;5;28mself\u001b[39m\u001b[38;5;241m.\u001b[39mtol, \u001b[38;5;28mself\u001b[39m\u001b[38;5;241m.\u001b[39mresid, \u001b[38;5;28mself\u001b[39m\u001b[38;5;241m.\u001b[39mv, \u001b[38;5;28mself\u001b[39m\u001b[38;5;241m.\u001b[39miparam, \u001b[38;5;28mself\u001b[39m\u001b[38;5;241m.\u001b[39mipntr, \u001b[38;5;28mself\u001b[39m\u001b[38;5;241m.\u001b[39minfo \u001b[38;5;241m=\u001b[39m \\\n\u001b[0;32m--> 537\u001b[0m         \u001b[38;5;28mself\u001b[39m\u001b[38;5;241m.\u001b[39m_arpack_solver(\u001b[38;5;28mself\u001b[39m\u001b[38;5;241m.\u001b[39mido, \u001b[38;5;28mself\u001b[39m\u001b[38;5;241m.\u001b[39mbmat, \u001b[38;5;28mself\u001b[39m\u001b[38;5;241m.\u001b[39mwhich, \u001b[38;5;28mself\u001b[39m\u001b[38;5;241m.\u001b[39mk,\n\u001b[1;32m    538\u001b[0m                             \u001b[38;5;28mself\u001b[39m\u001b[38;5;241m.\u001b[39mtol, \u001b[38;5;28mself\u001b[39m\u001b[38;5;241m.\u001b[39mresid, \u001b[38;5;28mself\u001b[39m\u001b[38;5;241m.\u001b[39mv, \u001b[38;5;28mself\u001b[39m\u001b[38;5;241m.\u001b[39miparam,\n\u001b[1;32m    539\u001b[0m                             \u001b[38;5;28mself\u001b[39m\u001b[38;5;241m.\u001b[39mipntr, \u001b[38;5;28mself\u001b[39m\u001b[38;5;241m.\u001b[39mworkd, \u001b[38;5;28mself\u001b[39m\u001b[38;5;241m.\u001b[39mworkl, \u001b[38;5;28mself\u001b[39m\u001b[38;5;241m.\u001b[39minfo)\n\u001b[1;32m    541\u001b[0m     xslice \u001b[38;5;241m=\u001b[39m \u001b[38;5;28mslice\u001b[39m(\u001b[38;5;28mself\u001b[39m\u001b[38;5;241m.\u001b[39mipntr[\u001b[38;5;241m0\u001b[39m] \u001b[38;5;241m-\u001b[39m \u001b[38;5;241m1\u001b[39m, \u001b[38;5;28mself\u001b[39m\u001b[38;5;241m.\u001b[39mipntr[\u001b[38;5;241m0\u001b[39m] \u001b[38;5;241m-\u001b[39m \u001b[38;5;241m1\u001b[39m \u001b[38;5;241m+\u001b[39m \u001b[38;5;28mself\u001b[39m\u001b[38;5;241m.\u001b[39mn)\n\u001b[1;32m    542\u001b[0m     yslice \u001b[38;5;241m=\u001b[39m \u001b[38;5;28mslice\u001b[39m(\u001b[38;5;28mself\u001b[39m\u001b[38;5;241m.\u001b[39mipntr[\u001b[38;5;241m1\u001b[39m] \u001b[38;5;241m-\u001b[39m \u001b[38;5;241m1\u001b[39m, \u001b[38;5;28mself\u001b[39m\u001b[38;5;241m.\u001b[39mipntr[\u001b[38;5;241m1\u001b[39m] \u001b[38;5;241m-\u001b[39m \u001b[38;5;241m1\u001b[39m \u001b[38;5;241m+\u001b[39m \u001b[38;5;28mself\u001b[39m\u001b[38;5;241m.\u001b[39mn)\n",
      "\u001b[0;31mKeyboardInterrupt\u001b[0m: "
     ]
    }
   ],
   "source": [
    "umap_embeddings = umap.UMAP(n_neighbors=15, \n",
    "                            n_components=5, \n",
    "                            metric='cosine').fit_transform(embeddings)"
   ]
  },
  {
   "cell_type": "code",
   "execution_count": 16,
   "metadata": {},
   "outputs": [],
   "source": [
    "cluster = hdbscan.HDBSCAN(min_cluster_size=5,\n",
    "                          metric='euclidean',                      \n",
    "                          cluster_selection_method='eom').fit(umap_embeddings)"
   ]
  },
  {
   "cell_type": "code",
   "execution_count": 20,
   "metadata": {},
   "outputs": [
    {
     "data": {
      "text/plain": [
       "<matplotlib.colorbar.Colorbar at 0x7f5d94736990>"
      ]
     },
     "execution_count": 20,
     "metadata": {},
     "output_type": "execute_result"
    },
    {
     "data": {
      "image/png": "[encoded data removed]",
      "text/plain": [
       "<Figure size 2000x1000 with 2 Axes>"
      ]
     },
     "metadata": {},
     "output_type": "display_data"
    }
   ],
   "source": [
    "umap_data = umap.UMAP(n_neighbors=15, n_components=2, min_dist=0.0, metric='cosine').fit_transform(embeddings)\n",
    "result = pd.DataFrame(umap_data, columns=['x', 'y'])\n",
    "result['labels'] = cluster.labels_\n",
    "\n",
    "# Visualize clusters\n",
    "fig, ax = plt.subplots(figsize=(20, 10))\n",
    "outliers = result.loc[result.labels == -1, :]\n",
    "clustered = result.loc[result.labels != -1, :]\n",
    "plt.scatter(outliers.x, outliers.y, color='#BDBDBD', s=0.05)\n",
    "plt.scatter(clustered.x, clustered.y, c=clustered.labels, s=0.05, cmap='hsv_r')\n",
    "plt.colorbar()"
   ]
  },
  {
   "cell_type": "markdown",
   "metadata": {},
   "source": [
    "c-TF-IDF"
   ]
  },
  {
   "cell_type": "code",
   "execution_count": 22,
   "metadata": {},
   "outputs": [],
   "source": [
    "docs_df = pd.DataFrame(raw_data, columns=[\"Doc\"])\n",
    "docs_df['Topic'] = cluster.labels_\n",
    "docs_df['Doc_ID'] = range(len(docs_df))\n",
    "docs_per_topic = docs_df.groupby(['Topic'], as_index = False).agg({'Doc': ' '.join})"
   ]
  },
  {
   "cell_type": "code",
   "execution_count": 25,
   "metadata": {},
   "outputs": [],
   "source": [
    "def c_tf_idf(documents, m, ngram_range=(1, 1)):\n",
    "    count = CountVectorizer(ngram_range=ngram_range, stop_words=\"english\").fit(documents)\n",
    "    t = count.transform(documents).toarray()\n",
    "    w = t.sum(axis=1)\n",
    "    tf = np.divide(t.T, w)\n",
    "    sum_t = t.sum(axis=0)\n",
    "    idf = np.log(np.divide(m, sum_t)).reshape(-1, 1)\n",
    "    tf_idf = np.multiply(tf, idf)\n",
    "\n",
    "    return tf_idf, count"
   ]
  },
  {
   "cell_type": "code",
   "execution_count": 26,
   "metadata": {},
   "outputs": [],
   "source": [
    "tf_idf, count = c_tf_idf(docs_per_topic.Doc.values, m=len(raw_data))"
   ]
  },
  {
   "cell_type": "code",
   "execution_count": 30,
   "metadata": {},
   "outputs": [],
   "source": [
    "def extract_top_n_words_per_topic(tf_idf, count, docs_per_topic, n=20):\n",
    "    words = count.get_feature_names_out()\n",
    "    labels = list(docs_per_topic.Topic)\n",
    "    tf_idf_transposed = tf_idf.T\n",
    "    indices = tf_idf_transposed.argsort()[:, -n:]\n",
    "    top_n_words = {label: [(words[j], tf_idf_transposed[i][j]) for j in indices[i]][::-1] for i, label in enumerate(labels)}\n",
    "    return top_n_words"
   ]
  },
  {
   "cell_type": "code",
   "execution_count": 31,
   "metadata": {},
   "outputs": [],
   "source": [
    "def extract_topic_sizes(df):\n",
    "    topic_sizes = (df.groupby(['Topic'])\n",
    "                     .Doc\n",
    "                     .count()\n",
    "                     .reset_index()\n",
    "                     .rename({\"Topic\": \"Topic\", \"Doc\": \"Size\"}, axis='columns')\n",
    "                     .sort_values(\"Size\", ascending=False))\n",
    "    return topic_sizes"
   ]
  },
  {
   "cell_type": "code",
   "execution_count": 32,
   "metadata": {},
   "outputs": [
    {
     "data": {
      "text/html": [
       "<div>\n",
       "<style scoped>\n",
       "    .dataframe tbody tr th:only-of-type {\n",
       "        vertical-align: middle;\n",
       "    }\n",
       "\n",
       "    .dataframe tbody tr th {\n",
       "        vertical-align: top;\n",
       "    }\n",
       "\n",
       "    .dataframe thead th {\n",
       "        text-align: right;\n",
       "    }\n",
       "</style>\n",
       "<table border=\"1\" class=\"dataframe\">\n",
       "  <thead>\n",
       "    <tr style=\"text-align: right;\">\n",
       "      <th></th>\n",
       "      <th>Topic</th>\n",
       "      <th>Size</th>\n",
       "    </tr>\n",
       "  </thead>\n",
       "  <tbody>\n",
       "    <tr>\n",
       "      <th>0</th>\n",
       "      <td>-1</td>\n",
       "      <td>168</td>\n",
       "    </tr>\n",
       "    <tr>\n",
       "      <th>3</th>\n",
       "      <td>2</td>\n",
       "      <td>75</td>\n",
       "    </tr>\n",
       "    <tr>\n",
       "      <th>1</th>\n",
       "      <td>0</td>\n",
       "      <td>72</td>\n",
       "    </tr>\n",
       "    <tr>\n",
       "      <th>5</th>\n",
       "      <td>4</td>\n",
       "      <td>46</td>\n",
       "    </tr>\n",
       "    <tr>\n",
       "      <th>7</th>\n",
       "      <td>6</td>\n",
       "      <td>33</td>\n",
       "    </tr>\n",
       "    <tr>\n",
       "      <th>35</th>\n",
       "      <td>34</td>\n",
       "      <td>31</td>\n",
       "    </tr>\n",
       "    <tr>\n",
       "      <th>39</th>\n",
       "      <td>38</td>\n",
       "      <td>30</td>\n",
       "    </tr>\n",
       "    <tr>\n",
       "      <th>14</th>\n",
       "      <td>13</td>\n",
       "      <td>29</td>\n",
       "    </tr>\n",
       "    <tr>\n",
       "      <th>4</th>\n",
       "      <td>3</td>\n",
       "      <td>27</td>\n",
       "    </tr>\n",
       "    <tr>\n",
       "      <th>12</th>\n",
       "      <td>11</td>\n",
       "      <td>25</td>\n",
       "    </tr>\n",
       "  </tbody>\n",
       "</table>\n",
       "</div>"
      ],
      "text/plain": [
       "    Topic  Size\n",
       "0      -1   168\n",
       "3       2    75\n",
       "1       0    72\n",
       "5       4    46\n",
       "7       6    33\n",
       "35     34    31\n",
       "39     38    30\n",
       "14     13    29\n",
       "4       3    27\n",
       "12     11    25"
      ]
     },
     "execution_count": 32,
     "metadata": {},
     "output_type": "execute_result"
    }
   ],
   "source": [
    "top_n_words = extract_top_n_words_per_topic(tf_idf, count, docs_per_topic, n=20)\n",
    "topic_sizes = extract_topic_sizes(docs_df)\n",
    "topic_sizes.head(10)"
   ]
  },
  {
   "cell_type": "code",
   "execution_count": 40,
   "metadata": {},
   "outputs": [
    {
     "name": "stdout",
     "output_type": "stream",
     "text": [
      "2\n",
      "[('test', 0.7216367555166444), ('testing', 0.14176700371219494), ('new', 0.09838490255720748), ('section', 0.08352646220006665), ('shot', 0.08100971640696855), ('stickk', 0.0709029538207445), ('stakes', 0.06487735550875146), ('08', 0.06264484665004999), ('draft', 0.06075728730522641), ('religion', 0.05073149468099748)]\n",
      "--------------------------------------------------\n",
      "0\n",
      "[('exercise', 0.333185302976463), ('days', 0.31693537010163625), ('regularly', 0.2906961895719054), ('week', 0.10742227617379084), ('running', 0.041593461867919373), ('proper', 0.03368351272857556), ('firefox', 0.03368351272857556), ('place', 0.031485869866200694), ('reporting', 0.02871716729836334), ('items', 0.026893469538898773)]\n",
      "--------------------------------------------------\n",
      "4\n",
      "[('day', 0.43917768560441217), ('exercise', 0.35791958311008687), ('regularly', 0.3170805061397015), ('week', 0.11037960103522992), ('fart', 0.05427605326132918), ('basis', 0.05427605326132918), ('daily', 0.03558551908232245), ('work', 0.02652012461200215), ('edutainment', 0.0), ('employed', 0.0)]\n",
      "--------------------------------------------------\n",
      "6\n",
      "[('exercise', 0.36809993053387674), ('days', 0.3395366403701797), ('regularly', 0.3162174672008346), ('week', 0.11695911454277357), ('times', 0.043708487915696474), ('commit', 0.017703662038327603), ('employed', 0.0), ('editing', 0.0), ('editorial', 0.0), ('edits', 0.0)]\n",
      "--------------------------------------------------\n",
      "34\n",
      "[('sleep', 0.24211217297438037), ('bed', 0.23909258626682597), ('lights', 0.14690097740012267), ('night', 0.1308593980809763), ('11', 0.1274274594602002), ('wake', 0.11316758101682348), ('30', 0.10029686913658117), ('00', 0.09998688878998206), ('11pm', 0.0862918137874273), ('bedtime', 0.07194085886465468)]\n",
      "--------------------------------------------------\n",
      "38\n",
      "[('online', 0.2366151219859746), ('poker', 0.20677068146812608), ('settlers', 0.17348694661926461), ('play', 0.15401319736211486), ('games', 0.13646791169608347), ('break', 0.1105185546810507), ('chess', 0.10142290984405086), ('computer', 0.10047141334640974), ('gaming', 0.08813722843996348), ('month', 0.08234496115268926)]\n",
      "--------------------------------------------------\n"
     ]
    }
   ],
   "source": [
    "for i in [2,0,4,6,34,38]:\n",
    "    print(i)\n",
    "    print(top_n_words[i][:10])\n",
    "    print(\"-\"*50)"
   ]
  },
  {
   "cell_type": "code",
   "execution_count": 44,
   "metadata": {},
   "outputs": [],
   "source": [
    "for i in range(20):\n",
    "    # Calculate cosine similarity\n",
    "    similarities = cosine_similarity(tf_idf.T)\n",
    "    np.fill_diagonal(similarities, 0)\n",
    "\n",
    "    # Extract label to merge into and from where\n",
    "    topic_sizes = docs_df.groupby(['Topic']).count().sort_values(\"Doc\", ascending=False).reset_index()\n",
    "    topic_to_merge = topic_sizes.iloc[-1].Topic\n",
    "    topic_to_merge_into = np.argmax(similarities[topic_to_merge + 1]) - 1\n",
    "\n",
    "    # Adjust topics\n",
    "    docs_df.loc[docs_df.Topic == topic_to_merge, \"Topic\"] = topic_to_merge_into\n",
    "    old_topics = docs_df.sort_values(\"Topic\").Topic.unique()\n",
    "    map_topics = {old_topic: index - 1 for index, old_topic in enumerate(old_topics)}\n",
    "    docs_df.Topic = docs_df.Topic.map(map_topics)\n",
    "    docs_per_topic = docs_df.groupby(['Topic'], as_index = False).agg({'Doc': ' '.join})\n",
    "\n",
    "    # Calculate new topic words\n",
    "    m = len(raw_data)\n",
    "    tf_idf, count = c_tf_idf(docs_per_topic.Doc.values, m)\n",
    "    top_n_words = extract_top_n_words_per_topic(tf_idf, count, docs_per_topic, n=20)"
   ]
  },
  {
   "cell_type": "code",
   "execution_count": 48,
   "metadata": {},
   "outputs": [
    {
     "data": {
      "text/html": [
       "<div>\n",
       "<style scoped>\n",
       "    .dataframe tbody tr th:only-of-type {\n",
       "        vertical-align: middle;\n",
       "    }\n",
       "\n",
       "    .dataframe tbody tr th {\n",
       "        vertical-align: top;\n",
       "    }\n",
       "\n",
       "    .dataframe thead th {\n",
       "        text-align: right;\n",
       "    }\n",
       "</style>\n",
       "<table border=\"1\" class=\"dataframe\">\n",
       "  <thead>\n",
       "    <tr style=\"text-align: right;\">\n",
       "      <th></th>\n",
       "      <th>Topic</th>\n",
       "      <th>Size</th>\n",
       "    </tr>\n",
       "  </thead>\n",
       "  <tbody>\n",
       "    <tr>\n",
       "      <th>0</th>\n",
       "      <td>-1</td>\n",
       "      <td>219</td>\n",
       "    </tr>\n",
       "    <tr>\n",
       "      <th>3</th>\n",
       "      <td>2</td>\n",
       "      <td>75</td>\n",
       "    </tr>\n",
       "    <tr>\n",
       "      <th>1</th>\n",
       "      <td>0</td>\n",
       "      <td>72</td>\n",
       "    </tr>\n",
       "    <tr>\n",
       "      <th>16</th>\n",
       "      <td>15</td>\n",
       "      <td>60</td>\n",
       "    </tr>\n",
       "    <tr>\n",
       "      <th>8</th>\n",
       "      <td>7</td>\n",
       "      <td>56</td>\n",
       "    </tr>\n",
       "    <tr>\n",
       "      <th>5</th>\n",
       "      <td>4</td>\n",
       "      <td>46</td>\n",
       "    </tr>\n",
       "    <tr>\n",
       "      <th>6</th>\n",
       "      <td>5</td>\n",
       "      <td>46</td>\n",
       "    </tr>\n",
       "    <tr>\n",
       "      <th>4</th>\n",
       "      <td>3</td>\n",
       "      <td>35</td>\n",
       "    </tr>\n",
       "    <tr>\n",
       "      <th>20</th>\n",
       "      <td>19</td>\n",
       "      <td>31</td>\n",
       "    </tr>\n",
       "    <tr>\n",
       "      <th>24</th>\n",
       "      <td>23</td>\n",
       "      <td>30</td>\n",
       "    </tr>\n",
       "  </tbody>\n",
       "</table>\n",
       "</div>"
      ],
      "text/plain": [
       "    Topic  Size\n",
       "0      -1   219\n",
       "3       2    75\n",
       "1       0    72\n",
       "16     15    60\n",
       "8       7    56\n",
       "5       4    46\n",
       "6       5    46\n",
       "4       3    35\n",
       "20     19    31\n",
       "24     23    30"
      ]
     },
     "execution_count": 48,
     "metadata": {},
     "output_type": "execute_result"
    }
   ],
   "source": [
    "topic_sizes = extract_topic_sizes(docs_df)\n",
    "topic_sizes.head(10)"
   ]
  },
  {
   "cell_type": "code",
   "execution_count": 52,
   "metadata": {},
   "outputs": [
    {
     "name": "stdout",
     "output_type": "stream",
     "text": [
      "2\n",
      "[('test', 0.7216367555166444), ('testing', 0.14176700371219494), ('new', 0.09838490255720748), ('section', 0.08352646220006665), ('shot', 0.08100971640696855), ('stickk', 0.0709029538207445), ('stakes', 0.06487735550875146), ('08', 0.06264484665004999), ('draft', 0.06075728730522641), ('religion', 0.05073149468099748)]\n",
      "--------------------------------------------------\n",
      "0\n",
      "[('exercise', 0.333185302976463), ('days', 0.31693537010163625), ('regularly', 0.2906961895719054), ('week', 0.10742227617379084), ('running', 0.041593461867919373), ('proper', 0.03368351272857556), ('firefox', 0.03368351272857556), ('place', 0.031485869866200694), ('reporting', 0.02871716729836334), ('items', 0.026893469538898773)]\n",
      "--------------------------------------------------\n",
      "15\n",
      "[('lose', 0.28245024804099084), ('weight', 0.21630551838940978), ('lbs', 0.21504266553458246), ('15', 0.16320540173125198), ('17', 0.1165338502889862), ('16', 0.10848537747251172), ('12', 0.1072981440816842), ('22', 0.09519731650621378), ('18', 0.09322708023118897), ('week', 0.08758155917236267)]\n",
      "--------------------------------------------------\n",
      "7\n",
      "[('lose', 0.2903063175214878), ('lbs', 0.25051898336104234), ('weight', 0.2182796235116078), ('50', 0.15090896055281186), ('13', 0.12372666443078634), ('week', 0.08838086936037641), ('35', 0.07872085788013833), ('30', 0.07017923378901521), ('25', 0.05890550650630137), ('26', 0.04026094616791383)]\n",
      "--------------------------------------------------\n",
      "4\n",
      "[('day', 0.43917768560441217), ('exercise', 0.35791958311008687), ('regularly', 0.3170805061397015), ('week', 0.11037960103522992), ('fart', 0.05427605326132918), ('basis', 0.05427605326132918), ('daily', 0.03558551908232245), ('work', 0.02652012461200215), ('edutainment', 0.0), ('employed', 0.0)]\n",
      "--------------------------------------------------\n",
      "5\n",
      "[('exercise', 0.3693500086678737), ('days', 0.34369852537471723), ('regularly', 0.3200935164351121), ('week', 0.11638084305859911), ('times', 0.0314625753531091), ('commit', 0.012743584312072025), ('employed', 0.0), ('editing', 0.0), ('editorial', 0.0), ('edits', 0.0)]\n",
      "--------------------------------------------------\n",
      "3\n",
      "[('10', 0.5289084328327637), ('lose', 0.2750707100676011), ('weight', 0.21065413448063458), ('lbs', 0.1988484662844705), ('kgs', 0.09482108998953276), ('week', 0.0878019553689329), ('14', 0.0433348919644264), ('16', 0.033333736468330315), ('curse', 0.02713802663066459), ('cursing', 0.025367436638925885)]\n",
      "--------------------------------------------------\n",
      "19\n",
      "[('sleep', 0.24211217297438037), ('bed', 0.23909258626682597), ('lights', 0.14690097740012267), ('night', 0.1308593980809763), ('11', 0.1274274594602002), ('wake', 0.11316758101682348), ('30', 0.10029686913658117), ('00', 0.09998688878998206), ('11pm', 0.0862918137874273), ('bedtime', 0.07194085886465468)]\n",
      "--------------------------------------------------\n",
      "23\n",
      "[('online', 0.2366151219859746), ('poker', 0.20677068146812608), ('settlers', 0.17348694661926461), ('play', 0.15401319736211486), ('games', 0.13646791169608347), ('break', 0.1105185546810507), ('chess', 0.10142290984405086), ('computer', 0.10047141334640974), ('gaming', 0.08813722843996348), ('month', 0.08234496115268926)]\n",
      "--------------------------------------------------\n"
     ]
    }
   ],
   "source": [
    "for i in [2,0,15,7,4,5,3,19,23]:\n",
    "    print(i)\n",
    "    print(top_n_words[i][:10])\n",
    "    print(\"-\"*50)"
   ]
  },
  {
   "cell_type": "code",
   "execution_count": null,
   "metadata": {},
   "outputs": [],
   "source": []
  }
 ],
 "metadata": {
  "kernelspec": {
   "display_name": "Python (stickk)",
   "language": "python",
   "name": "stickk"
  },
  "language_info": {
   "codemirror_mode": {
    "name": "ipython",
    "version": 3
   },
   "file_extension": ".py",
   "mimetype": "text/x-python",
   "name": "python",
   "nbconvert_exporter": "python",
   "pygments_lexer": "ipython3",
   "version": "3.10.4"
  }
 },
 "nbformat": 4,
 "nbformat_minor": 2
}
