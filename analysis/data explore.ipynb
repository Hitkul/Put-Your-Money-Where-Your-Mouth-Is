{
 "cells": [
  {
   "cell_type": "code",
   "execution_count": 1,
   "id": "a6355d26",
   "metadata": {},
   "outputs": [],
   "source": [
    "import json\n",
    "from collections import Counter, defaultdict\n",
    "import random\n",
    "import os"
   ]
  },
  {
   "cell_type": "code",
   "execution_count": 2,
   "id": "847019f2",
   "metadata": {},
   "outputs": [],
   "source": [
    "commitment_index = json.load(open(f\"../data/commitment_index.json\",'r'))"
   ]
  },
  {
   "cell_type": "code",
   "execution_count": 3,
   "id": "88e8ee2d",
   "metadata": {},
   "outputs": [
    {
     "data": {
      "text/plain": [
       "603"
      ]
     },
     "execution_count": 3,
     "metadata": {},
     "output_type": "execute_result"
    }
   ],
   "source": [
    "len(commitment_index)"
   ]
  },
  {
   "cell_type": "code",
   "execution_count": 4,
   "id": "ae3a25f6",
   "metadata": {},
   "outputs": [],
   "source": [
    "keys_count = defaultdict(list)"
   ]
  },
  {
   "cell_type": "code",
   "execution_count": 5,
   "id": "22a9d9b2",
   "metadata": {},
   "outputs": [],
   "source": [
    "for k,v in commitment_index.items():\n",
    "    for vk,vv in v.items():\n",
    "        keys_count[vk].append(k)"
   ]
  },
  {
   "cell_type": "code",
   "execution_count": 6,
   "id": "49efa0a8",
   "metadata": {},
   "outputs": [
    {
     "name": "stdout",
     "output_type": "stream",
     "text": [
      "user_id 603\n",
      "start_date 603\n",
      "start_end 603\n",
      "title 603\n",
      "description 603\n",
      "type_of_stake 603\n",
      "stake_per_period 603\n",
      "total_stake 603\n",
      "length_in_days 603\n",
      "self_refree 603\n",
      "no_of_supporters 603\n",
      "no_of_photos 603\n",
      "no_of_posts 603\n",
      "no_of_reports 603\n",
      "sucessful 603\n",
      "not_sucessful 603\n",
      "not_reported 603\n",
      "days_per_reporting 603\n"
     ]
    }
   ],
   "source": [
    "for k,v in keys_count.items():\n",
    "    print(k,len(v))"
   ]
  },
  {
   "cell_type": "code",
   "execution_count": 73,
   "id": "5451b150",
   "metadata": {},
   "outputs": [],
   "source": [
    "key_to_check = 'days_per_reporting'"
   ]
  },
  {
   "cell_type": "code",
   "execution_count": 74,
   "id": "ed02d4f2",
   "metadata": {},
   "outputs": [
    {
     "name": "stdout",
     "output_type": "stream",
     "text": [
      "399881 317.0\n",
      "913365 7.0\n",
      "123620 7.0\n",
      "735906 7.0\n",
      "314763 7.0\n",
      "647682 7.0\n",
      "640059 7.0\n",
      "215438 7.0\n",
      "423245 7.0\n",
      "763361 7.0\n"
     ]
    }
   ],
   "source": [
    "for _ in range(10):\n",
    "    c_id = random.choice(list(commitment_index.keys()))\n",
    "    \n",
    "    print(c_id,commitment_index[c_id][key_to_check])"
   ]
  },
  {
   "cell_type": "code",
   "execution_count": 75,
   "id": "ddf2920f",
   "metadata": {},
   "outputs": [],
   "source": [
    "raw_data = []\n",
    "for k,v in commitment_index.items():\n",
    "    raw_data.append(v[key_to_check])"
   ]
  },
  {
   "cell_type": "code",
   "execution_count": 76,
   "id": "b2f7026c",
   "metadata": {},
   "outputs": [
    {
     "data": {
      "text/plain": [
       "Counter({7.0: 423,\n",
       "         2.0: 68,\n",
       "         3.0: 13,\n",
       "         1.0: 13,\n",
       "         35.0: 12,\n",
       "         32.0: 10,\n",
       "         5.0: 8,\n",
       "         6.0: 5,\n",
       "         4.0: 4,\n",
       "         13.0: 3,\n",
       "         30.0: 3,\n",
       "         21.0: 3,\n",
       "         31.0: 3,\n",
       "         130.0: 2,\n",
       "         94.0: 2,\n",
       "         117.0: 1,\n",
       "         106.0: 1,\n",
       "         20.0: 1,\n",
       "         114.0: 1,\n",
       "         172.0: 1,\n",
       "         0.0: 1,\n",
       "         14.0: 1,\n",
       "         10.0: 1,\n",
       "         317.0: 1,\n",
       "         98.0: 1,\n",
       "         33.0: 1,\n",
       "         91.0: 1,\n",
       "         12.0: 1,\n",
       "         84.0: 1,\n",
       "         25.0: 1,\n",
       "         34.0: 1,\n",
       "         24.0: 1,\n",
       "         36.0: 1,\n",
       "         19.0: 1,\n",
       "         180.0: 1,\n",
       "         42.0: 1,\n",
       "         23.0: 1,\n",
       "         412.0: 1,\n",
       "         213.0: 1,\n",
       "         28.0: 1,\n",
       "         99.0: 1,\n",
       "         26.0: 1,\n",
       "         112.0: 1,\n",
       "         15.0: 1,\n",
       "         72.0: 1,\n",
       "         11.0: 1})"
      ]
     },
     "execution_count": 76,
     "metadata": {},
     "output_type": "execute_result"
    }
   ],
   "source": [
    "Counter(raw_data)"
   ]
  },
  {
   "cell_type": "code",
   "execution_count": 84,
   "id": "d259eb9b",
   "metadata": {},
   "outputs": [
    {
     "name": "stdout",
     "output_type": "stream",
     "text": [
      "429172\n"
     ]
    }
   ],
   "source": [
    "for k,v in commitment_index.items():\n",
    "    if v[key_to_check] == 412.0:\n",
    "        print(k)"
   ]
  },
  {
   "cell_type": "code",
   "execution_count": null,
   "id": "00c0bb9a",
   "metadata": {},
   "outputs": [],
   "source": []
  },
  {
   "cell_type": "code",
   "execution_count": null,
   "id": "3b1512d2",
   "metadata": {},
   "outputs": [],
   "source": []
  },
  {
   "cell_type": "code",
   "execution_count": null,
   "id": "6994ca15",
   "metadata": {},
   "outputs": [],
   "source": []
  },
  {
   "cell_type": "code",
   "execution_count": null,
   "id": "dbf31ee8",
   "metadata": {},
   "outputs": [],
   "source": [
    "no_unique_counter = 0"
   ]
  },
  {
   "cell_type": "code",
   "execution_count": null,
   "id": "d03843f5",
   "metadata": {},
   "outputs": [],
   "source": [
    "report_count = defaultdict(set)"
   ]
  },
  {
   "cell_type": "code",
   "execution_count": null,
   "id": "54309b7b",
   "metadata": {},
   "outputs": [],
   "source": [
    "check_keys = len(report_count.keys())"
   ]
  },
  {
   "cell_type": "code",
   "execution_count": null,
   "id": "f3207fb2",
   "metadata": {
    "scrolled": false
   },
   "outputs": [],
   "source": [
    "while no_unique_counter<10000:\n",
    "    if no_unique_counter%100==0:\n",
    "        print(no_unique_counter)\n",
    "    user_id = random.randint(1, 600564)\n",
    "    \n",
    "    if os.path.exists(f'../data/users/{user_id}/completed.json'):\n",
    "        commitments = os.listdir(f\"../data/users/{user_id}/completed_commitments/\")\n",
    "        \n",
    "        for i in commitments:\n",
    "            reports = json.load(open(f'../data/users/{user_id}/completed_commitments/{i}/reports.json','r'))\n",
    "            \n",
    "            for r in reports:\n",
    "                for k in r.keys():\n",
    "                    report_count[k].add((i,user_id))\n",
    "    \n",
    "\n",
    "    if check_keys == len(report_count.keys()):\n",
    "        no_unique_counter+=1\n",
    "    else:\n",
    "        check_keys = len(report_count.keys())\n",
    "        no_unique_counter=0  "
   ]
  },
  {
   "cell_type": "code",
   "execution_count": null,
   "id": "e9b90bc2",
   "metadata": {},
   "outputs": [],
   "source": [
    "check_keys"
   ]
  },
  {
   "cell_type": "code",
   "execution_count": null,
   "id": "4fe6fe78",
   "metadata": {},
   "outputs": [],
   "source": [
    "no_unique_counter"
   ]
  },
  {
   "cell_type": "code",
   "execution_count": null,
   "id": "4dfe81be",
   "metadata": {},
   "outputs": [],
   "source": [
    "report_count.keys()"
   ]
  },
  {
   "cell_type": "code",
   "execution_count": null,
   "id": "d3de6e42",
   "metadata": {},
   "outputs": [],
   "source": [
    "for k,v in report_count.items():\n",
    "    print(k,len(v))"
   ]
  },
  {
   "cell_type": "code",
   "execution_count": null,
   "id": "31a0d10f",
   "metadata": {},
   "outputs": [],
   "source": []
  }
 ],
 "metadata": {
  "kernelspec": {
   "display_name": "Python (stickk)",
   "language": "python",
   "name": "stickk"
  },
  "language_info": {
   "codemirror_mode": {
    "name": "ipython",
    "version": 3
   },
   "file_extension": ".py",
   "mimetype": "text/x-python",
   "name": "python",
   "nbconvert_exporter": "python",
   "pygments_lexer": "ipython3",
   "version": "3.10.4"
  }
 },
 "nbformat": 4,
 "nbformat_minor": 5
}
