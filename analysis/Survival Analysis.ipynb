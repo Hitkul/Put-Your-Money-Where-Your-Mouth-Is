{
 "cells": [
  {
   "cell_type": "code",
   "execution_count": 127,
   "id": "df5ce1ad",
   "metadata": {},
   "outputs": [],
   "source": [
    "import json\n",
    "import pandas as pd\n",
    "import numpy as np\n",
    "from tqdm.notebook import tqdm\n",
    "from datetime import datetime,timedelta\n",
    "import matplotlib.pyplot as plt\n",
    "%matplotlib inline\n",
    "from lifelines import KaplanMeierFitter\n",
    "from lifelines.statistics import logrank_test\n",
    "from lifelines import CoxPHFitter"
   ]
  },
  {
   "cell_type": "code",
   "execution_count": 2,
   "id": "a60983f5",
   "metadata": {},
   "outputs": [],
   "source": [
    "user_index = json.load(open(\"../data/user_index.json\",'r'))\n",
    "commitment_index = json.load(open(\"../data/commitment_index.json\",'r'))"
   ]
  },
  {
   "cell_type": "code",
   "execution_count": 3,
   "id": "295d8494",
   "metadata": {},
   "outputs": [],
   "source": [
    "max_user_id = max([int(i) for i in user_index.keys()])"
   ]
  },
  {
   "cell_type": "code",
   "execution_count": 4,
   "id": "96304a54",
   "metadata": {},
   "outputs": [
    {
     "data": {
      "application/vnd.jupyter.widget-view+json": {
       "model_id": "74b182b02c8b4e3b95a14948584eb2c7",
       "version_major": 2,
       "version_minor": 0
      },
      "text/plain": [
       "  0%|          | 0/521632 [00:00<?, ?it/s]"
      ]
     },
     "metadata": {},
     "output_type": "display_data"
    }
   ],
   "source": [
    "for k,v in tqdm(user_index.items()):\n",
    "    user_index[k]['date'] = datetime.strptime(v['date'], '%d %b %Y')"
   ]
  },
  {
   "cell_type": "code",
   "execution_count": 5,
   "id": "bfb9709a",
   "metadata": {},
   "outputs": [
    {
     "data": {
      "application/vnd.jupyter.widget-view+json": {
       "model_id": "cbd1325d6b13493d92ab6bc375d6044c",
       "version_major": 2,
       "version_minor": 0
      },
      "text/plain": [
       "  0%|          | 0/521632 [00:00<?, ?it/s]"
      ]
     },
     "metadata": {},
     "output_type": "display_data"
    }
   ],
   "source": [
    "id_for_1_jan_2023 = 722621\n",
    "for k,v in tqdm(user_index.items()):\n",
    "    if int(k)<id_for_1_jan_2023 and v['date'].year == 2023:\n",
    "        user_index[k]['date'] = None"
   ]
  },
  {
   "cell_type": "code",
   "execution_count": 6,
   "id": "f6c7185a",
   "metadata": {},
   "outputs": [],
   "source": [
    "last_date = user_index['1']['date']\n",
    "for i in range(1, max_user_id+1):\n",
    "    if str(i) in user_index.keys():\n",
    "        if user_index[str(i)]['date'] == None:\n",
    "            user_index[str(i)]['date'] = last_date\n",
    "        else:\n",
    "            last_date = user_index[str(i)]['date']"
   ]
  },
  {
   "cell_type": "code",
   "execution_count": 7,
   "id": "8b59e34a",
   "metadata": {},
   "outputs": [
    {
     "data": {
      "application/vnd.jupyter.widget-view+json": {
       "model_id": "1bed3e7c3b14483d8d3be422bddbc585",
       "version_major": 2,
       "version_minor": 0
      },
      "text/plain": [
       "  0%|          | 0/319928 [00:00<?, ?it/s]"
      ]
     },
     "metadata": {},
     "output_type": "display_data"
    }
   ],
   "source": [
    "for k,v in tqdm(commitment_index.items()):\n",
    "    commitment_index[k]['start_date'] = datetime.strptime(v['start_date'], '%B %d, %Y')\n",
    "    commitment_index[k]['end_date'] = datetime.strptime(v['end_date'], '%B %d, %Y')"
   ]
  },
  {
   "cell_type": "code",
   "execution_count": 8,
   "id": "0c791684",
   "metadata": {},
   "outputs": [
    {
     "data": {
      "application/vnd.jupyter.widget-view+json": {
       "model_id": "8bac22c2b804417caf5353bff9d888d7",
       "version_major": 2,
       "version_minor": 0
      },
      "text/plain": [
       "  0%|          | 0/319928 [00:00<?, ?it/s]"
      ]
     },
     "metadata": {},
     "output_type": "display_data"
    }
   ],
   "source": [
    "for k,v in tqdm(commitment_index.items()):\n",
    "    if v['start_date'].year < 2007:\n",
    "        deta = v['end_date'] - v['start_date']\n",
    "        commitment_index[k]['start_date'] = user_index[str(v['user_id'])]['date']\n",
    "        commitment_index[k]['end_date'] = commitment_index[k]['start_date'] + deta"
   ]
  },
  {
   "cell_type": "code",
   "execution_count": 11,
   "id": "77fa98dc",
   "metadata": {},
   "outputs": [
    {
     "data": {
      "text/plain": [
       "{'user_id': 1,\n",
       " 'start_date': datetime.datetime(2015, 4, 1, 0, 0),\n",
       " 'end_date': datetime.datetime(2015, 7, 22, 0, 0),\n",
       " 'title': 'Something',\n",
       " 'description': 'Finishing Project Condore (X11/Griffon)',\n",
       " 'type_of_stake': 'No stakes',\n",
       " 'stake_per_period': 0.0,\n",
       " 'total_stake': 0.0,\n",
       " 'length_in_days': 112,\n",
       " 'self_refree': True,\n",
       " 'no_of_supporters': 0,\n",
       " 'no_of_photos': 0,\n",
       " 'no_of_posts': 0,\n",
       " 'no_of_reports': 16,\n",
       " 'sucessful': 0,\n",
       " 'not_sucessful': 0,\n",
       " 'not_reported': 16,\n",
       " 'days_per_reporting': 7.0}"
      ]
     },
     "execution_count": 11,
     "metadata": {},
     "output_type": "execute_result"
    }
   ],
   "source": []
  },
  {
   "cell_type": "code",
   "execution_count": 97,
   "id": "154fcb69",
   "metadata": {},
   "outputs": [
    {
     "data": {
      "application/vnd.jupyter.widget-view+json": {
       "model_id": "4ae233dff6b242ddbcc767cf8dd51cad",
       "version_major": 2,
       "version_minor": 0
      },
      "text/plain": [
       "  0%|          | 0/319928 [00:00<?, ?it/s]"
      ]
     },
     "metadata": {},
     "output_type": "display_data"
    }
   ],
   "source": [
    "lifeline_raw_data = []\n",
    "for k,v in tqdm(commitment_index.items()):\n",
    "    ratio = v['sucessful']*100/v['no_of_reports']\n",
    "    sample = [ratio]\n",
    "    if ratio == 100.0:\n",
    "        sample.append(0)\n",
    "    else:\n",
    "        sample.append(1)\n",
    "    \n",
    "    if \"_reverted\" in v['type_of_stake']:\n",
    "        sample.append('No stakes')\n",
    "    else:\n",
    "        sample.append(v['type_of_stake'])\n",
    "    sample.append(v['self_refree'])\n",
    "        \n",
    "    lifeline_raw_data.append(sample)"
   ]
  },
  {
   "cell_type": "code",
   "execution_count": 98,
   "id": "bbf678cf",
   "metadata": {},
   "outputs": [],
   "source": [
    "lifeline_df = pd.DataFrame(lifeline_raw_data,columns=['success_percentage','observed','type of stake','self refree'])"
   ]
  },
  {
   "cell_type": "code",
   "execution_count": 99,
   "id": "4d4c5c49",
   "metadata": {},
   "outputs": [
    {
     "data": {
      "text/html": [
       "<div>\n",
       "<style scoped>\n",
       "    .dataframe tbody tr th:only-of-type {\n",
       "        vertical-align: middle;\n",
       "    }\n",
       "\n",
       "    .dataframe tbody tr th {\n",
       "        vertical-align: top;\n",
       "    }\n",
       "\n",
       "    .dataframe thead th {\n",
       "        text-align: right;\n",
       "    }\n",
       "</style>\n",
       "<table border=\"1\" class=\"dataframe\">\n",
       "  <thead>\n",
       "    <tr style=\"text-align: right;\">\n",
       "      <th></th>\n",
       "      <th>success_percentage</th>\n",
       "      <th>observed</th>\n",
       "      <th>type of stake</th>\n",
       "      <th>self refree</th>\n",
       "    </tr>\n",
       "  </thead>\n",
       "  <tbody>\n",
       "    <tr>\n",
       "      <th>0</th>\n",
       "      <td>0.0</td>\n",
       "      <td>1</td>\n",
       "      <td>No stakes</td>\n",
       "      <td>True</td>\n",
       "    </tr>\n",
       "    <tr>\n",
       "      <th>1</th>\n",
       "      <td>0.0</td>\n",
       "      <td>1</td>\n",
       "      <td>No stakes</td>\n",
       "      <td>True</td>\n",
       "    </tr>\n",
       "    <tr>\n",
       "      <th>2</th>\n",
       "      <td>0.0</td>\n",
       "      <td>1</td>\n",
       "      <td>No stakes</td>\n",
       "      <td>True</td>\n",
       "    </tr>\n",
       "    <tr>\n",
       "      <th>3</th>\n",
       "      <td>0.0</td>\n",
       "      <td>1</td>\n",
       "      <td>No stakes</td>\n",
       "      <td>True</td>\n",
       "    </tr>\n",
       "    <tr>\n",
       "      <th>4</th>\n",
       "      <td>0.0</td>\n",
       "      <td>1</td>\n",
       "      <td>No stakes</td>\n",
       "      <td>True</td>\n",
       "    </tr>\n",
       "    <tr>\n",
       "      <th>...</th>\n",
       "      <td>...</td>\n",
       "      <td>...</td>\n",
       "      <td>...</td>\n",
       "      <td>...</td>\n",
       "    </tr>\n",
       "    <tr>\n",
       "      <th>319923</th>\n",
       "      <td>0.0</td>\n",
       "      <td>1</td>\n",
       "      <td>No stakes</td>\n",
       "      <td>True</td>\n",
       "    </tr>\n",
       "    <tr>\n",
       "      <th>319924</th>\n",
       "      <td>0.0</td>\n",
       "      <td>1</td>\n",
       "      <td>No stakes</td>\n",
       "      <td>False</td>\n",
       "    </tr>\n",
       "    <tr>\n",
       "      <th>319925</th>\n",
       "      <td>0.0</td>\n",
       "      <td>1</td>\n",
       "      <td>No stakes</td>\n",
       "      <td>True</td>\n",
       "    </tr>\n",
       "    <tr>\n",
       "      <th>319926</th>\n",
       "      <td>0.0</td>\n",
       "      <td>1</td>\n",
       "      <td>No stakes</td>\n",
       "      <td>True</td>\n",
       "    </tr>\n",
       "    <tr>\n",
       "      <th>319927</th>\n",
       "      <td>0.0</td>\n",
       "      <td>1</td>\n",
       "      <td>No stakes</td>\n",
       "      <td>True</td>\n",
       "    </tr>\n",
       "  </tbody>\n",
       "</table>\n",
       "<p>319928 rows × 4 columns</p>\n",
       "</div>"
      ],
      "text/plain": [
       "        success_percentage  observed type of stake  self refree\n",
       "0                      0.0         1     No stakes         True\n",
       "1                      0.0         1     No stakes         True\n",
       "2                      0.0         1     No stakes         True\n",
       "3                      0.0         1     No stakes         True\n",
       "4                      0.0         1     No stakes         True\n",
       "...                    ...       ...           ...          ...\n",
       "319923                 0.0         1     No stakes         True\n",
       "319924                 0.0         1     No stakes        False\n",
       "319925                 0.0         1     No stakes         True\n",
       "319926                 0.0         1     No stakes         True\n",
       "319927                 0.0         1     No stakes         True\n",
       "\n",
       "[319928 rows x 4 columns]"
      ]
     },
     "execution_count": 99,
     "metadata": {},
     "output_type": "execute_result"
    }
   ],
   "source": [
    "lifeline_df"
   ]
  },
  {
   "cell_type": "code",
   "execution_count": 100,
   "id": "2f1f30e3",
   "metadata": {},
   "outputs": [],
   "source": [
    "lifeline_df = lifeline_df[lifeline_df['success_percentage']>0.0]"
   ]
  },
  {
   "cell_type": "code",
   "execution_count": 101,
   "id": "e81ea820",
   "metadata": {},
   "outputs": [
    {
     "data": {
      "text/plain": [
       "observed\n",
       "1    92298\n",
       "0    65116\n",
       "Name: count, dtype: int64"
      ]
     },
     "execution_count": 101,
     "metadata": {},
     "output_type": "execute_result"
    }
   ],
   "source": [
    "lifeline_df['observed'].value_counts()"
   ]
  },
  {
   "cell_type": "code",
   "execution_count": 102,
   "id": "fea3bb11",
   "metadata": {},
   "outputs": [
    {
     "data": {
      "text/plain": [
       "type of stake\n",
       "No stakes            66978\n",
       "Anti-charity         49082\n",
       "Charity              20891\n",
       "Money to a friend    16678\n",
       "stickK                3785\n",
       "Name: count, dtype: int64"
      ]
     },
     "execution_count": 102,
     "metadata": {},
     "output_type": "execute_result"
    }
   ],
   "source": [
    "lifeline_df['type of stake'].value_counts()"
   ]
  },
  {
   "cell_type": "code",
   "execution_count": 103,
   "id": "caa9c414",
   "metadata": {},
   "outputs": [
    {
     "data": {
      "text/plain": [
       "self refree\n",
       "True     108927\n",
       "False     48487\n",
       "Name: count, dtype: int64"
      ]
     },
     "execution_count": 103,
     "metadata": {},
     "output_type": "execute_result"
    }
   ],
   "source": [
    "lifeline_df['self refree'].value_counts()"
   ]
  },
  {
   "cell_type": "markdown",
   "id": "9a4c38b2",
   "metadata": {},
   "source": [
    "# Survival Analysis"
   ]
  },
  {
   "cell_type": "markdown",
   "id": "f987a584",
   "metadata": {},
   "source": [
    "Full curve"
   ]
  },
  {
   "cell_type": "code",
   "execution_count": 104,
   "id": "2d23f5b4",
   "metadata": {},
   "outputs": [],
   "source": [
    "kmf = KaplanMeierFitter()"
   ]
  },
  {
   "cell_type": "code",
   "execution_count": 105,
   "id": "7449d2f4",
   "metadata": {},
   "outputs": [],
   "source": [
    "T = lifeline_df['success_percentage']\n",
    "E = lifeline_df['observed']"
   ]
  },
  {
   "cell_type": "code",
   "execution_count": 106,
   "id": "e1098000",
   "metadata": {},
   "outputs": [
    {
     "data": {
      "text/plain": [
       "<lifelines.KaplanMeierFitter:\"KM_estimate\", fitted with 157414 total observations, 65116 right-censored observations>"
      ]
     },
     "execution_count": 106,
     "metadata": {},
     "output_type": "execute_result"
    }
   ],
   "source": [
    "kmf.fit(T, event_observed=E)"
   ]
  },
  {
   "cell_type": "code",
   "execution_count": 107,
   "id": "a970c368",
   "metadata": {},
   "outputs": [
    {
     "data": {
      "text/plain": [
       "<Axes: xlabel='timeline'>"
      ]
     },
     "execution_count": 107,
     "metadata": {},
     "output_type": "execute_result"
    },
    {
     "data": {
      "image/png": "[encoded data removed]",
      "text/plain": [
       "<Figure size 640x480 with 1 Axes>"
      ]
     },
     "metadata": {},
     "output_type": "display_data"
    }
   ],
   "source": [
    "kmf.plot_survival_function()"
   ]
  },
  {
   "cell_type": "markdown",
   "id": "1ecede91",
   "metadata": {},
   "source": [
    "Self refree"
   ]
  },
  {
   "cell_type": "code",
   "execution_count": 108,
   "id": "eeaf0fb4",
   "metadata": {},
   "outputs": [
    {
     "data": {
      "text/plain": [
       "<Axes: xlabel='timeline'>"
      ]
     },
     "execution_count": 108,
     "metadata": {},
     "output_type": "execute_result"
    },
    {
     "data": {
      "image/png": "[encoded data removed]",
      "text/plain": [
       "<Figure size 640x480 with 1 Axes>"
      ]
     },
     "metadata": {},
     "output_type": "display_data"
    }
   ],
   "source": [
    "kmf = KaplanMeierFitter()\n",
    "ax = plt.subplot(111)\n",
    "\n",
    "self_ref_df = (lifeline_df['self refree']==True)\n",
    "\n",
    "kmf.fit(T[self_ref_df], event_observed=E[self_ref_df], label=\"Self Refree\")\n",
    "kmf.plot_survival_function(ax=ax)\n",
    "\n",
    "kmf.fit(T[~self_ref_df], event_observed=E[~self_ref_df], label=\"Other Refree\")\n",
    "kmf.plot_survival_function(ax=ax)"
   ]
  },
  {
   "cell_type": "code",
   "execution_count": 109,
   "id": "e9e2f2f8",
   "metadata": {},
   "outputs": [
    {
     "data": {
      "text/html": [
       "<div>\n",
       "<style scoped>\n",
       "    .dataframe tbody tr th:only-of-type {\n",
       "        vertical-align: middle;\n",
       "    }\n",
       "\n",
       "    .dataframe tbody tr th {\n",
       "        vertical-align: top;\n",
       "    }\n",
       "\n",
       "    .dataframe thead th {\n",
       "        text-align: right;\n",
       "    }\n",
       "</style>\n",
       "<table border=\"1\" class=\"dataframe\">\n",
       "  <tbody>\n",
       "    <tr>\n",
       "      <th>t_0</th>\n",
       "      <td>-1</td>\n",
       "    </tr>\n",
       "    <tr>\n",
       "      <th>null_distribution</th>\n",
       "      <td>chi squared</td>\n",
       "    </tr>\n",
       "    <tr>\n",
       "      <th>degrees_of_freedom</th>\n",
       "      <td>1</td>\n",
       "    </tr>\n",
       "    <tr>\n",
       "      <th>alpha</th>\n",
       "      <td>0.99</td>\n",
       "    </tr>\n",
       "    <tr>\n",
       "      <th>test_name</th>\n",
       "      <td>logrank_test</td>\n",
       "    </tr>\n",
       "  </tbody>\n",
       "</table>\n",
       "</div><table border=\"1\" class=\"dataframe\">\n",
       "  <thead>\n",
       "    <tr style=\"text-align: right;\">\n",
       "      <th></th>\n",
       "      <th>test_statistic</th>\n",
       "      <th>p</th>\n",
       "      <th>-log2(p)</th>\n",
       "    </tr>\n",
       "  </thead>\n",
       "  <tbody>\n",
       "    <tr>\n",
       "      <th>0</th>\n",
       "      <td>292.05</td>\n",
       "      <td>&lt;0.005</td>\n",
       "      <td>215.10</td>\n",
       "    </tr>\n",
       "  </tbody>\n",
       "</table>"
      ],
      "text/latex": [
       "\\begin{tabular}{lrrr}\n",
       " & test_statistic & p & -log2(p) \\\\\n",
       "0 & 292.05 & 0.00 & 215.10 \\\\\n",
       "\\end{tabular}\n"
      ],
      "text/plain": [
       "<lifelines.StatisticalResult: logrank_test>\n",
       "               t_0 = -1\n",
       " null_distribution = chi squared\n",
       "degrees_of_freedom = 1\n",
       "             alpha = 0.99\n",
       "         test_name = logrank_test\n",
       "\n",
       "---\n",
       " test_statistic      p  -log2(p)\n",
       "         292.05 <0.005    215.10"
      ]
     },
     "metadata": {},
     "output_type": "display_data"
    }
   ],
   "source": [
    "results = logrank_test(T[self_ref_df], T[~self_ref_df], E[self_ref_df], E[~self_ref_df], alpha=.99)\n",
    "\n",
    "results.print_summary()"
   ]
  },
  {
   "cell_type": "markdown",
   "id": "8fe438c0",
   "metadata": {},
   "source": [
    "Type of Stake"
   ]
  },
  {
   "cell_type": "code",
   "execution_count": null,
   "id": "73313e37",
   "metadata": {},
   "outputs": [],
   "source": [
    "No stakes            66978\n",
    "Anti-charity         49082\n",
    "Charity              20891\n",
    "Money to a friend    16678\n",
    "stickK                3785"
   ]
  },
  {
   "cell_type": "code",
   "execution_count": 111,
   "id": "5b6f53c7",
   "metadata": {},
   "outputs": [
    {
     "data": {
      "text/plain": [
       "<Axes: xlabel='timeline'>"
      ]
     },
     "execution_count": 111,
     "metadata": {},
     "output_type": "execute_result"
    },
    {
     "data": {
      "image/png": "[encoded data removed]",
      "text/plain": [
       "<Figure size 640x480 with 1 Axes>"
      ]
     },
     "metadata": {},
     "output_type": "display_data"
    }
   ],
   "source": [
    "kmf = KaplanMeierFitter()\n",
    "ax = plt.subplot(111)\n",
    "\n",
    "no_s = (lifeline_df['type of stake']=='No stakes')\n",
    "AC = (lifeline_df['type of stake']=='Anti-charity')\n",
    "C = (lifeline_df['type of stake']=='Charity')\n",
    "MtoF = (lifeline_df['type of stake']=='Money to a friend')\n",
    "S = (lifeline_df['type of stake']=='stickK')\n",
    "\n",
    "kmf.fit(T[no_s], event_observed=E[no_s], label=\"No stakes\")\n",
    "kmf.plot_survival_function(ax=ax)\n",
    "\n",
    "kmf.fit(T[AC], event_observed=E[AC], label=\"Anti-Charity\")\n",
    "kmf.plot_survival_function(ax=ax)\n",
    "\n",
    "kmf.fit(T[MtoF], event_observed=E[MtoF], label=\"Money to Friend\")\n",
    "kmf.plot_survival_function(ax=ax)\n",
    "\n",
    "kmf.fit(T[S], event_observed=E[S], label=\"Stickk\")\n",
    "kmf.plot_survival_function(ax=ax)\n",
    "\n",
    "kmf.fit(T[C], event_observed=E[C], label=\"Charity\")\n",
    "kmf.plot_survival_function(ax=ax)"
   ]
  },
  {
   "cell_type": "code",
   "execution_count": 112,
   "id": "5270c53f",
   "metadata": {},
   "outputs": [
    {
     "data": {
      "text/html": [
       "<div>\n",
       "<style scoped>\n",
       "    .dataframe tbody tr th:only-of-type {\n",
       "        vertical-align: middle;\n",
       "    }\n",
       "\n",
       "    .dataframe tbody tr th {\n",
       "        vertical-align: top;\n",
       "    }\n",
       "\n",
       "    .dataframe thead th {\n",
       "        text-align: right;\n",
       "    }\n",
       "</style>\n",
       "<table border=\"1\" class=\"dataframe\">\n",
       "  <tbody>\n",
       "    <tr>\n",
       "      <th>t_0</th>\n",
       "      <td>-1</td>\n",
       "    </tr>\n",
       "    <tr>\n",
       "      <th>null_distribution</th>\n",
       "      <td>chi squared</td>\n",
       "    </tr>\n",
       "    <tr>\n",
       "      <th>degrees_of_freedom</th>\n",
       "      <td>1</td>\n",
       "    </tr>\n",
       "    <tr>\n",
       "      <th>alpha</th>\n",
       "      <td>0.99</td>\n",
       "    </tr>\n",
       "    <tr>\n",
       "      <th>test_name</th>\n",
       "      <td>logrank_test</td>\n",
       "    </tr>\n",
       "  </tbody>\n",
       "</table>\n",
       "</div><table border=\"1\" class=\"dataframe\">\n",
       "  <thead>\n",
       "    <tr style=\"text-align: right;\">\n",
       "      <th></th>\n",
       "      <th>test_statistic</th>\n",
       "      <th>p</th>\n",
       "      <th>-log2(p)</th>\n",
       "    </tr>\n",
       "  </thead>\n",
       "  <tbody>\n",
       "    <tr>\n",
       "      <th>0</th>\n",
       "      <td>16082.30</td>\n",
       "      <td>&lt;0.005</td>\n",
       "      <td>inf</td>\n",
       "    </tr>\n",
       "  </tbody>\n",
       "</table>"
      ],
      "text/latex": [
       "\\begin{tabular}{lrrr}\n",
       " & test_statistic & p & -log2(p) \\\\\n",
       "0 & 16082.30 & 0.00 & inf \\\\\n",
       "\\end{tabular}\n"
      ],
      "text/plain": [
       "<lifelines.StatisticalResult: logrank_test>\n",
       "               t_0 = -1\n",
       " null_distribution = chi squared\n",
       "degrees_of_freedom = 1\n",
       "             alpha = 0.99\n",
       "         test_name = logrank_test\n",
       "\n",
       "---\n",
       " test_statistic      p  -log2(p)\n",
       "       16082.30 <0.005       inf"
      ]
     },
     "metadata": {},
     "output_type": "display_data"
    }
   ],
   "source": [
    "results = logrank_test(T[no_s], T[C], E[no_s], E[C], alpha=.99)\n",
    "\n",
    "results.print_summary()"
   ]
  },
  {
   "cell_type": "code",
   "execution_count": 113,
   "id": "dd770f64",
   "metadata": {},
   "outputs": [
    {
     "data": {
      "text/html": [
       "<div>\n",
       "<style scoped>\n",
       "    .dataframe tbody tr th:only-of-type {\n",
       "        vertical-align: middle;\n",
       "    }\n",
       "\n",
       "    .dataframe tbody tr th {\n",
       "        vertical-align: top;\n",
       "    }\n",
       "\n",
       "    .dataframe thead th {\n",
       "        text-align: right;\n",
       "    }\n",
       "</style>\n",
       "<table border=\"1\" class=\"dataframe\">\n",
       "  <tbody>\n",
       "    <tr>\n",
       "      <th>t_0</th>\n",
       "      <td>-1</td>\n",
       "    </tr>\n",
       "    <tr>\n",
       "      <th>null_distribution</th>\n",
       "      <td>chi squared</td>\n",
       "    </tr>\n",
       "    <tr>\n",
       "      <th>degrees_of_freedom</th>\n",
       "      <td>1</td>\n",
       "    </tr>\n",
       "    <tr>\n",
       "      <th>alpha</th>\n",
       "      <td>0.99</td>\n",
       "    </tr>\n",
       "    <tr>\n",
       "      <th>test_name</th>\n",
       "      <td>logrank_test</td>\n",
       "    </tr>\n",
       "  </tbody>\n",
       "</table>\n",
       "</div><table border=\"1\" class=\"dataframe\">\n",
       "  <thead>\n",
       "    <tr style=\"text-align: right;\">\n",
       "      <th></th>\n",
       "      <th>test_statistic</th>\n",
       "      <th>p</th>\n",
       "      <th>-log2(p)</th>\n",
       "    </tr>\n",
       "  </thead>\n",
       "  <tbody>\n",
       "    <tr>\n",
       "      <th>0</th>\n",
       "      <td>52733.07</td>\n",
       "      <td>&lt;0.005</td>\n",
       "      <td>inf</td>\n",
       "    </tr>\n",
       "  </tbody>\n",
       "</table>"
      ],
      "text/latex": [
       "\\begin{tabular}{lrrr}\n",
       " & test_statistic & p & -log2(p) \\\\\n",
       "0 & 52733.07 & 0.00 & inf \\\\\n",
       "\\end{tabular}\n"
      ],
      "text/plain": [
       "<lifelines.StatisticalResult: logrank_test>\n",
       "               t_0 = -1\n",
       " null_distribution = chi squared\n",
       "degrees_of_freedom = 1\n",
       "             alpha = 0.99\n",
       "         test_name = logrank_test\n",
       "\n",
       "---\n",
       " test_statistic      p  -log2(p)\n",
       "       52733.07 <0.005       inf"
      ]
     },
     "metadata": {},
     "output_type": "display_data"
    }
   ],
   "source": [
    "results = logrank_test(T[no_s], T[AC], E[no_s], E[AC], alpha=.99)\n",
    "\n",
    "results.print_summary()"
   ]
  },
  {
   "cell_type": "code",
   "execution_count": 114,
   "id": "4f6f6589",
   "metadata": {},
   "outputs": [
    {
     "data": {
      "text/html": [
       "<div>\n",
       "<style scoped>\n",
       "    .dataframe tbody tr th:only-of-type {\n",
       "        vertical-align: middle;\n",
       "    }\n",
       "\n",
       "    .dataframe tbody tr th {\n",
       "        vertical-align: top;\n",
       "    }\n",
       "\n",
       "    .dataframe thead th {\n",
       "        text-align: right;\n",
       "    }\n",
       "</style>\n",
       "<table border=\"1\" class=\"dataframe\">\n",
       "  <tbody>\n",
       "    <tr>\n",
       "      <th>t_0</th>\n",
       "      <td>-1</td>\n",
       "    </tr>\n",
       "    <tr>\n",
       "      <th>null_distribution</th>\n",
       "      <td>chi squared</td>\n",
       "    </tr>\n",
       "    <tr>\n",
       "      <th>degrees_of_freedom</th>\n",
       "      <td>1</td>\n",
       "    </tr>\n",
       "    <tr>\n",
       "      <th>alpha</th>\n",
       "      <td>0.99</td>\n",
       "    </tr>\n",
       "    <tr>\n",
       "      <th>test_name</th>\n",
       "      <td>logrank_test</td>\n",
       "    </tr>\n",
       "  </tbody>\n",
       "</table>\n",
       "</div><table border=\"1\" class=\"dataframe\">\n",
       "  <thead>\n",
       "    <tr style=\"text-align: right;\">\n",
       "      <th></th>\n",
       "      <th>test_statistic</th>\n",
       "      <th>p</th>\n",
       "      <th>-log2(p)</th>\n",
       "    </tr>\n",
       "  </thead>\n",
       "  <tbody>\n",
       "    <tr>\n",
       "      <th>0</th>\n",
       "      <td>2758.26</td>\n",
       "      <td>&lt;0.005</td>\n",
       "      <td>inf</td>\n",
       "    </tr>\n",
       "  </tbody>\n",
       "</table>"
      ],
      "text/latex": [
       "\\begin{tabular}{lrrr}\n",
       " & test_statistic & p & -log2(p) \\\\\n",
       "0 & 2758.26 & 0.00 & inf \\\\\n",
       "\\end{tabular}\n"
      ],
      "text/plain": [
       "<lifelines.StatisticalResult: logrank_test>\n",
       "               t_0 = -1\n",
       " null_distribution = chi squared\n",
       "degrees_of_freedom = 1\n",
       "             alpha = 0.99\n",
       "         test_name = logrank_test\n",
       "\n",
       "---\n",
       " test_statistic      p  -log2(p)\n",
       "        2758.26 <0.005       inf"
      ]
     },
     "metadata": {},
     "output_type": "display_data"
    }
   ],
   "source": [
    "results = logrank_test(T[C], T[AC], E[C], E[AC], alpha=.99)\n",
    "\n",
    "results.print_summary()"
   ]
  },
  {
   "cell_type": "code",
   "execution_count": 115,
   "id": "46cd65cf",
   "metadata": {},
   "outputs": [
    {
     "data": {
      "text/html": [
       "<div>\n",
       "<style scoped>\n",
       "    .dataframe tbody tr th:only-of-type {\n",
       "        vertical-align: middle;\n",
       "    }\n",
       "\n",
       "    .dataframe tbody tr th {\n",
       "        vertical-align: top;\n",
       "    }\n",
       "\n",
       "    .dataframe thead th {\n",
       "        text-align: right;\n",
       "    }\n",
       "</style>\n",
       "<table border=\"1\" class=\"dataframe\">\n",
       "  <tbody>\n",
       "    <tr>\n",
       "      <th>t_0</th>\n",
       "      <td>-1</td>\n",
       "    </tr>\n",
       "    <tr>\n",
       "      <th>null_distribution</th>\n",
       "      <td>chi squared</td>\n",
       "    </tr>\n",
       "    <tr>\n",
       "      <th>degrees_of_freedom</th>\n",
       "      <td>1</td>\n",
       "    </tr>\n",
       "    <tr>\n",
       "      <th>alpha</th>\n",
       "      <td>0.99</td>\n",
       "    </tr>\n",
       "    <tr>\n",
       "      <th>test_name</th>\n",
       "      <td>logrank_test</td>\n",
       "    </tr>\n",
       "  </tbody>\n",
       "</table>\n",
       "</div><table border=\"1\" class=\"dataframe\">\n",
       "  <thead>\n",
       "    <tr style=\"text-align: right;\">\n",
       "      <th></th>\n",
       "      <th>test_statistic</th>\n",
       "      <th>p</th>\n",
       "      <th>-log2(p)</th>\n",
       "    </tr>\n",
       "  </thead>\n",
       "  <tbody>\n",
       "    <tr>\n",
       "      <th>0</th>\n",
       "      <td>3.51</td>\n",
       "      <td>0.06</td>\n",
       "      <td>4.03</td>\n",
       "    </tr>\n",
       "  </tbody>\n",
       "</table>"
      ],
      "text/latex": [
       "\\begin{tabular}{lrrr}\n",
       " & test_statistic & p & -log2(p) \\\\\n",
       "0 & 3.51 & 0.06 & 4.03 \\\\\n",
       "\\end{tabular}\n"
      ],
      "text/plain": [
       "<lifelines.StatisticalResult: logrank_test>\n",
       "               t_0 = -1\n",
       " null_distribution = chi squared\n",
       "degrees_of_freedom = 1\n",
       "             alpha = 0.99\n",
       "         test_name = logrank_test\n",
       "\n",
       "---\n",
       " test_statistic    p  -log2(p)\n",
       "           3.51 0.06      4.03"
      ]
     },
     "metadata": {},
     "output_type": "display_data"
    }
   ],
   "source": [
    "results = logrank_test(T[C], T[MtoF], E[C], E[MtoF], alpha=.99)\n",
    "\n",
    "results.print_summary()"
   ]
  },
  {
   "cell_type": "code",
   "execution_count": 116,
   "id": "79bd02ac",
   "metadata": {},
   "outputs": [
    {
     "data": {
      "text/html": [
       "<div>\n",
       "<style scoped>\n",
       "    .dataframe tbody tr th:only-of-type {\n",
       "        vertical-align: middle;\n",
       "    }\n",
       "\n",
       "    .dataframe tbody tr th {\n",
       "        vertical-align: top;\n",
       "    }\n",
       "\n",
       "    .dataframe thead th {\n",
       "        text-align: right;\n",
       "    }\n",
       "</style>\n",
       "<table border=\"1\" class=\"dataframe\">\n",
       "  <tbody>\n",
       "    <tr>\n",
       "      <th>t_0</th>\n",
       "      <td>-1</td>\n",
       "    </tr>\n",
       "    <tr>\n",
       "      <th>null_distribution</th>\n",
       "      <td>chi squared</td>\n",
       "    </tr>\n",
       "    <tr>\n",
       "      <th>degrees_of_freedom</th>\n",
       "      <td>1</td>\n",
       "    </tr>\n",
       "    <tr>\n",
       "      <th>alpha</th>\n",
       "      <td>0.99</td>\n",
       "    </tr>\n",
       "    <tr>\n",
       "      <th>test_name</th>\n",
       "      <td>logrank_test</td>\n",
       "    </tr>\n",
       "  </tbody>\n",
       "</table>\n",
       "</div><table border=\"1\" class=\"dataframe\">\n",
       "  <thead>\n",
       "    <tr style=\"text-align: right;\">\n",
       "      <th></th>\n",
       "      <th>test_statistic</th>\n",
       "      <th>p</th>\n",
       "      <th>-log2(p)</th>\n",
       "    </tr>\n",
       "  </thead>\n",
       "  <tbody>\n",
       "    <tr>\n",
       "      <th>0</th>\n",
       "      <td>18.09</td>\n",
       "      <td>&lt;0.005</td>\n",
       "      <td>15.53</td>\n",
       "    </tr>\n",
       "  </tbody>\n",
       "</table>"
      ],
      "text/latex": [
       "\\begin{tabular}{lrrr}\n",
       " & test_statistic & p & -log2(p) \\\\\n",
       "0 & 18.09 & 0.00 & 15.53 \\\\\n",
       "\\end{tabular}\n"
      ],
      "text/plain": [
       "<lifelines.StatisticalResult: logrank_test>\n",
       "               t_0 = -1\n",
       " null_distribution = chi squared\n",
       "degrees_of_freedom = 1\n",
       "             alpha = 0.99\n",
       "         test_name = logrank_test\n",
       "\n",
       "---\n",
       " test_statistic      p  -log2(p)\n",
       "          18.09 <0.005     15.53"
      ]
     },
     "metadata": {},
     "output_type": "display_data"
    }
   ],
   "source": [
    "results = logrank_test(T[S], T[AC], E[S], E[AC], alpha=.99)\n",
    "\n",
    "results.print_summary()"
   ]
  },
  {
   "cell_type": "markdown",
   "id": "5d7bb2fc",
   "metadata": {},
   "source": [
    "# COX Regression"
   ]
  },
  {
   "cell_type": "code",
   "execution_count": 117,
   "id": "d133ae46",
   "metadata": {},
   "outputs": [
    {
     "data": {
      "text/plain": [
       "{'user_id': 1,\n",
       " 'start_date': datetime.datetime(2015, 4, 1, 0, 0),\n",
       " 'end_date': datetime.datetime(2015, 7, 22, 0, 0),\n",
       " 'title': 'Something',\n",
       " 'description': 'Finishing Project Condore (X11/Griffon)',\n",
       " 'type_of_stake': 'No stakes',\n",
       " 'stake_per_period': 0.0,\n",
       " 'total_stake': 0.0,\n",
       " 'length_in_days': 112,\n",
       " 'self_refree': True,\n",
       " 'no_of_supporters': 0,\n",
       " 'no_of_photos': 0,\n",
       " 'no_of_posts': 0,\n",
       " 'no_of_reports': 16,\n",
       " 'sucessful': 0,\n",
       " 'not_sucessful': 0,\n",
       " 'not_reported': 16,\n",
       " 'days_per_reporting': 7.0}"
      ]
     },
     "execution_count": 117,
     "metadata": {},
     "output_type": "execute_result"
    }
   ],
   "source": [
    "commitment_index['408322']"
   ]
  },
  {
   "cell_type": "code",
   "execution_count": 201,
   "id": "cecda940",
   "metadata": {},
   "outputs": [
    {
     "data": {
      "application/vnd.jupyter.widget-view+json": {
       "model_id": "b07012bc233245a2ba0ca0916ebe9ad5",
       "version_major": 2,
       "version_minor": 0
      },
      "text/plain": [
       "  0%|          | 0/319928 [00:00<?, ?it/s]"
      ]
     },
     "metadata": {},
     "output_type": "display_data"
    }
   ],
   "source": [
    "cox_raw_data = []\n",
    "for k,v in tqdm(commitment_index.items()):\n",
    "    ratio = v['sucessful']*100/v['no_of_reports']\n",
    "    sample = [ratio]\n",
    "    if ratio == 100.0:\n",
    "        sample.append(0)\n",
    "    else:\n",
    "        sample.append(1)\n",
    "        \n",
    "    sample.append(v['stake_per_period'])\n",
    "#     sample.append(v['total_stake'])\n",
    "    sample.append(v['length_in_days'])\n",
    "    sample.append(v['no_of_supporters'])\n",
    "    sample.append(v['days_per_reporting'])\n",
    "    \n",
    "        \n",
    "    cox_raw_data.append(sample)"
   ]
  },
  {
   "cell_type": "code",
   "execution_count": 202,
   "id": "c1d379f4",
   "metadata": {},
   "outputs": [],
   "source": [
    "# Cox_df = pd.DataFrame(cox_raw_data,columns=['success_percentage','observed','stake_per_period','total_stake','length_in_days','no_of_supporters','days_per_reporting'])\n",
    "\n",
    "Cox_df = pd.DataFrame(cox_raw_data,columns=['success_percentage','observed','stake_per_period','length_in_days','no_of_supporters','days_per_reporting'])"
   ]
  },
  {
   "cell_type": "code",
   "execution_count": 203,
   "id": "60daa740",
   "metadata": {},
   "outputs": [
    {
     "data": {
      "text/html": [
       "<div>\n",
       "<style scoped>\n",
       "    .dataframe tbody tr th:only-of-type {\n",
       "        vertical-align: middle;\n",
       "    }\n",
       "\n",
       "    .dataframe tbody tr th {\n",
       "        vertical-align: top;\n",
       "    }\n",
       "\n",
       "    .dataframe thead th {\n",
       "        text-align: right;\n",
       "    }\n",
       "</style>\n",
       "<table border=\"1\" class=\"dataframe\">\n",
       "  <thead>\n",
       "    <tr style=\"text-align: right;\">\n",
       "      <th></th>\n",
       "      <th>success_percentage</th>\n",
       "      <th>observed</th>\n",
       "      <th>stake_per_period</th>\n",
       "      <th>length_in_days</th>\n",
       "      <th>no_of_supporters</th>\n",
       "      <th>days_per_reporting</th>\n",
       "    </tr>\n",
       "  </thead>\n",
       "  <tbody>\n",
       "    <tr>\n",
       "      <th>0</th>\n",
       "      <td>0.0</td>\n",
       "      <td>1</td>\n",
       "      <td>0.0</td>\n",
       "      <td>112</td>\n",
       "      <td>0</td>\n",
       "      <td>7.0</td>\n",
       "    </tr>\n",
       "    <tr>\n",
       "      <th>1</th>\n",
       "      <td>0.0</td>\n",
       "      <td>1</td>\n",
       "      <td>0.0</td>\n",
       "      <td>53</td>\n",
       "      <td>0</td>\n",
       "      <td>53.0</td>\n",
       "    </tr>\n",
       "    <tr>\n",
       "      <th>2</th>\n",
       "      <td>0.0</td>\n",
       "      <td>1</td>\n",
       "      <td>0.0</td>\n",
       "      <td>56</td>\n",
       "      <td>0</td>\n",
       "      <td>7.0</td>\n",
       "    </tr>\n",
       "    <tr>\n",
       "      <th>3</th>\n",
       "      <td>0.0</td>\n",
       "      <td>1</td>\n",
       "      <td>0.0</td>\n",
       "      <td>112</td>\n",
       "      <td>0</td>\n",
       "      <td>7.0</td>\n",
       "    </tr>\n",
       "    <tr>\n",
       "      <th>4</th>\n",
       "      <td>0.0</td>\n",
       "      <td>1</td>\n",
       "      <td>0.0</td>\n",
       "      <td>56</td>\n",
       "      <td>0</td>\n",
       "      <td>7.0</td>\n",
       "    </tr>\n",
       "    <tr>\n",
       "      <th>...</th>\n",
       "      <td>...</td>\n",
       "      <td>...</td>\n",
       "      <td>...</td>\n",
       "      <td>...</td>\n",
       "      <td>...</td>\n",
       "      <td>...</td>\n",
       "    </tr>\n",
       "    <tr>\n",
       "      <th>319923</th>\n",
       "      <td>0.0</td>\n",
       "      <td>1</td>\n",
       "      <td>0.0</td>\n",
       "      <td>56</td>\n",
       "      <td>0</td>\n",
       "      <td>7.0</td>\n",
       "    </tr>\n",
       "    <tr>\n",
       "      <th>319924</th>\n",
       "      <td>0.0</td>\n",
       "      <td>1</td>\n",
       "      <td>0.0</td>\n",
       "      <td>56</td>\n",
       "      <td>1</td>\n",
       "      <td>7.0</td>\n",
       "    </tr>\n",
       "    <tr>\n",
       "      <th>319925</th>\n",
       "      <td>0.0</td>\n",
       "      <td>1</td>\n",
       "      <td>0.0</td>\n",
       "      <td>70</td>\n",
       "      <td>0</td>\n",
       "      <td>7.0</td>\n",
       "    </tr>\n",
       "    <tr>\n",
       "      <th>319926</th>\n",
       "      <td>0.0</td>\n",
       "      <td>1</td>\n",
       "      <td>0.0</td>\n",
       "      <td>84</td>\n",
       "      <td>0</td>\n",
       "      <td>7.0</td>\n",
       "    </tr>\n",
       "    <tr>\n",
       "      <th>319927</th>\n",
       "      <td>0.0</td>\n",
       "      <td>1</td>\n",
       "      <td>0.0</td>\n",
       "      <td>42</td>\n",
       "      <td>0</td>\n",
       "      <td>1.0</td>\n",
       "    </tr>\n",
       "  </tbody>\n",
       "</table>\n",
       "<p>319928 rows × 6 columns</p>\n",
       "</div>"
      ],
      "text/plain": [
       "        success_percentage  observed  stake_per_period  length_in_days   \n",
       "0                      0.0         1               0.0             112  \\\n",
       "1                      0.0         1               0.0              53   \n",
       "2                      0.0         1               0.0              56   \n",
       "3                      0.0         1               0.0             112   \n",
       "4                      0.0         1               0.0              56   \n",
       "...                    ...       ...               ...             ...   \n",
       "319923                 0.0         1               0.0              56   \n",
       "319924                 0.0         1               0.0              56   \n",
       "319925                 0.0         1               0.0              70   \n",
       "319926                 0.0         1               0.0              84   \n",
       "319927                 0.0         1               0.0              42   \n",
       "\n",
       "        no_of_supporters  days_per_reporting  \n",
       "0                      0                 7.0  \n",
       "1                      0                53.0  \n",
       "2                      0                 7.0  \n",
       "3                      0                 7.0  \n",
       "4                      0                 7.0  \n",
       "...                  ...                 ...  \n",
       "319923                 0                 7.0  \n",
       "319924                 1                 7.0  \n",
       "319925                 0                 7.0  \n",
       "319926                 0                 7.0  \n",
       "319927                 0                 1.0  \n",
       "\n",
       "[319928 rows x 6 columns]"
      ]
     },
     "execution_count": 203,
     "metadata": {},
     "output_type": "execute_result"
    }
   ],
   "source": [
    "Cox_df"
   ]
  },
  {
   "cell_type": "code",
   "execution_count": 204,
   "id": "4ffde05d",
   "metadata": {},
   "outputs": [],
   "source": [
    "Cox_df = Cox_df[Cox_df['success_percentage']>0.0]"
   ]
  },
  {
   "cell_type": "code",
   "execution_count": 205,
   "id": "291a6471",
   "metadata": {},
   "outputs": [
    {
     "data": {
      "text/plain": [
       "observed\n",
       "1    92298\n",
       "0    65116\n",
       "Name: count, dtype: int64"
      ]
     },
     "execution_count": 205,
     "metadata": {},
     "output_type": "execute_result"
    }
   ],
   "source": [
    "Cox_df['observed'].value_counts()"
   ]
  },
  {
   "cell_type": "code",
   "execution_count": 206,
   "id": "a9972696",
   "metadata": {},
   "outputs": [],
   "source": [
    "cph = CoxPHFitter()"
   ]
  },
  {
   "cell_type": "code",
   "execution_count": 207,
   "id": "35d26fef",
   "metadata": {},
   "outputs": [
    {
     "data": {
      "text/plain": [
       "<lifelines.CoxPHFitter: fitted with 157414 total observations, 65116 right-censored observations>"
      ]
     },
     "execution_count": 207,
     "metadata": {},
     "output_type": "execute_result"
    }
   ],
   "source": [
    "cph.fit(Cox_df, duration_col='success_percentage', event_col='observed')"
   ]
  },
  {
   "cell_type": "code",
   "execution_count": 208,
   "id": "fd8b9cdd",
   "metadata": {},
   "outputs": [
    {
     "data": {
      "text/html": [
       "<div>\n",
       "<style scoped>\n",
       "    .dataframe tbody tr th:only-of-type {\n",
       "        vertical-align: middle;\n",
       "    }\n",
       "\n",
       "    .dataframe tbody tr th {\n",
       "        vertical-align: top;\n",
       "    }\n",
       "\n",
       "    .dataframe thead th {\n",
       "        text-align: right;\n",
       "    }\n",
       "</style>\n",
       "<table border=\"1\" class=\"dataframe\">\n",
       "  <tbody>\n",
       "    <tr>\n",
       "      <th>model</th>\n",
       "      <td>lifelines.CoxPHFitter</td>\n",
       "    </tr>\n",
       "    <tr>\n",
       "      <th>duration col</th>\n",
       "      <td>'success_percentage'</td>\n",
       "    </tr>\n",
       "    <tr>\n",
       "      <th>event col</th>\n",
       "      <td>'observed'</td>\n",
       "    </tr>\n",
       "    <tr>\n",
       "      <th>baseline estimation</th>\n",
       "      <td>breslow</td>\n",
       "    </tr>\n",
       "    <tr>\n",
       "      <th>number of observations</th>\n",
       "      <td>157414</td>\n",
       "    </tr>\n",
       "    <tr>\n",
       "      <th>number of events observed</th>\n",
       "      <td>92298</td>\n",
       "    </tr>\n",
       "    <tr>\n",
       "      <th>partial log-likelihood</th>\n",
       "      <td>-1035986.51</td>\n",
       "    </tr>\n",
       "    <tr>\n",
       "      <th>time fit was run</th>\n",
       "      <td>2023-07-24 13:09:23 UTC</td>\n",
       "    </tr>\n",
       "  </tbody>\n",
       "</table>\n",
       "</div><table border=\"1\" class=\"dataframe\">\n",
       "  <thead>\n",
       "    <tr style=\"text-align: right;\">\n",
       "      <th style=\"min-width: 12px;\"></th>\n",
       "      <th style=\"min-width: 12px;\">coef</th>\n",
       "      <th style=\"min-width: 12px;\">exp(coef)</th>\n",
       "      <th style=\"min-width: 12px;\">se(coef)</th>\n",
       "      <th style=\"min-width: 12px;\">coef lower 95%</th>\n",
       "      <th style=\"min-width: 12px;\">coef upper 95%</th>\n",
       "      <th style=\"min-width: 12px;\">exp(coef) lower 95%</th>\n",
       "      <th style=\"min-width: 12px;\">exp(coef) upper 95%</th>\n",
       "      <th style=\"min-width: 12px;\">cmp to</th>\n",
       "      <th style=\"min-width: 12px;\">z</th>\n",
       "      <th style=\"min-width: 12px;\">p</th>\n",
       "      <th style=\"min-width: 12px;\">-log2(p)</th>\n",
       "    </tr>\n",
       "  </thead>\n",
       "  <tbody>\n",
       "    <tr>\n",
       "      <th>stake_per_period</th>\n",
       "      <td>-0.03</td>\n",
       "      <td>0.98</td>\n",
       "      <td>0.00</td>\n",
       "      <td>-0.03</td>\n",
       "      <td>-0.02</td>\n",
       "      <td>0.97</td>\n",
       "      <td>0.98</td>\n",
       "      <td>0.00</td>\n",
       "      <td>-112.92</td>\n",
       "      <td>&lt;0.005</td>\n",
       "      <td>inf</td>\n",
       "    </tr>\n",
       "    <tr>\n",
       "      <th>length_in_days</th>\n",
       "      <td>0.00</td>\n",
       "      <td>1.00</td>\n",
       "      <td>0.00</td>\n",
       "      <td>0.00</td>\n",
       "      <td>0.00</td>\n",
       "      <td>1.00</td>\n",
       "      <td>1.00</td>\n",
       "      <td>0.00</td>\n",
       "      <td>196.69</td>\n",
       "      <td>&lt;0.005</td>\n",
       "      <td>inf</td>\n",
       "    </tr>\n",
       "    <tr>\n",
       "      <th>no_of_supporters</th>\n",
       "      <td>0.01</td>\n",
       "      <td>1.01</td>\n",
       "      <td>0.00</td>\n",
       "      <td>0.00</td>\n",
       "      <td>0.02</td>\n",
       "      <td>1.00</td>\n",
       "      <td>1.02</td>\n",
       "      <td>0.00</td>\n",
       "      <td>2.88</td>\n",
       "      <td>&lt;0.005</td>\n",
       "      <td>7.98</td>\n",
       "    </tr>\n",
       "    <tr>\n",
       "      <th>days_per_reporting</th>\n",
       "      <td>-0.04</td>\n",
       "      <td>0.96</td>\n",
       "      <td>0.00</td>\n",
       "      <td>-0.04</td>\n",
       "      <td>-0.04</td>\n",
       "      <td>0.96</td>\n",
       "      <td>0.96</td>\n",
       "      <td>0.00</td>\n",
       "      <td>-45.63</td>\n",
       "      <td>&lt;0.005</td>\n",
       "      <td>inf</td>\n",
       "    </tr>\n",
       "  </tbody>\n",
       "</table><br><div>\n",
       "<style scoped>\n",
       "    .dataframe tbody tr th:only-of-type {\n",
       "        vertical-align: middle;\n",
       "    }\n",
       "\n",
       "    .dataframe tbody tr th {\n",
       "        vertical-align: top;\n",
       "    }\n",
       "\n",
       "    .dataframe thead th {\n",
       "        text-align: right;\n",
       "    }\n",
       "</style>\n",
       "<table border=\"1\" class=\"dataframe\">\n",
       "  <tbody>\n",
       "    <tr>\n",
       "      <th>Concordance</th>\n",
       "      <td>0.79</td>\n",
       "    </tr>\n",
       "    <tr>\n",
       "      <th>Partial AIC</th>\n",
       "      <td>2071981.02</td>\n",
       "    </tr>\n",
       "    <tr>\n",
       "      <th>log-likelihood ratio test</th>\n",
       "      <td>67381.69 on 4 df</td>\n",
       "    </tr>\n",
       "    <tr>\n",
       "      <th>-log2(p) of ll-ratio test</th>\n",
       "      <td>inf</td>\n",
       "    </tr>\n",
       "  </tbody>\n",
       "</table>\n",
       "</div>"
      ],
      "text/latex": [
       "\\begin{tabular}{lrrrrrrrrrrr}\n",
       " & coef & exp(coef) & se(coef) & coef lower 95% & coef upper 95% & exp(coef) lower 95% & exp(coef) upper 95% & cmp to & z & p & -log2(p) \\\\\n",
       "covariate &  &  &  &  &  &  &  &  &  &  &  \\\\\n",
       "stake_per_period & -0.03 & 0.98 & 0.00 & -0.03 & -0.02 & 0.97 & 0.98 & 0.00 & -112.92 & 0.00 & inf \\\\\n",
       "length_in_days & 0.00 & 1.00 & 0.00 & 0.00 & 0.00 & 1.00 & 1.00 & 0.00 & 196.69 & 0.00 & inf \\\\\n",
       "no_of_supporters & 0.01 & 1.01 & 0.00 & 0.00 & 0.02 & 1.00 & 1.02 & 0.00 & 2.88 & 0.00 & 7.98 \\\\\n",
       "days_per_reporting & -0.04 & 0.96 & 0.00 & -0.04 & -0.04 & 0.96 & 0.96 & 0.00 & -45.63 & 0.00 & inf \\\\\n",
       "\\end{tabular}\n"
      ],
      "text/plain": [
       "<lifelines.CoxPHFitter: fitted with 157414 total observations, 65116 right-censored observations>\n",
       "             duration col = 'success_percentage'\n",
       "                event col = 'observed'\n",
       "      baseline estimation = breslow\n",
       "   number of observations = 157414\n",
       "number of events observed = 92298\n",
       "   partial log-likelihood = -1035986.51\n",
       "         time fit was run = 2023-07-24 13:09:23 UTC\n",
       "\n",
       "---\n",
       "                     coef  exp(coef)   se(coef)   coef lower 95%   coef upper 95%  exp(coef) lower 95%  exp(coef) upper 95%\n",
       "covariate                                                                                                                  \n",
       "stake_per_period    -0.03       0.98       0.00            -0.03            -0.02                 0.97                 0.98\n",
       "length_in_days       0.00       1.00       0.00             0.00             0.00                 1.00                 1.00\n",
       "no_of_supporters     0.01       1.01       0.00             0.00             0.02                 1.00                 1.02\n",
       "days_per_reporting  -0.04       0.96       0.00            -0.04            -0.04                 0.96                 0.96\n",
       "\n",
       "                     cmp to       z      p   -log2(p)\n",
       "covariate                                            \n",
       "stake_per_period       0.00 -112.92 <0.005        inf\n",
       "length_in_days         0.00  196.69 <0.005        inf\n",
       "no_of_supporters       0.00    2.88 <0.005       7.98\n",
       "days_per_reporting     0.00  -45.63 <0.005        inf\n",
       "---\n",
       "Concordance = 0.79\n",
       "Partial AIC = 2071981.02\n",
       "log-likelihood ratio test = 67381.69 on 4 df\n",
       "-log2(p) of ll-ratio test = inf"
      ]
     },
     "metadata": {},
     "output_type": "display_data"
    }
   ],
   "source": [
    "cph.print_summary()"
   ]
  },
  {
   "cell_type": "code",
   "execution_count": 209,
   "id": "8d4de4b2",
   "metadata": {},
   "outputs": [
    {
     "data": {
      "text/plain": [
       "<Axes: xlabel='log(HR) (95% CI)'>"
      ]
     },
     "execution_count": 209,
     "metadata": {},
     "output_type": "execute_result"
    },
    {
     "data": {
      "image/png": "[encoded data removed]",
      "text/plain": [
       "<Figure size 640x480 with 1 Axes>"
      ]
     },
     "metadata": {},
     "output_type": "display_data"
    }
   ],
   "source": [
    "cph.plot()"
   ]
  },
  {
   "cell_type": "code",
   "execution_count": 193,
   "id": "0f4e6f36",
   "metadata": {},
   "outputs": [
    {
     "data": {
      "text/plain": [
       "<Axes: >"
      ]
     },
     "execution_count": 193,
     "metadata": {},
     "output_type": "execute_result"
    },
    {
     "data": {
      "image/png": "[encoded data removed]",
      "text/plain": [
       "<Figure size 640x480 with 1 Axes>"
      ]
     },
     "metadata": {},
     "output_type": "display_data"
    }
   ],
   "source": [
    "cph.plot_partial_effects_on_outcome(covariates='length_in_days', values=[i for i in range(0,100,7)], cmap='coolwarm')"
   ]
  },
  {
   "cell_type": "code",
   "execution_count": null,
   "id": "1955929c",
   "metadata": {},
   "outputs": [],
   "source": []
  }
 ],
 "metadata": {
  "kernelspec": {
   "display_name": "Python (stickk)",
   "language": "python",
   "name": "stickk"
  },
  "language_info": {
   "codemirror_mode": {
    "name": "ipython",
    "version": 3
   },
   "file_extension": ".py",
   "mimetype": "text/x-python",
   "name": "python",
   "nbconvert_exporter": "python",
   "pygments_lexer": "ipython3",
   "version": "3.10.4"
  }
 },
 "nbformat": 4,
 "nbformat_minor": 5
}
