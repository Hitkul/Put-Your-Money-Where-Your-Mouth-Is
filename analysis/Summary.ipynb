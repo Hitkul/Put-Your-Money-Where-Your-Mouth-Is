{
 "cells": [
  {
   "cell_type": "code",
   "execution_count": null,
   "id": "6487912f",
   "metadata": {},
   "outputs": [],
   "source": [
    "import pandas as pd\n",
    "import numpy as np\n",
    "import json\n",
    "import os\n",
    "from tqdm.notebook import tqdm\n",
    "from datetime import datetime,timedelta\n",
    "import matplotlib.pyplot as plt\n",
    "%matplotlib inline\n",
    "from collections import Counter, defaultdict\n",
    "from wordcloud import WordCloud, STOPWORDS, ImageColorGenerator\n",
    "import string"
   ]
  },
  {
   "cell_type": "markdown",
   "id": "fa6ac229",
   "metadata": {},
   "source": [
    "### Summary Table"
   ]
  },
  {
   "cell_type": "code",
   "execution_count": null,
   "id": "aa46557d",
   "metadata": {},
   "outputs": [],
   "source": [
    "summary_table = []"
   ]
  },
  {
   "cell_type": "code",
   "execution_count": null,
   "id": "416b5111",
   "metadata": {},
   "outputs": [],
   "source": [
    "user_index = json.load(open(\"../data/user_index.json\",'r'))\n",
    "commitment_index = json.load(open(\"../data/commitment_index.json\",'r'))\n",
    "\n",
    "counters = json.load(open(\"../data/counter.json\",'r'))\n",
    "with open(\"../data/users_not_found.txt\",'r') as fp:\n",
    "    user_not_found = fp.readlines()\n",
    "    \n",
    "with open(\"../data/private_users.txt\",'r') as fp:\n",
    "    private_users = fp.readlines()\n",
    "    \n",
    "user_not_found = [int(i.strip()) for i in user_not_found]\n",
    "private_users = [int(i.strip()) for i in private_users]"
   ]
  },
  {
   "cell_type": "code",
   "execution_count": null,
   "id": "a7a0638e",
   "metadata": {},
   "outputs": [],
   "source": [
    "max_user_id = max([int(i) for i in user_index.keys()])"
   ]
  },
  {
   "cell_type": "code",
   "execution_count": null,
   "id": "7fd5f605",
   "metadata": {},
   "outputs": [],
   "source": [
    "for k,v in tqdm(user_index.items()):\n",
    "    user_index[k]['date'] = datetime.strptime(v['date'], '%d %b %Y')"
   ]
  },
  {
   "cell_type": "code",
   "execution_count": null,
   "id": "440af07f",
   "metadata": {},
   "outputs": [],
   "source": [
    "id_for_1_jan_2023 = 722621\n",
    "for k,v in tqdm(user_index.items()):\n",
    "    if int(k)<id_for_1_jan_2023 and v['date'].year == 2023:\n",
    "        user_index[k]['date'] = None"
   ]
  },
  {
   "cell_type": "code",
   "execution_count": null,
   "id": "2fd0ece1",
   "metadata": {},
   "outputs": [],
   "source": [
    "last_date = user_index['1']['date']\n",
    "for i in range(1, max_user_id+1):\n",
    "    if str(i) in user_index.keys():\n",
    "        if user_index[str(i)]['date'] == None:\n",
    "            user_index[str(i)]['date'] = last_date\n",
    "        else:\n",
    "            last_date = user_index[str(i)]['date']"
   ]
  },
  {
   "cell_type": "code",
   "execution_count": null,
   "id": "8ef3ae52",
   "metadata": {},
   "outputs": [],
   "source": [
    "for k,v in tqdm(commitment_index.items()):\n",
    "    commitment_index[k]['start_date'] = datetime.strptime(v['start_date'], '%B %d, %Y')\n",
    "    commitment_index[k]['end_date'] = datetime.strptime(v['end_date'], '%B %d, %Y')"
   ]
  },
  {
   "cell_type": "code",
   "execution_count": null,
   "id": "e1a57b54",
   "metadata": {},
   "outputs": [],
   "source": [
    "for k,v in tqdm(commitment_index.items()):\n",
    "    if v['start_date'].year < 2007:\n",
    "        deta = v['end_date'] - v['start_date']\n",
    "        commitment_index[k]['start_date'] = user_index[str(v['user_id'])]['date']\n",
    "        commitment_index[k]['end_date'] = commitment_index[k]['start_date'] + deta"
   ]
  },
  {
   "cell_type": "code",
   "execution_count": null,
   "id": "1a34c18c",
   "metadata": {},
   "outputs": [],
   "source": [
    "summary_table.append((\"Total # of Users\", len(user_index)+len(user_not_found)+len(private_users)))\n",
    "summary_table.append((\"# of Private Users\", len(private_users)))\n",
    "summary_table.append((\"# of Deleted Users\", len(user_not_found)))\n",
    "summary_table.append((\"# of Public Users\", len(user_index)))\n",
    "summary_table.append((\"# of total commitments\", len(commitment_index)))"
   ]
  },
  {
   "cell_type": "code",
   "execution_count": null,
   "id": "a25ecaf2",
   "metadata": {},
   "outputs": [],
   "source": [
    "summary_table.append((\"# of users with Commitments\",len([k for k,v in tqdm(user_index.items()) if v['number_of_commitments']>0])))"
   ]
  },
  {
   "cell_type": "code",
   "execution_count": null,
   "id": "a02143d1",
   "metadata": {},
   "outputs": [],
   "source": [
    "summary_table.append((\"Total $ at stake till date\",f\"${sum([v['total_stake'] for k,v in tqdm(commitment_index.items())]):.2f}\"))"
   ]
  },
  {
   "cell_type": "code",
   "execution_count": null,
   "id": "6f5a5d86",
   "metadata": {},
   "outputs": [],
   "source": [
    "foo = [v['date'] for k,v in user_index.items()]\n",
    "summary_table.append((\"Users date range\", f\"{min(foo).strftime('%d %b %Y')} - {max(foo).strftime('%d %b %Y')}\"))"
   ]
  },
  {
   "cell_type": "code",
   "execution_count": null,
   "id": "9515741a",
   "metadata": {},
   "outputs": [],
   "source": [
    "pd.DataFrame(summary_table,columns=['Head','Count'])"
   ]
  },
  {
   "cell_type": "markdown",
   "id": "18e10ee9",
   "metadata": {},
   "source": [
    "# CDF of users joining Date"
   ]
  },
  {
   "cell_type": "code",
   "execution_count": null,
   "id": "12ff6379",
   "metadata": {},
   "outputs": [],
   "source": [
    "joining_dates = list(set([v['date'] for k,v in user_index.items()]))"
   ]
  },
  {
   "cell_type": "code",
   "execution_count": null,
   "id": "d9088a5a",
   "metadata": {},
   "outputs": [],
   "source": [
    "min(joining_dates),max(joining_dates)"
   ]
  },
  {
   "cell_type": "code",
   "execution_count": null,
   "id": "bf3024d3",
   "metadata": {},
   "outputs": [],
   "source": [
    "joining_dates.sort()"
   ]
  },
  {
   "cell_type": "code",
   "execution_count": null,
   "id": "b3f01676",
   "metadata": {},
   "outputs": [],
   "source": [
    "len(joining_dates)"
   ]
  },
  {
   "cell_type": "code",
   "execution_count": null,
   "id": "bfce30fb",
   "metadata": {},
   "outputs": [],
   "source": [
    "total_public_users = len(user_index)\n",
    "total_public_users"
   ]
  },
  {
   "cell_type": "code",
   "execution_count": null,
   "id": "b0e0423c",
   "metadata": {},
   "outputs": [],
   "source": [
    "joining_date_public_user_CDF = np.zeros(len(joining_dates))\n",
    "for k,v in tqdm(user_index.items()):\n",
    "    date_index = joining_dates.index(v['date'])\n",
    "    joining_date_public_user_CDF[date_index:]+=1"
   ]
  },
  {
   "cell_type": "code",
   "execution_count": null,
   "id": "641c80fc",
   "metadata": {},
   "outputs": [],
   "source": [
    "def get_closest_id(k):\n",
    "    delta = 1\n",
    "    while True:\n",
    "        if str(k-delta) in user_index.keys():\n",
    "            return str(k-delta)\n",
    "        \n",
    "        if str(k+delta) in user_index.keys():\n",
    "            return str(k+delta)\n",
    "        \n",
    "        delta+=1"
   ]
  },
  {
   "cell_type": "code",
   "execution_count": null,
   "id": "b635c73f",
   "metadata": {},
   "outputs": [],
   "source": [
    "joining_date_private_users_CDF = np.zeros(len(joining_dates))\n",
    "for p_id in tqdm(private_users):\n",
    "    available_id = get_closest_id(p_id)\n",
    "    date_index = joining_dates.index(user_index[available_id]['date'])\n",
    "    joining_date_private_users_CDF[date_index:]+=1"
   ]
  },
  {
   "cell_type": "code",
   "execution_count": null,
   "id": "ad9e7f0a",
   "metadata": {},
   "outputs": [],
   "source": [
    "joining_date_deleted_users_CDF = np.zeros(len(joining_dates))\n",
    "for p_id in tqdm(user_not_found):\n",
    "    available_id = get_closest_id(p_id)\n",
    "    date_index = joining_dates.index(user_index[available_id]['date'])\n",
    "    joining_date_deleted_users_CDF[date_index:]+=1"
   ]
  },
  {
   "cell_type": "code",
   "execution_count": null,
   "id": "df490552",
   "metadata": {},
   "outputs": [],
   "source": [
    "joining_date_public_user_CDF/=total_public_users"
   ]
  },
  {
   "cell_type": "code",
   "execution_count": null,
   "id": "c039c174",
   "metadata": {},
   "outputs": [],
   "source": [
    "joining_date_private_users_CDF/=len(private_users)"
   ]
  },
  {
   "cell_type": "code",
   "execution_count": null,
   "id": "8cfa3241",
   "metadata": {},
   "outputs": [],
   "source": [
    "joining_date_deleted_users_CDF/=len(user_not_found)"
   ]
  },
  {
   "cell_type": "code",
   "execution_count": null,
   "id": "69839545",
   "metadata": {},
   "outputs": [],
   "source": [
    "plt.plot(joining_dates,joining_date_public_user_CDF,label ='Public Users')\n",
    "plt.plot(joining_dates,joining_date_private_users_CDF,label ='Private Users')\n",
    "plt.plot(joining_dates,joining_date_deleted_users_CDF,label ='Deleted Users')\n",
    "plt.legend()"
   ]
  },
  {
   "cell_type": "markdown",
   "id": "a1f292c8",
   "metadata": {},
   "source": [
    "# Number of commitment per user CDF"
   ]
  },
  {
   "cell_type": "markdown",
   "id": "77164973",
   "metadata": {},
   "source": [
    "### ALL"
   ]
  },
  {
   "cell_type": "code",
   "execution_count": null,
   "id": "65317bb6",
   "metadata": {},
   "outputs": [],
   "source": [
    "unique_commitments_per_user = [v['number_of_commitments'] for k,v in user_index.items()]"
   ]
  },
  {
   "cell_type": "code",
   "execution_count": null,
   "id": "801cbf06",
   "metadata": {},
   "outputs": [],
   "source": [
    "sorted(Counter(unique_commitments_per_user).items(), key=lambda x:x[1],reverse=True)"
   ]
  },
  {
   "cell_type": "code",
   "execution_count": null,
   "id": "9ca0c861",
   "metadata": {},
   "outputs": [],
   "source": [
    "unique_commitments_per_user = list(set(unique_commitments_per_user))"
   ]
  },
  {
   "cell_type": "code",
   "execution_count": null,
   "id": "a725c8d0",
   "metadata": {},
   "outputs": [],
   "source": [
    "unique_commitments_per_user.sort()"
   ]
  },
  {
   "cell_type": "code",
   "execution_count": null,
   "id": "c085d4cc",
   "metadata": {},
   "outputs": [],
   "source": [
    "unique_commitments_per_user = unique_commitments_per_user[1:]"
   ]
  },
  {
   "cell_type": "code",
   "execution_count": null,
   "id": "6d1a99e3",
   "metadata": {},
   "outputs": [],
   "source": [
    "len(unique_commitments_per_user)"
   ]
  },
  {
   "cell_type": "code",
   "execution_count": null,
   "id": "f6f675dc",
   "metadata": {},
   "outputs": [],
   "source": [
    "total_users_with_commitments = 0\n",
    "for k,v in user_index.items():\n",
    "    if v['number_of_commitments']>0:\n",
    "        total_users_with_commitments+=1"
   ]
  },
  {
   "cell_type": "code",
   "execution_count": null,
   "id": "597c8ad1",
   "metadata": {},
   "outputs": [],
   "source": [
    "no_of_commitments_CDF = np.zeros(len(unique_commitments_per_user))\n",
    "for k,v in tqdm(user_index.items()):\n",
    "    if v['number_of_commitments']>0:\n",
    "        count_index = unique_commitments_per_user.index(v['number_of_commitments'])\n",
    "        no_of_commitments_CDF[count_index:]+=1"
   ]
  },
  {
   "cell_type": "code",
   "execution_count": null,
   "id": "496ef8cb",
   "metadata": {},
   "outputs": [],
   "source": [
    "no_of_commitments_CDF/=total_users_with_commitments"
   ]
  },
  {
   "cell_type": "code",
   "execution_count": null,
   "id": "ba6146ed",
   "metadata": {},
   "outputs": [],
   "source": [
    "plt.plot(unique_commitments_per_user,no_of_commitments_CDF,label ='Commitments per user')\n",
    "plt.legend()"
   ]
  },
  {
   "cell_type": "markdown",
   "id": "c359b70c",
   "metadata": {},
   "source": [
    "### <10"
   ]
  },
  {
   "cell_type": "code",
   "execution_count": null,
   "id": "3bd3c6c2",
   "metadata": {},
   "outputs": [],
   "source": [
    "unique_commitments_per_user = [i for i in range(1,11)]"
   ]
  },
  {
   "cell_type": "code",
   "execution_count": null,
   "id": "eb7c7389",
   "metadata": {},
   "outputs": [],
   "source": [
    "len(unique_commitments_per_user)"
   ]
  },
  {
   "cell_type": "code",
   "execution_count": null,
   "id": "34cc0148",
   "metadata": {},
   "outputs": [],
   "source": [
    "no_of_commitments_CDF = np.zeros(len(unique_commitments_per_user))\n",
    "for k,v in tqdm(user_index.items()):\n",
    "    if v['number_of_commitments']<=10 and v['number_of_commitments']>0:\n",
    "        count_index = unique_commitments_per_user.index(v['number_of_commitments'])\n",
    "        no_of_commitments_CDF[count_index:]+=1"
   ]
  },
  {
   "cell_type": "code",
   "execution_count": null,
   "id": "3a5cba8c",
   "metadata": {},
   "outputs": [],
   "source": [
    "no_of_commitments_CDF/=total_users_with_commitments"
   ]
  },
  {
   "cell_type": "code",
   "execution_count": null,
   "id": "d8dd2297",
   "metadata": {},
   "outputs": [],
   "source": [
    "plt.plot(unique_commitments_per_user,no_of_commitments_CDF,label ='Commitments per user')\n",
    "plt.legend()"
   ]
  },
  {
   "cell_type": "markdown",
   "id": "0636ba3e",
   "metadata": {},
   "source": [
    "### <100"
   ]
  },
  {
   "cell_type": "code",
   "execution_count": null,
   "id": "366aa143",
   "metadata": {},
   "outputs": [],
   "source": [
    "unique_commitments_per_user = [i for i in range(1,101)]"
   ]
  },
  {
   "cell_type": "code",
   "execution_count": null,
   "id": "3ad41a63",
   "metadata": {},
   "outputs": [],
   "source": [
    "len(unique_commitments_per_user)"
   ]
  },
  {
   "cell_type": "code",
   "execution_count": null,
   "id": "3a32c7f6",
   "metadata": {},
   "outputs": [],
   "source": [
    "no_of_commitments_CDF = np.zeros(len(unique_commitments_per_user))\n",
    "for k,v in tqdm(user_index.items()):\n",
    "    if v['number_of_commitments']<=100 and v['number_of_commitments']>0:\n",
    "        count_index = unique_commitments_per_user.index(v['number_of_commitments'])\n",
    "        no_of_commitments_CDF[count_index:]+=1"
   ]
  },
  {
   "cell_type": "code",
   "execution_count": null,
   "id": "4f3714de",
   "metadata": {},
   "outputs": [],
   "source": [
    "no_of_commitments_CDF/=total_users_with_commitments"
   ]
  },
  {
   "cell_type": "code",
   "execution_count": null,
   "id": "cb980354",
   "metadata": {},
   "outputs": [],
   "source": [
    "plt.plot(unique_commitments_per_user,no_of_commitments_CDF,label ='Commitments per user')\n",
    "plt.legend()"
   ]
  },
  {
   "cell_type": "markdown",
   "id": "d422bef1",
   "metadata": {},
   "source": [
    "# Default Display Image"
   ]
  },
  {
   "cell_type": "code",
   "execution_count": null,
   "id": "e1a9ec09",
   "metadata": {},
   "outputs": [],
   "source": [
    "display_image_default = [v['default_image'] for k,v in user_index.items()]"
   ]
  },
  {
   "cell_type": "code",
   "execution_count": null,
   "id": "2c94ee6c",
   "metadata": {},
   "outputs": [],
   "source": [
    "Counter(display_image_default)"
   ]
  },
  {
   "cell_type": "markdown",
   "id": "f89e5b66",
   "metadata": {},
   "source": [
    "# No of commitments made everyday"
   ]
  },
  {
   "cell_type": "code",
   "execution_count": null,
   "id": "8f7bf60c",
   "metadata": {},
   "outputs": [],
   "source": [
    "commitment_start_dates = list(set([v['start_date'] for k,v in commitment_index.items()]))"
   ]
  },
  {
   "cell_type": "code",
   "execution_count": null,
   "id": "e47288f0",
   "metadata": {},
   "outputs": [],
   "source": [
    "min(commitment_start_dates),max(commitment_start_dates)"
   ]
  },
  {
   "cell_type": "code",
   "execution_count": null,
   "id": "8fcde3bd",
   "metadata": {},
   "outputs": [],
   "source": [
    "len(commitment_start_dates)"
   ]
  },
  {
   "cell_type": "code",
   "execution_count": null,
   "id": "26431987",
   "metadata": {},
   "outputs": [],
   "source": [
    "commitment_start_dates.sort()"
   ]
  },
  {
   "cell_type": "code",
   "execution_count": null,
   "id": "98cdcbba",
   "metadata": {},
   "outputs": [],
   "source": [
    "commitment_count_date = np.zeros(len(commitment_start_dates))\n",
    "for k,v in tqdm(commitment_index.items()):\n",
    "    date_index = commitment_start_dates.index(v['start_date'])\n",
    "    commitment_count_date[date_index]+=1"
   ]
  },
  {
   "cell_type": "code",
   "execution_count": null,
   "id": "78277e0a",
   "metadata": {},
   "outputs": [],
   "source": [
    "commitment_count_date"
   ]
  },
  {
   "cell_type": "code",
   "execution_count": null,
   "id": "d9642f12",
   "metadata": {},
   "outputs": [],
   "source": [
    "plt.plot(commitment_start_dates,commitment_count_date)"
   ]
  },
  {
   "cell_type": "markdown",
   "id": "c72793f1",
   "metadata": {},
   "source": [
    "### month level"
   ]
  },
  {
   "cell_type": "code",
   "execution_count": null,
   "id": "9049d55c",
   "metadata": {},
   "outputs": [],
   "source": [
    "month_values = []\n",
    "for y in range(2007,2024):\n",
    "    for m in range(1,13):\n",
    "        month_values.append(datetime(y,m,1)) "
   ]
  },
  {
   "cell_type": "code",
   "execution_count": null,
   "id": "923e46d8",
   "metadata": {},
   "outputs": [],
   "source": [
    "commitment_count_date = np.zeros(len(month_values))\n",
    "for k,v in tqdm(commitment_index.items()):\n",
    "    start_m = datetime(v['start_date'].year,v['start_date'].month,1)\n",
    "    date_index = month_values.index(start_m)\n",
    "    commitment_count_date[date_index]+=1"
   ]
  },
  {
   "cell_type": "code",
   "execution_count": null,
   "id": "64f2467e",
   "metadata": {},
   "outputs": [],
   "source": [
    "plt.plot(month_values,commitment_count_date)"
   ]
  },
  {
   "cell_type": "markdown",
   "id": "cac58773",
   "metadata": {},
   "source": [
    "## Length of commitment"
   ]
  },
  {
   "cell_type": "code",
   "execution_count": null,
   "id": "58933e60",
   "metadata": {},
   "outputs": [],
   "source": [
    "commitment_lengths = [v['length_in_days'] for k,v in commitment_index.items()]"
   ]
  },
  {
   "cell_type": "code",
   "execution_count": null,
   "id": "54f23fb5",
   "metadata": {},
   "outputs": [],
   "source": [
    "min(commitment_lengths),max(commitment_lengths)"
   ]
  },
  {
   "cell_type": "code",
   "execution_count": null,
   "id": "b80a1a36",
   "metadata": {},
   "outputs": [],
   "source": [
    "sorted(Counter(commitment_lengths).items(), key=lambda x:x[1],reverse=True)"
   ]
  },
  {
   "cell_type": "code",
   "execution_count": null,
   "id": "817be04e",
   "metadata": {},
   "outputs": [],
   "source": [
    "plt.hist(commitment_lengths)\n",
    "plt.yscale('log')"
   ]
  },
  {
   "cell_type": "code",
   "execution_count": null,
   "id": "103a1734",
   "metadata": {},
   "outputs": [],
   "source": [
    "plt.hist([i for i in commitment_lengths if i<366], bins = [i for i in range(0,366,7)])"
   ]
  },
  {
   "cell_type": "markdown",
   "id": "be4915a8",
   "metadata": {},
   "source": [
    "### ALL"
   ]
  },
  {
   "cell_type": "code",
   "execution_count": null,
   "id": "896f055e",
   "metadata": {},
   "outputs": [],
   "source": [
    "unique_commitment_lengths = list(set(commitment_lengths))"
   ]
  },
  {
   "cell_type": "code",
   "execution_count": null,
   "id": "683218a5",
   "metadata": {},
   "outputs": [],
   "source": [
    "unique_commitment_lengths.sort()"
   ]
  },
  {
   "cell_type": "code",
   "execution_count": null,
   "id": "ad383871",
   "metadata": {},
   "outputs": [],
   "source": [
    "len(unique_commitment_lengths)"
   ]
  },
  {
   "cell_type": "code",
   "execution_count": null,
   "id": "41ff5f75",
   "metadata": {},
   "outputs": [],
   "source": [
    "commitment_length_CDF = np.zeros(len(unique_commitment_lengths))\n",
    "for k,v in tqdm(commitment_index.items()):\n",
    "    count_idx = unique_commitment_lengths.index(v['length_in_days'])\n",
    "    commitment_length_CDF[count_idx:]+=1"
   ]
  },
  {
   "cell_type": "code",
   "execution_count": null,
   "id": "0b8dd8ed",
   "metadata": {},
   "outputs": [],
   "source": [
    "commitment_length_CDF/=len(commitment_index)"
   ]
  },
  {
   "cell_type": "code",
   "execution_count": null,
   "id": "bb59a55e",
   "metadata": {},
   "outputs": [],
   "source": [
    "plt.plot(unique_commitment_lengths,commitment_length_CDF,label ='Commitments length')\n",
    "plt.legend()"
   ]
  },
  {
   "cell_type": "markdown",
   "id": "913ea85d",
   "metadata": {},
   "source": [
    "### 365 Days"
   ]
  },
  {
   "cell_type": "code",
   "execution_count": null,
   "id": "ce481b02",
   "metadata": {},
   "outputs": [],
   "source": [
    "unique_commitment_lengths = [i for i in range(0,366)]"
   ]
  },
  {
   "cell_type": "code",
   "execution_count": null,
   "id": "185cfe87",
   "metadata": {},
   "outputs": [],
   "source": [
    "unique_commitment_lengths.sort()"
   ]
  },
  {
   "cell_type": "code",
   "execution_count": null,
   "id": "bd88cb63",
   "metadata": {},
   "outputs": [],
   "source": [
    "len(unique_commitment_lengths)"
   ]
  },
  {
   "cell_type": "code",
   "execution_count": null,
   "id": "e8caacc6",
   "metadata": {},
   "outputs": [],
   "source": [
    "commitment_length_CDF = np.zeros(len(unique_commitment_lengths))\n",
    "for k,v in tqdm(commitment_index.items()):\n",
    "    if v['length_in_days']<=365:\n",
    "        count_idx = unique_commitment_lengths.index(v['length_in_days'])\n",
    "        commitment_length_CDF[count_idx:]+=1"
   ]
  },
  {
   "cell_type": "code",
   "execution_count": null,
   "id": "300cb085",
   "metadata": {},
   "outputs": [],
   "source": [
    "commitment_length_CDF/=len(commitment_index)"
   ]
  },
  {
   "cell_type": "code",
   "execution_count": null,
   "id": "2b96970c",
   "metadata": {},
   "outputs": [],
   "source": [
    "plt.plot(unique_commitment_lengths,commitment_length_CDF,label ='Commitments length')\n",
    "plt.legend()"
   ]
  },
  {
   "cell_type": "markdown",
   "id": "e3a19933",
   "metadata": {},
   "source": [
    "### Converted into weeks"
   ]
  },
  {
   "cell_type": "code",
   "execution_count": null,
   "id": "dd5a3e0f",
   "metadata": {},
   "outputs": [],
   "source": [
    "commitment_lengths = [int(i/7.0) for i in commitment_lengths]"
   ]
  },
  {
   "cell_type": "code",
   "execution_count": null,
   "id": "60ca37c0",
   "metadata": {},
   "outputs": [],
   "source": [
    "unique_commitment_lengths = list(set(commitment_lengths))"
   ]
  },
  {
   "cell_type": "code",
   "execution_count": null,
   "id": "0f1b0fef",
   "metadata": {},
   "outputs": [],
   "source": [
    "unique_commitment_lengths.sort()"
   ]
  },
  {
   "cell_type": "code",
   "execution_count": null,
   "id": "097646fc",
   "metadata": {},
   "outputs": [],
   "source": [
    "len(unique_commitment_lengths)"
   ]
  },
  {
   "cell_type": "code",
   "execution_count": null,
   "id": "bb5ac918",
   "metadata": {},
   "outputs": [],
   "source": [
    "commitment_length_CDF = np.zeros(len(unique_commitment_lengths))\n",
    "for k,v in tqdm(commitment_index.items()):\n",
    "    count_idx = unique_commitment_lengths.index(int(v['length_in_days']/7.0))\n",
    "    commitment_length_CDF[count_idx:]+=1"
   ]
  },
  {
   "cell_type": "code",
   "execution_count": null,
   "id": "614ed6e7",
   "metadata": {},
   "outputs": [],
   "source": [
    "commitment_length_CDF/=len(commitment_index)"
   ]
  },
  {
   "cell_type": "code",
   "execution_count": null,
   "id": "eba93be9",
   "metadata": {},
   "outputs": [],
   "source": [
    "plt.plot(unique_commitment_lengths,commitment_length_CDF,label ='Commitments length')\n",
    "plt.legend()"
   ]
  },
  {
   "cell_type": "markdown",
   "id": "720eea65",
   "metadata": {},
   "source": [
    "### 52 weeks"
   ]
  },
  {
   "cell_type": "code",
   "execution_count": null,
   "id": "c2fd277a",
   "metadata": {},
   "outputs": [],
   "source": [
    "unique_commitment_lengths = [i for i in range(0,53)]"
   ]
  },
  {
   "cell_type": "code",
   "execution_count": null,
   "id": "3a65a7af",
   "metadata": {},
   "outputs": [],
   "source": [
    "len(unique_commitment_lengths)"
   ]
  },
  {
   "cell_type": "code",
   "execution_count": null,
   "id": "c8e18d3a",
   "metadata": {},
   "outputs": [],
   "source": [
    "commitment_length_CDF = np.zeros(len(unique_commitment_lengths))\n",
    "for k,v in tqdm(commitment_index.items()):\n",
    "    if int(v['length_in_days']/7.0)<=52:\n",
    "        count_idx = unique_commitment_lengths.index(int(v['length_in_days']/7.0))\n",
    "        commitment_length_CDF[count_idx:]+=1"
   ]
  },
  {
   "cell_type": "code",
   "execution_count": null,
   "id": "b058e679",
   "metadata": {},
   "outputs": [],
   "source": [
    "commitment_length_CDF/=len(commitment_index)"
   ]
  },
  {
   "cell_type": "code",
   "execution_count": null,
   "id": "ffee39b9",
   "metadata": {},
   "outputs": [],
   "source": [
    "plt.plot(unique_commitment_lengths,commitment_length_CDF,label ='Commitments length')\n",
    "plt.legend()"
   ]
  },
  {
   "cell_type": "markdown",
   "id": "62a33f5b",
   "metadata": {},
   "source": [
    "# Date of start"
   ]
  },
  {
   "cell_type": "code",
   "execution_count": null,
   "id": "4e22668f",
   "metadata": {},
   "outputs": [],
   "source": [
    "day_of_start = [v['start_date'].day for k,v in commitment_index.items()]"
   ]
  },
  {
   "cell_type": "code",
   "execution_count": null,
   "id": "0bada6ea",
   "metadata": {},
   "outputs": [],
   "source": [
    "counts = list(Counter(day_of_start).items())"
   ]
  },
  {
   "cell_type": "code",
   "execution_count": null,
   "id": "57b77408",
   "metadata": {},
   "outputs": [],
   "source": [
    "counts.sort()"
   ]
  },
  {
   "cell_type": "code",
   "execution_count": null,
   "id": "2296220a",
   "metadata": {},
   "outputs": [],
   "source": [
    "day = []\n",
    "count = []\n",
    "for i,j in counts:\n",
    "    day.append(i)\n",
    "    count.append(j)"
   ]
  },
  {
   "cell_type": "code",
   "execution_count": null,
   "id": "7e766711",
   "metadata": {},
   "outputs": [],
   "source": [
    "plt.bar(day,count)"
   ]
  },
  {
   "cell_type": "code",
   "execution_count": null,
   "id": "532acaba",
   "metadata": {},
   "outputs": [],
   "source": [
    "month_of_start = [v['start_date'].month for k,v in commitment_index.items()]"
   ]
  },
  {
   "cell_type": "code",
   "execution_count": null,
   "id": "ae9d2506",
   "metadata": {},
   "outputs": [],
   "source": [
    "counts = list(Counter(month_of_start).items())"
   ]
  },
  {
   "cell_type": "code",
   "execution_count": null,
   "id": "8375eaeb",
   "metadata": {},
   "outputs": [],
   "source": [
    "counts.sort()"
   ]
  },
  {
   "cell_type": "code",
   "execution_count": null,
   "id": "94ef0666",
   "metadata": {},
   "outputs": [],
   "source": [
    "month = []\n",
    "count = []\n",
    "for i,j in counts:\n",
    "    month.append(i)\n",
    "    count.append(j)"
   ]
  },
  {
   "cell_type": "code",
   "execution_count": null,
   "id": "d8092669",
   "metadata": {},
   "outputs": [],
   "source": [
    "plt.bar(month,count)"
   ]
  },
  {
   "cell_type": "code",
   "execution_count": null,
   "id": "271c25c7",
   "metadata": {},
   "outputs": [],
   "source": [
    "day_of_year = []\n",
    "count = []\n",
    "for i in range(1,13):\n",
    "    for j in range(1,32):\n",
    "        day_of_year.append(f\"{j}_{i}\")\n",
    "        count.append(0)"
   ]
  },
  {
   "cell_type": "code",
   "execution_count": null,
   "id": "b530294a",
   "metadata": {},
   "outputs": [],
   "source": [
    "for k,v in commitment_index.items():\n",
    "    idx = day_of_year.index(f\"{v['start_date'].day}_{v['start_date'].month}\")\n",
    "    count[idx]+=1"
   ]
  },
  {
   "cell_type": "code",
   "execution_count": null,
   "id": "d1672d79",
   "metadata": {},
   "outputs": [],
   "source": [
    "plt.bar(day_of_year,count)"
   ]
  },
  {
   "cell_type": "code",
   "execution_count": null,
   "id": "2032b429",
   "metadata": {},
   "outputs": [],
   "source": [
    "weekday_of_start = [v['start_date'].weekday() for k,v in commitment_index.items()]"
   ]
  },
  {
   "cell_type": "code",
   "execution_count": null,
   "id": "03d0d836",
   "metadata": {},
   "outputs": [],
   "source": [
    "counts = list(Counter(weekday_of_start).items())"
   ]
  },
  {
   "cell_type": "code",
   "execution_count": null,
   "id": "df809699",
   "metadata": {},
   "outputs": [],
   "source": [
    "counts.sort()"
   ]
  },
  {
   "cell_type": "code",
   "execution_count": null,
   "id": "88dc5acb",
   "metadata": {},
   "outputs": [],
   "source": [
    "counts"
   ]
  },
  {
   "cell_type": "code",
   "execution_count": null,
   "id": "b3ef92dc",
   "metadata": {},
   "outputs": [],
   "source": [
    "day = []\n",
    "count = []\n",
    "for i,j in counts:\n",
    "    day.append(i)\n",
    "    count.append(j)"
   ]
  },
  {
   "cell_type": "code",
   "execution_count": null,
   "id": "25becdf7",
   "metadata": {},
   "outputs": [],
   "source": [
    "plt.bar(day,count)"
   ]
  },
  {
   "cell_type": "markdown",
   "id": "dce80d00",
   "metadata": {},
   "source": [
    "# reporting Interval "
   ]
  },
  {
   "cell_type": "code",
   "execution_count": null,
   "id": "baa0f272",
   "metadata": {},
   "outputs": [],
   "source": [
    "reporting_intervals = [int(v['days_per_reporting']) for k,v in commitment_index.items() if v['no_of_reports']>1]"
   ]
  },
  {
   "cell_type": "code",
   "execution_count": null,
   "id": "0e9b6017",
   "metadata": {},
   "outputs": [],
   "source": [
    "len(reporting_intervals)"
   ]
  },
  {
   "cell_type": "code",
   "execution_count": null,
   "id": "4540e52c",
   "metadata": {},
   "outputs": [],
   "source": [
    "len(set(reporting_intervals))"
   ]
  },
  {
   "cell_type": "code",
   "execution_count": null,
   "id": "a04a4a17",
   "metadata": {},
   "outputs": [],
   "source": [
    "counts = list(Counter(reporting_intervals).items())"
   ]
  },
  {
   "cell_type": "code",
   "execution_count": null,
   "id": "096ca305",
   "metadata": {},
   "outputs": [],
   "source": [
    "counts.sort()"
   ]
  },
  {
   "cell_type": "code",
   "execution_count": null,
   "id": "f7f8dfe8",
   "metadata": {},
   "outputs": [],
   "source": [
    "counts"
   ]
  },
  {
   "cell_type": "code",
   "execution_count": null,
   "id": "45730d42",
   "metadata": {},
   "outputs": [],
   "source": [
    "day = []\n",
    "count = []\n",
    "for i,j in counts:\n",
    "    day.append(i)\n",
    "    count.append(j)"
   ]
  },
  {
   "cell_type": "code",
   "execution_count": null,
   "id": "60748fbf",
   "metadata": {},
   "outputs": [],
   "source": [
    "plt.bar(day,count)"
   ]
  },
  {
   "cell_type": "code",
   "execution_count": null,
   "id": "d9aefde3",
   "metadata": {},
   "outputs": [],
   "source": [
    "plt.bar(day,count)\n",
    "plt.yscale('log')"
   ]
  },
  {
   "cell_type": "markdown",
   "id": "c7cf0e75",
   "metadata": {},
   "source": [
    "# Stake Type "
   ]
  },
  {
   "cell_type": "code",
   "execution_count": null,
   "id": "fb0f7c29",
   "metadata": {},
   "outputs": [],
   "source": [
    "stake_type = [v['type_of_stake'] for k,v in commitment_index.items()]"
   ]
  },
  {
   "cell_type": "code",
   "execution_count": null,
   "id": "d4cc15ed",
   "metadata": {},
   "outputs": [],
   "source": [
    "len(stake_type),len(set(stake_type))"
   ]
  },
  {
   "cell_type": "code",
   "execution_count": null,
   "id": "e66dc431",
   "metadata": {},
   "outputs": [],
   "source": [
    "stake_table = []\n",
    "for k,v in Counter(stake_type).items():\n",
    "    stake_table.append((k,v,100*v/len(commitment_index)))"
   ]
  },
  {
   "cell_type": "code",
   "execution_count": null,
   "id": "94037b1b",
   "metadata": {},
   "outputs": [],
   "source": [
    "pd.DataFrame(stake_table,columns=['Type','Count','%']).sort_values(by = '%')"
   ]
  },
  {
   "cell_type": "markdown",
   "id": "2e7d0558",
   "metadata": {},
   "source": [
    "## Amount of Stake"
   ]
  },
  {
   "cell_type": "markdown",
   "id": "4b5c74cd",
   "metadata": {},
   "source": [
    "### Total stake"
   ]
  },
  {
   "cell_type": "code",
   "execution_count": null,
   "id": "51700bfc",
   "metadata": {},
   "outputs": [],
   "source": [
    "total_stake = [v['total_stake'] for k,v in commitment_index.items() if (v['type_of_stake']!='No stakes') and ('reverted' not in v['type_of_stake'])]"
   ]
  },
  {
   "cell_type": "code",
   "execution_count": null,
   "id": "ce6f5ed9",
   "metadata": {},
   "outputs": [],
   "source": [
    "sorted(Counter(total_stake).items(), key=lambda x:x[0],reverse=False)"
   ]
  },
  {
   "cell_type": "code",
   "execution_count": null,
   "id": "61600f7a",
   "metadata": {},
   "outputs": [],
   "source": [
    "plt.hist(total_stake, bins = [0.0,5.0,10.0] + [i for i in range(20,101,10)] + [i for i in range(200,1000,100)] + [i for i in range(2000,int(max(total_stake)+1),1000)])"
   ]
  },
  {
   "cell_type": "code",
   "execution_count": null,
   "id": "b6fed0f9",
   "metadata": {
    "scrolled": true
   },
   "outputs": [],
   "source": [
    "plt.hist(total_stake)\n",
    "plt.yscale('log')"
   ]
  },
  {
   "cell_type": "code",
   "execution_count": null,
   "id": "04616eca",
   "metadata": {},
   "outputs": [],
   "source": [
    "unique_total_stake = list(set(total_stake))"
   ]
  },
  {
   "cell_type": "code",
   "execution_count": null,
   "id": "f512cb96",
   "metadata": {},
   "outputs": [],
   "source": [
    "unique_total_stake.sort()"
   ]
  },
  {
   "cell_type": "code",
   "execution_count": null,
   "id": "845f01c9",
   "metadata": {},
   "outputs": [],
   "source": [
    "len(unique_total_stake)"
   ]
  },
  {
   "cell_type": "code",
   "execution_count": null,
   "id": "b47ee2ca",
   "metadata": {},
   "outputs": [],
   "source": [
    "total_users_with_stake = 0\n",
    "for k,v in commitment_index.items():\n",
    "    if (v['type_of_stake']!='No stakes') and ('reverted' not in v['type_of_stake']):\n",
    "        total_users_with_stake+=1\n",
    "total_users_with_stake"
   ]
  },
  {
   "cell_type": "code",
   "execution_count": null,
   "id": "2c53a142",
   "metadata": {},
   "outputs": [],
   "source": [
    "total_stake_CDF = np.zeros(len(unique_total_stake))\n",
    "for k,v in tqdm(commitment_index.items()):\n",
    "    if (v['type_of_stake']!='No stakes') and ('reverted' not in v['type_of_stake']):\n",
    "        count_index = unique_total_stake.index(v['total_stake'])\n",
    "        total_stake_CDF[count_index:]+=1"
   ]
  },
  {
   "cell_type": "code",
   "execution_count": null,
   "id": "8e54c75a",
   "metadata": {},
   "outputs": [],
   "source": [
    "total_stake_CDF/=total_users_with_stake"
   ]
  },
  {
   "cell_type": "code",
   "execution_count": null,
   "id": "7ceda5b4",
   "metadata": {},
   "outputs": [],
   "source": [
    "plt.plot(unique_total_stake,total_stake_CDF,label ='Total Stakes')\n",
    "plt.legend()"
   ]
  },
  {
   "cell_type": "markdown",
   "id": "fd261c69",
   "metadata": {},
   "source": [
    "### < 1000"
   ]
  },
  {
   "cell_type": "code",
   "execution_count": null,
   "id": "46ca7add",
   "metadata": {},
   "outputs": [],
   "source": [
    "unique_total_stake = list(set(total_stake))"
   ]
  },
  {
   "cell_type": "code",
   "execution_count": null,
   "id": "e8db3d23",
   "metadata": {},
   "outputs": [],
   "source": [
    "unique_total_stake.sort()"
   ]
  },
  {
   "cell_type": "code",
   "execution_count": null,
   "id": "7696fef2",
   "metadata": {},
   "outputs": [],
   "source": [
    "len(unique_total_stake)"
   ]
  },
  {
   "cell_type": "code",
   "execution_count": null,
   "id": "54e5877c",
   "metadata": {},
   "outputs": [],
   "source": [
    "unique_total_stake = [i for i in unique_total_stake if i<=1000.0]"
   ]
  },
  {
   "cell_type": "code",
   "execution_count": null,
   "id": "7a137e2a",
   "metadata": {},
   "outputs": [],
   "source": [
    "unique_total_stake.sort()"
   ]
  },
  {
   "cell_type": "code",
   "execution_count": null,
   "id": "a6e1ddce",
   "metadata": {},
   "outputs": [],
   "source": [
    "len(unique_total_stake)"
   ]
  },
  {
   "cell_type": "code",
   "execution_count": null,
   "id": "fc252ac5",
   "metadata": {},
   "outputs": [],
   "source": [
    "total_stake_CDF = np.zeros(len(unique_total_stake))\n",
    "for k,v in tqdm(commitment_index.items()):\n",
    "    if (v['type_of_stake']!='No stakes') and ('reverted' not in v['type_of_stake']) and (v['total_stake']<=1000.0):\n",
    "        count_index = unique_total_stake.index(v['total_stake'])\n",
    "        total_stake_CDF[count_index:]+=1"
   ]
  },
  {
   "cell_type": "code",
   "execution_count": null,
   "id": "c328eddf",
   "metadata": {},
   "outputs": [],
   "source": [
    "total_stake_CDF/=total_users_with_stake"
   ]
  },
  {
   "cell_type": "code",
   "execution_count": null,
   "id": "50fa03e3",
   "metadata": {},
   "outputs": [],
   "source": [
    "plt.plot(unique_total_stake,total_stake_CDF,label ='Total Stakes')\n",
    "plt.legend()"
   ]
  },
  {
   "cell_type": "markdown",
   "id": "b02565b3",
   "metadata": {},
   "source": [
    "#### Amount VS Stake"
   ]
  },
  {
   "cell_type": "code",
   "execution_count": null,
   "id": "dddb4839",
   "metadata": {},
   "outputs": [],
   "source": [
    "unique_total_stake = list(set(total_stake))"
   ]
  },
  {
   "cell_type": "code",
   "execution_count": null,
   "id": "ae6d16bb",
   "metadata": {},
   "outputs": [],
   "source": [
    "unique_total_stake.sort()"
   ]
  },
  {
   "cell_type": "code",
   "execution_count": null,
   "id": "d3a7df12",
   "metadata": {},
   "outputs": [],
   "source": [
    "len(unique_total_stake)"
   ]
  },
  {
   "cell_type": "code",
   "execution_count": null,
   "id": "2586a9e9",
   "metadata": {},
   "outputs": [],
   "source": [
    "stickK_users_with_stake = 0\n",
    "Money_to_a_friend_users_with_stake = 0\n",
    "Charity_users_with_stake = 0\n",
    "Anti_charity_users_with_stake = 0\n",
    "for k,v in commitment_index.items():\n",
    "    if v['type_of_stake'] == 'stickK':\n",
    "        stickK_users_with_stake+=1\n",
    "    elif v['type_of_stake'] == 'Money to a friend':\n",
    "        Money_to_a_friend_users_with_stake+=1\n",
    "    elif v['type_of_stake'] == 'Charity':\n",
    "        Charity_users_with_stake+=1\n",
    "    elif v['type_of_stake'] == 'Anti-charity':\n",
    "        Anti_charity_users_with_stake+=1\n",
    "\n",
    "stickK_users_with_stake,Money_to_a_friend_users_with_stake,Charity_users_with_stake,Anti_charity_users_with_stake"
   ]
  },
  {
   "cell_type": "code",
   "execution_count": null,
   "id": "4856672d",
   "metadata": {},
   "outputs": [],
   "source": [
    "stickK_stake_CDF = np.zeros(len(unique_total_stake))\n",
    "Money_to_a_friend_stake_CDF = np.zeros(len(unique_total_stake))\n",
    "Charity_stake_CDF = np.zeros(len(unique_total_stake))\n",
    "Anti_charity_stake_CDF = np.zeros(len(unique_total_stake))\n",
    "for k,v in tqdm(commitment_index.items()):\n",
    "    if v['type_of_stake'] == 'stickK':\n",
    "        count_index = unique_total_stake.index(v['total_stake'])\n",
    "        stickK_stake_CDF[count_index:]+=1\n",
    "    elif v['type_of_stake'] == 'Money to a friend':\n",
    "        count_index = unique_total_stake.index(v['total_stake'])\n",
    "        Money_to_a_friend_stake_CDF[count_index:]+=1\n",
    "    elif v['type_of_stake'] == 'Charity':\n",
    "        count_index = unique_total_stake.index(v['total_stake'])\n",
    "        Charity_stake_CDF[count_index:]+=1\n",
    "    elif v['type_of_stake'] == 'Anti-charity':\n",
    "        count_index = unique_total_stake.index(v['total_stake'])\n",
    "        Anti_charity_stake_CDF[count_index:]+=1"
   ]
  },
  {
   "cell_type": "code",
   "execution_count": null,
   "id": "3430c8c4",
   "metadata": {},
   "outputs": [],
   "source": [
    "stickK_stake_CDF/=stickK_users_with_stake\n",
    "Money_to_a_friend_stake_CDF/=Money_to_a_friend_users_with_stake\n",
    "Charity_stake_CDF/=Charity_users_with_stake\n",
    "Anti_charity_stake_CDF/=Anti_charity_users_with_stake"
   ]
  },
  {
   "cell_type": "code",
   "execution_count": null,
   "id": "6187cbd5",
   "metadata": {},
   "outputs": [],
   "source": [
    "plt.plot(unique_total_stake,stickK_stake_CDF,label ='Stickk')\n",
    "plt.plot(unique_total_stake,Money_to_a_friend_stake_CDF,label ='M to F')\n",
    "plt.plot(unique_total_stake,Charity_stake_CDF,label ='Charity')\n",
    "plt.plot(unique_total_stake,Anti_charity_stake_CDF,label ='Anti Charity')\n",
    "plt.legend()"
   ]
  },
  {
   "cell_type": "markdown",
   "id": "cc3d6047",
   "metadata": {},
   "source": [
    "<1000"
   ]
  },
  {
   "cell_type": "code",
   "execution_count": null,
   "id": "d891b91b",
   "metadata": {},
   "outputs": [],
   "source": [
    "unique_total_stake = list(set(total_stake))"
   ]
  },
  {
   "cell_type": "code",
   "execution_count": null,
   "id": "5cb80d25",
   "metadata": {},
   "outputs": [],
   "source": [
    "unique_total_stake.sort()"
   ]
  },
  {
   "cell_type": "code",
   "execution_count": null,
   "id": "714d596a",
   "metadata": {},
   "outputs": [],
   "source": [
    "len(unique_total_stake)"
   ]
  },
  {
   "cell_type": "code",
   "execution_count": null,
   "id": "9db995a5",
   "metadata": {},
   "outputs": [],
   "source": [
    "unique_total_stake = [i for i in unique_total_stake if i<=1000.0]"
   ]
  },
  {
   "cell_type": "code",
   "execution_count": null,
   "id": "d5466e9a",
   "metadata": {},
   "outputs": [],
   "source": [
    "unique_total_stake.sort()"
   ]
  },
  {
   "cell_type": "code",
   "execution_count": null,
   "id": "5f800f29",
   "metadata": {},
   "outputs": [],
   "source": [
    "len(unique_total_stake)"
   ]
  },
  {
   "cell_type": "code",
   "execution_count": null,
   "id": "a2afeb32",
   "metadata": {},
   "outputs": [],
   "source": [
    "stickK_stake_CDF = np.zeros(len(unique_total_stake))\n",
    "Money_to_a_friend_stake_CDF = np.zeros(len(unique_total_stake))\n",
    "Charity_stake_CDF = np.zeros(len(unique_total_stake))\n",
    "Anti_charity_stake_CDF = np.zeros(len(unique_total_stake))\n",
    "for k,v in tqdm(commitment_index.items()):\n",
    "    if v['total_stake']<=1000.0:\n",
    "        if v['type_of_stake'] == 'stickK':\n",
    "            count_index = unique_total_stake.index(v['total_stake'])\n",
    "            stickK_stake_CDF[count_index:]+=1\n",
    "        elif v['type_of_stake'] == 'Money to a friend':\n",
    "            count_index = unique_total_stake.index(v['total_stake'])\n",
    "            Money_to_a_friend_stake_CDF[count_index:]+=1\n",
    "        elif v['type_of_stake'] == 'Charity':\n",
    "            count_index = unique_total_stake.index(v['total_stake'])\n",
    "            Charity_stake_CDF[count_index:]+=1\n",
    "        elif v['type_of_stake'] == 'Anti-charity':\n",
    "            count_index = unique_total_stake.index(v['total_stake'])\n",
    "            Anti_charity_stake_CDF[count_index:]+=1"
   ]
  },
  {
   "cell_type": "code",
   "execution_count": null,
   "id": "16259994",
   "metadata": {},
   "outputs": [],
   "source": [
    "stickK_stake_CDF/=stickK_users_with_stake\n",
    "Money_to_a_friend_stake_CDF/=Money_to_a_friend_users_with_stake\n",
    "Charity_stake_CDF/=Charity_users_with_stake\n",
    "Anti_charity_stake_CDF/=Anti_charity_users_with_stake"
   ]
  },
  {
   "cell_type": "code",
   "execution_count": null,
   "id": "291e7372",
   "metadata": {},
   "outputs": [],
   "source": [
    "plt.plot(unique_total_stake,stickK_stake_CDF,label ='Stickk')\n",
    "plt.plot(unique_total_stake,Money_to_a_friend_stake_CDF,label ='M to F')\n",
    "plt.plot(unique_total_stake,Charity_stake_CDF,label ='Charity')\n",
    "plt.plot(unique_total_stake,Anti_charity_stake_CDF,label ='Anti Charity')\n",
    "plt.legend()"
   ]
  },
  {
   "cell_type": "code",
   "execution_count": null,
   "id": "2c66ccde",
   "metadata": {},
   "outputs": [],
   "source": []
  },
  {
   "cell_type": "markdown",
   "id": "f8c0a94f",
   "metadata": {},
   "source": [
    "### Stake per period"
   ]
  },
  {
   "cell_type": "code",
   "execution_count": null,
   "id": "11c11bc9",
   "metadata": {},
   "outputs": [],
   "source": [
    "total_stake = [v['stake_per_period'] for k,v in commitment_index.items() if (v['type_of_stake']!='No stakes') and ('reverted' not in v['type_of_stake'])]"
   ]
  },
  {
   "cell_type": "code",
   "execution_count": null,
   "id": "5290ce91",
   "metadata": {},
   "outputs": [],
   "source": [
    "sorted(Counter(total_stake).items(), key=lambda x:x[0],reverse=False)"
   ]
  },
  {
   "cell_type": "code",
   "execution_count": null,
   "id": "a32996f1",
   "metadata": {},
   "outputs": [],
   "source": [
    "plt.hist(total_stake)"
   ]
  },
  {
   "cell_type": "code",
   "execution_count": null,
   "id": "5fe3c76d",
   "metadata": {},
   "outputs": [],
   "source": [
    "plt.hist(total_stake, bins = [0.0,5.0,10.0] + [i for i in range(20,101,10)] + [i for i in range(200,1000,100)])"
   ]
  },
  {
   "cell_type": "code",
   "execution_count": null,
   "id": "0fd50b37",
   "metadata": {},
   "outputs": [],
   "source": [
    "plt.hist(total_stake, bins = [i for i in range(0,101,5)])"
   ]
  },
  {
   "cell_type": "code",
   "execution_count": null,
   "id": "39c873e1",
   "metadata": {},
   "outputs": [],
   "source": [
    "unique_total_stake = list(set(total_stake))"
   ]
  },
  {
   "cell_type": "code",
   "execution_count": null,
   "id": "7d0bf933",
   "metadata": {},
   "outputs": [],
   "source": [
    "unique_total_stake.sort()"
   ]
  },
  {
   "cell_type": "code",
   "execution_count": null,
   "id": "820cf6fd",
   "metadata": {},
   "outputs": [],
   "source": [
    "len(unique_total_stake)"
   ]
  },
  {
   "cell_type": "code",
   "execution_count": null,
   "id": "8bfc36b8",
   "metadata": {},
   "outputs": [],
   "source": [
    "total_users_with_stake = 0\n",
    "for k,v in commitment_index.items():\n",
    "    if (v['type_of_stake']!='No stakes') and ('reverted' not in v['type_of_stake']):\n",
    "        total_users_with_stake+=1\n",
    "total_users_with_stake"
   ]
  },
  {
   "cell_type": "code",
   "execution_count": null,
   "id": "cf4e606d",
   "metadata": {},
   "outputs": [],
   "source": [
    "total_stake_CDF = np.zeros(len(unique_total_stake))\n",
    "for k,v in tqdm(commitment_index.items()):\n",
    "    if (v['type_of_stake']!='No stakes') and ('reverted' not in v['type_of_stake']):\n",
    "        count_index = unique_total_stake.index(v['stake_per_period'])\n",
    "        total_stake_CDF[count_index:]+=1"
   ]
  },
  {
   "cell_type": "code",
   "execution_count": null,
   "id": "5ce211b6",
   "metadata": {},
   "outputs": [],
   "source": [
    "total_stake_CDF/=total_users_with_stake"
   ]
  },
  {
   "cell_type": "code",
   "execution_count": null,
   "id": "13f29dfe",
   "metadata": {},
   "outputs": [],
   "source": [
    "plt.plot(unique_total_stake,total_stake_CDF,label ='Stakes per period')\n",
    "plt.legend()"
   ]
  },
  {
   "cell_type": "markdown",
   "id": "1aa16f73",
   "metadata": {},
   "source": [
    "### < 100"
   ]
  },
  {
   "cell_type": "code",
   "execution_count": null,
   "id": "d0fa4a8e",
   "metadata": {},
   "outputs": [],
   "source": [
    "unique_total_stake = list(set(total_stake))"
   ]
  },
  {
   "cell_type": "code",
   "execution_count": null,
   "id": "4e79e2a6",
   "metadata": {},
   "outputs": [],
   "source": [
    "unique_total_stake.sort()"
   ]
  },
  {
   "cell_type": "code",
   "execution_count": null,
   "id": "cfbae5ad",
   "metadata": {},
   "outputs": [],
   "source": [
    "len(unique_total_stake)"
   ]
  },
  {
   "cell_type": "code",
   "execution_count": null,
   "id": "1df3a227",
   "metadata": {},
   "outputs": [],
   "source": [
    "unique_total_stake = [i for i in unique_total_stake if i<=100.0]"
   ]
  },
  {
   "cell_type": "code",
   "execution_count": null,
   "id": "a953eeac",
   "metadata": {},
   "outputs": [],
   "source": [
    "unique_total_stake.sort()"
   ]
  },
  {
   "cell_type": "code",
   "execution_count": null,
   "id": "a0396d65",
   "metadata": {},
   "outputs": [],
   "source": [
    "len(unique_total_stake)"
   ]
  },
  {
   "cell_type": "code",
   "execution_count": null,
   "id": "1e29cb6e",
   "metadata": {},
   "outputs": [],
   "source": [
    "total_stake_CDF = np.zeros(len(unique_total_stake))\n",
    "for k,v in tqdm(commitment_index.items()):\n",
    "    if (v['type_of_stake']!='No stakes') and ('reverted' not in v['type_of_stake']) and (v['stake_per_period']<=100.0):\n",
    "        count_index = unique_total_stake.index(v['stake_per_period'])\n",
    "        total_stake_CDF[count_index:]+=1"
   ]
  },
  {
   "cell_type": "code",
   "execution_count": null,
   "id": "4b51357e",
   "metadata": {},
   "outputs": [],
   "source": [
    "total_stake_CDF/=total_users_with_stake"
   ]
  },
  {
   "cell_type": "code",
   "execution_count": null,
   "id": "f9c8ce0a",
   "metadata": {},
   "outputs": [],
   "source": [
    "plt.plot(unique_total_stake,total_stake_CDF,label ='Total Stakes')\n",
    "plt.legend()"
   ]
  },
  {
   "cell_type": "markdown",
   "id": "2c7a68d2",
   "metadata": {},
   "source": [
    "#### Amount VS Stake"
   ]
  },
  {
   "cell_type": "code",
   "execution_count": null,
   "id": "4941bc6b",
   "metadata": {},
   "outputs": [],
   "source": [
    "unique_total_stake = list(set(total_stake))"
   ]
  },
  {
   "cell_type": "code",
   "execution_count": null,
   "id": "d2add649",
   "metadata": {},
   "outputs": [],
   "source": [
    "unique_total_stake.sort()"
   ]
  },
  {
   "cell_type": "code",
   "execution_count": null,
   "id": "8e96293f",
   "metadata": {},
   "outputs": [],
   "source": [
    "len(unique_total_stake)"
   ]
  },
  {
   "cell_type": "code",
   "execution_count": null,
   "id": "092d64e5",
   "metadata": {},
   "outputs": [],
   "source": [
    "stickK_users_with_stake = 0\n",
    "Money_to_a_friend_users_with_stake = 0\n",
    "Charity_users_with_stake = 0\n",
    "Anti_charity_users_with_stake = 0\n",
    "for k,v in commitment_index.items():\n",
    "    if v['type_of_stake'] == 'stickK':\n",
    "        stickK_users_with_stake+=1\n",
    "    elif v['type_of_stake'] == 'Money to a friend':\n",
    "        Money_to_a_friend_users_with_stake+=1\n",
    "    elif v['type_of_stake'] == 'Charity':\n",
    "        Charity_users_with_stake+=1\n",
    "    elif v['type_of_stake'] == 'Anti-charity':\n",
    "        Anti_charity_users_with_stake+=1\n",
    "\n",
    "stickK_users_with_stake,Money_to_a_friend_users_with_stake,Charity_users_with_stake,Anti_charity_users_with_stake"
   ]
  },
  {
   "cell_type": "code",
   "execution_count": null,
   "id": "9de6e9da",
   "metadata": {},
   "outputs": [],
   "source": [
    "stickK_stake_CDF = np.zeros(len(unique_total_stake))\n",
    "Money_to_a_friend_stake_CDF = np.zeros(len(unique_total_stake))\n",
    "Charity_stake_CDF = np.zeros(len(unique_total_stake))\n",
    "Anti_charity_stake_CDF = np.zeros(len(unique_total_stake))\n",
    "for k,v in tqdm(commitment_index.items()):\n",
    "    if v['type_of_stake'] == 'stickK':\n",
    "        count_index = unique_total_stake.index(v['stake_per_period'])\n",
    "        stickK_stake_CDF[count_index:]+=1\n",
    "    elif v['type_of_stake'] == 'Money to a friend':\n",
    "        count_index = unique_total_stake.index(v['stake_per_period'])\n",
    "        Money_to_a_friend_stake_CDF[count_index:]+=1\n",
    "    elif v['type_of_stake'] == 'Charity':\n",
    "        count_index = unique_total_stake.index(v['stake_per_period'])\n",
    "        Charity_stake_CDF[count_index:]+=1\n",
    "    elif v['type_of_stake'] == 'Anti-charity':\n",
    "        count_index = unique_total_stake.index(v['stake_per_period'])\n",
    "        Anti_charity_stake_CDF[count_index:]+=1"
   ]
  },
  {
   "cell_type": "code",
   "execution_count": null,
   "id": "6756b31a",
   "metadata": {},
   "outputs": [],
   "source": [
    "stickK_stake_CDF/=stickK_users_with_stake\n",
    "Money_to_a_friend_stake_CDF/=Money_to_a_friend_users_with_stake\n",
    "Charity_stake_CDF/=Charity_users_with_stake\n",
    "Anti_charity_stake_CDF/=Anti_charity_users_with_stake"
   ]
  },
  {
   "cell_type": "code",
   "execution_count": null,
   "id": "2bae149c",
   "metadata": {},
   "outputs": [],
   "source": [
    "plt.plot(unique_total_stake,stickK_stake_CDF,label ='Stickk')\n",
    "plt.plot(unique_total_stake,Money_to_a_friend_stake_CDF,label ='M to F')\n",
    "plt.plot(unique_total_stake,Charity_stake_CDF,label ='Charity')\n",
    "plt.plot(unique_total_stake,Anti_charity_stake_CDF,label ='Anti Charity')\n",
    "plt.legend()"
   ]
  },
  {
   "cell_type": "markdown",
   "id": "30717e3f",
   "metadata": {},
   "source": [
    "### <100"
   ]
  },
  {
   "cell_type": "code",
   "execution_count": null,
   "id": "d630f93c",
   "metadata": {},
   "outputs": [],
   "source": [
    "unique_total_stake = list(set(total_stake))"
   ]
  },
  {
   "cell_type": "code",
   "execution_count": null,
   "id": "3783fe0b",
   "metadata": {},
   "outputs": [],
   "source": [
    "unique_total_stake.sort()"
   ]
  },
  {
   "cell_type": "code",
   "execution_count": null,
   "id": "aa0e586d",
   "metadata": {},
   "outputs": [],
   "source": [
    "len(unique_total_stake)"
   ]
  },
  {
   "cell_type": "code",
   "execution_count": null,
   "id": "f6e2ad31",
   "metadata": {},
   "outputs": [],
   "source": [
    "unique_total_stake = [i for i in unique_total_stake if i<=100.0]"
   ]
  },
  {
   "cell_type": "code",
   "execution_count": null,
   "id": "64a1f0c8",
   "metadata": {},
   "outputs": [],
   "source": [
    "unique_total_stake.sort()"
   ]
  },
  {
   "cell_type": "code",
   "execution_count": null,
   "id": "72b2f88a",
   "metadata": {},
   "outputs": [],
   "source": [
    "len(unique_total_stake)"
   ]
  },
  {
   "cell_type": "code",
   "execution_count": null,
   "id": "8ef8b991",
   "metadata": {},
   "outputs": [],
   "source": [
    "stickK_stake_CDF = np.zeros(len(unique_total_stake))\n",
    "Money_to_a_friend_stake_CDF = np.zeros(len(unique_total_stake))\n",
    "Charity_stake_CDF = np.zeros(len(unique_total_stake))\n",
    "Anti_charity_stake_CDF = np.zeros(len(unique_total_stake))\n",
    "for k,v in tqdm(commitment_index.items()):\n",
    "    if v['stake_per_period']<=100.0:\n",
    "        if v['type_of_stake'] == 'stickK':\n",
    "            count_index = unique_total_stake.index(v['stake_per_period'])\n",
    "            stickK_stake_CDF[count_index:]+=1\n",
    "        elif v['type_of_stake'] == 'Money to a friend':\n",
    "            count_index = unique_total_stake.index(v['stake_per_period'])\n",
    "            Money_to_a_friend_stake_CDF[count_index:]+=1\n",
    "        elif v['type_of_stake'] == 'Charity':\n",
    "            count_index = unique_total_stake.index(v['stake_per_period'])\n",
    "            Charity_stake_CDF[count_index:]+=1\n",
    "        elif v['type_of_stake'] == 'Anti-charity':\n",
    "            count_index = unique_total_stake.index(v['stake_per_period'])\n",
    "            Anti_charity_stake_CDF[count_index:]+=1"
   ]
  },
  {
   "cell_type": "code",
   "execution_count": null,
   "id": "7eab784c",
   "metadata": {},
   "outputs": [],
   "source": [
    "stickK_stake_CDF/=stickK_users_with_stake\n",
    "Money_to_a_friend_stake_CDF/=Money_to_a_friend_users_with_stake\n",
    "Charity_stake_CDF/=Charity_users_with_stake\n",
    "Anti_charity_stake_CDF/=Anti_charity_users_with_stake"
   ]
  },
  {
   "cell_type": "code",
   "execution_count": null,
   "id": "aa233f4c",
   "metadata": {},
   "outputs": [],
   "source": [
    "plt.plot(unique_total_stake,stickK_stake_CDF,label ='Stickk')\n",
    "plt.plot(unique_total_stake,Money_to_a_friend_stake_CDF,label ='M to F')\n",
    "plt.plot(unique_total_stake,Charity_stake_CDF,label ='Charity')\n",
    "plt.plot(unique_total_stake,Anti_charity_stake_CDF,label ='Anti Charity')\n",
    "plt.legend()"
   ]
  },
  {
   "cell_type": "markdown",
   "id": "bfbb81f4",
   "metadata": {},
   "source": [
    "## Refree "
   ]
  },
  {
   "cell_type": "code",
   "execution_count": null,
   "id": "f726490e",
   "metadata": {},
   "outputs": [],
   "source": [
    "refree = [v['self_refree'] for k,v in commitment_index.items()]"
   ]
  },
  {
   "cell_type": "code",
   "execution_count": null,
   "id": "e78d0a09",
   "metadata": {},
   "outputs": [],
   "source": [
    "for k,v in Counter(refree).items():\n",
    "    print(k,v,v*100/len(commitment_index))"
   ]
  },
  {
   "cell_type": "markdown",
   "id": "abc8c226",
   "metadata": {},
   "source": [
    "### Support"
   ]
  },
  {
   "cell_type": "code",
   "execution_count": null,
   "id": "e2b3eeb5",
   "metadata": {},
   "outputs": [],
   "source": [
    "supporters = [v['no_of_supporters'] for k,v in commitment_index.items()]"
   ]
  },
  {
   "cell_type": "code",
   "execution_count": null,
   "id": "37dd3c84",
   "metadata": {},
   "outputs": [],
   "source": [
    "min(supporters),max(supporters)"
   ]
  },
  {
   "cell_type": "code",
   "execution_count": null,
   "id": "5a67c52c",
   "metadata": {},
   "outputs": [],
   "source": [
    "Counter(supporters)"
   ]
  },
  {
   "cell_type": "markdown",
   "id": "ea8cae62",
   "metadata": {},
   "source": [
    "## Reporting Success, Not Reported, not successfull"
   ]
  },
  {
   "cell_type": "code",
   "execution_count": null,
   "id": "8c3b49a6",
   "metadata": {},
   "outputs": [],
   "source": [
    "sucessful = []\n",
    "not_sucessful = []\n",
    "not_reported = []\n",
    "for k,v in commitment_index.items():\n",
    "    sucessful.append(v['sucessful']*100/v['no_of_reports'])\n",
    "    not_sucessful.append(v['not_sucessful']*100/v['no_of_reports'])\n",
    "    not_reported.append(v['not_reported']*100/v['no_of_reports'])"
   ]
  },
  {
   "cell_type": "code",
   "execution_count": null,
   "id": "c40f024b",
   "metadata": {},
   "outputs": [],
   "source": [
    "plt.hist(sucessful,bins = [i for i in range(0,101,5)])"
   ]
  },
  {
   "cell_type": "code",
   "execution_count": null,
   "id": "73d3750c",
   "metadata": {},
   "outputs": [],
   "source": [
    "plt.hist(not_sucessful,bins = [i for i in range(0,101,5)])"
   ]
  },
  {
   "cell_type": "code",
   "execution_count": null,
   "id": "4fa5b2a4",
   "metadata": {},
   "outputs": [],
   "source": [
    "plt.hist(not_reported,bins = [i for i in range(0,101,5)])"
   ]
  },
  {
   "cell_type": "code",
   "execution_count": null,
   "id": "0d93fb3a",
   "metadata": {},
   "outputs": [],
   "source": [
    "unique_sucessful = list(set(sucessful))\n",
    "unique_not_sucessful = list(set(not_sucessful))\n",
    "unique_not_reported = list(set(not_reported))"
   ]
  },
  {
   "cell_type": "code",
   "execution_count": null,
   "id": "871fde47",
   "metadata": {},
   "outputs": [],
   "source": [
    "unique_sucessful.sort()\n",
    "unique_not_sucessful.sort()\n",
    "unique_not_reported.sort()"
   ]
  },
  {
   "cell_type": "code",
   "execution_count": null,
   "id": "5eb07f4e",
   "metadata": {},
   "outputs": [],
   "source": [
    "len(unique_sucessful),len(unique_not_sucessful),len(unique_not_reported)"
   ]
  },
  {
   "cell_type": "code",
   "execution_count": null,
   "id": "901c96ee",
   "metadata": {},
   "outputs": [],
   "source": [
    "sucessful_CDF = np.zeros(len(unique_sucessful))\n",
    "not_sucessful_CDF = np.zeros(len(unique_not_sucessful))\n",
    "not_reported_CDF = np.zeros(len(unique_not_reported))\n",
    "for k,v in tqdm(commitment_index.items()):\n",
    "    count_index = unique_sucessful.index(v['sucessful']*100/v['no_of_reports'])\n",
    "    sucessful_CDF[count_index:]+=1\n",
    "    \n",
    "    count_index = unique_not_sucessful.index(v['not_sucessful']*100/v['no_of_reports'])\n",
    "    not_sucessful_CDF[count_index:]+=1\n",
    "    \n",
    "    count_index = unique_not_reported.index(v['not_reported']*100/v['no_of_reports'])\n",
    "    not_reported_CDF[count_index:]+=1"
   ]
  },
  {
   "cell_type": "code",
   "execution_count": null,
   "id": "59bf9724",
   "metadata": {},
   "outputs": [],
   "source": [
    "sucessful_CDF/=len(commitment_index)\n",
    "not_sucessful_CDF/=len(commitment_index)\n",
    "not_reported_CDF/=len(commitment_index)"
   ]
  },
  {
   "cell_type": "code",
   "execution_count": null,
   "id": "55c99b0f",
   "metadata": {},
   "outputs": [],
   "source": [
    "plt.plot(unique_sucessful,sucessful_CDF,label ='Success')\n",
    "plt.plot(unique_not_sucessful,not_sucessful_CDF,label ='not Success')\n",
    "plt.plot(unique_not_reported,not_reported_CDF,label ='not reported')\n",
    "plt.legend()"
   ]
  },
  {
   "cell_type": "markdown",
   "id": "c3671e0e",
   "metadata": {},
   "source": [
    "## Length vs Success"
   ]
  },
  {
   "cell_type": "code",
   "execution_count": null,
   "id": "a472878a",
   "metadata": {},
   "outputs": [],
   "source": [
    "duration = []\n",
    "success_percentage = []\n",
    "\n",
    "for k,v in commitment_index.items():\n",
    "    duration.append(v['length_in_days'])\n",
    "    success_percentage.append(v['sucessful']*100/v['no_of_reports'])"
   ]
  },
  {
   "cell_type": "code",
   "execution_count": null,
   "id": "a474824b",
   "metadata": {},
   "outputs": [],
   "source": [
    "plt.scatter(duration,success_percentage)"
   ]
  },
  {
   "cell_type": "code",
   "execution_count": null,
   "id": "3f0d4800",
   "metadata": {},
   "outputs": [],
   "source": [
    "plt.scatter(duration,success_percentage)\n",
    "plt.xscale('log')"
   ]
  },
  {
   "cell_type": "code",
   "execution_count": null,
   "id": "31d480e2",
   "metadata": {},
   "outputs": [],
   "source": [
    "plt.scatter(duration,success_percentage)\n",
    "plt.xlim((0,365))"
   ]
  },
  {
   "cell_type": "code",
   "execution_count": null,
   "id": "f2556d75",
   "metadata": {},
   "outputs": [],
   "source": [
    "plt.scatter(duration,success_percentage)\n",
    "plt.xlim((0,100))"
   ]
  },
  {
   "cell_type": "markdown",
   "id": "688db7c5",
   "metadata": {},
   "source": [
    "## Length vs Not reported"
   ]
  },
  {
   "cell_type": "code",
   "execution_count": null,
   "id": "a684fbda",
   "metadata": {},
   "outputs": [],
   "source": [
    "duration = []\n",
    "not_reported_percentage = []\n",
    "\n",
    "for k,v in commitment_index.items():\n",
    "    duration.append(v['length_in_days'])\n",
    "    not_reported_percentage.append(v['not_reported']*100/v['no_of_reports'])"
   ]
  },
  {
   "cell_type": "code",
   "execution_count": null,
   "id": "2ac443e4",
   "metadata": {},
   "outputs": [],
   "source": [
    "plt.scatter(duration,not_reported_percentage)"
   ]
  },
  {
   "cell_type": "code",
   "execution_count": null,
   "id": "cba30d26",
   "metadata": {},
   "outputs": [],
   "source": [
    "plt.scatter(duration,not_reported_percentage)\n",
    "plt.xscale('log')"
   ]
  },
  {
   "cell_type": "code",
   "execution_count": null,
   "id": "6094ac82",
   "metadata": {},
   "outputs": [],
   "source": [
    "plt.scatter(duration,not_reported_percentage)\n",
    "plt.xlim((0,365))"
   ]
  },
  {
   "cell_type": "code",
   "execution_count": null,
   "id": "cf821160",
   "metadata": {},
   "outputs": [],
   "source": [
    "plt.scatter(duration,not_reported_percentage)\n",
    "plt.xlim((0,100))"
   ]
  },
  {
   "cell_type": "code",
   "execution_count": null,
   "id": "b488fdfd",
   "metadata": {},
   "outputs": [],
   "source": []
  },
  {
   "cell_type": "markdown",
   "id": "00d579ca",
   "metadata": {},
   "source": [
    "## Stake vs Success"
   ]
  },
  {
   "cell_type": "code",
   "execution_count": null,
   "id": "78b761ed",
   "metadata": {},
   "outputs": [],
   "source": [
    "stake = []\n",
    "success_percentage = []\n",
    "\n",
    "for k,v in commitment_index.items():\n",
    "    stake.append(v['stake_per_period'])\n",
    "    success_percentage.append(v['sucessful']*100/v['no_of_reports'])"
   ]
  },
  {
   "cell_type": "code",
   "execution_count": null,
   "id": "68e2305a",
   "metadata": {},
   "outputs": [],
   "source": [
    "plt.scatter(stake,success_percentage)"
   ]
  },
  {
   "cell_type": "code",
   "execution_count": null,
   "id": "f444f6f7",
   "metadata": {},
   "outputs": [],
   "source": [
    "plt.scatter(stake,success_percentage)\n",
    "plt.xscale('log')"
   ]
  },
  {
   "cell_type": "code",
   "execution_count": null,
   "id": "9c272b64",
   "metadata": {},
   "outputs": [],
   "source": [
    "plt.scatter(stake,success_percentage)\n",
    "plt.xlim((0,365))"
   ]
  },
  {
   "cell_type": "code",
   "execution_count": null,
   "id": "cd70eb03",
   "metadata": {},
   "outputs": [],
   "source": [
    "plt.scatter(stake,success_percentage)\n",
    "plt.xlim((0,100))"
   ]
  },
  {
   "cell_type": "markdown",
   "id": "7cb0b7a1",
   "metadata": {},
   "source": [
    "# Type of Stake vs success"
   ]
  },
  {
   "cell_type": "code",
   "execution_count": null,
   "id": "82598d03",
   "metadata": {},
   "outputs": [],
   "source": [
    "stake_data = defaultdict(lambda: {\"sucessful\":[],\"not_sucessful\":[],\"not_reported\":[]})\n",
    "for k,v in commitment_index.items():\n",
    "    stake_data[v['type_of_stake']]['sucessful'].append(v['sucessful']*100/v['no_of_reports'])\n",
    "    stake_data[v['type_of_stake']]['not_sucessful'].append(v['not_sucessful']*100/v['no_of_reports'])\n",
    "    stake_data[v['type_of_stake']]['not_reported'].append(v['not_reported']*100/v['no_of_reports'])"
   ]
  },
  {
   "cell_type": "code",
   "execution_count": null,
   "id": "8bfc9f94",
   "metadata": {},
   "outputs": [],
   "source": [
    "raw_data = []\n",
    "for k,v in stake_data.items():\n",
    "    temp = [k]\n",
    "    for i in ['sucessful','not_sucessful','not_reported']:\n",
    "        temp.append(f'{np.mean(v[i]):.2f} ± {np.std(v[i])}')\n",
    "    raw_data.append(temp)"
   ]
  },
  {
   "cell_type": "code",
   "execution_count": null,
   "id": "09852e62",
   "metadata": {},
   "outputs": [],
   "source": [
    "pd.DataFrame(raw_data,columns=['Type',\"Success\", \"Not Success\" , \"Not reported\"]).sort_values(by = 'Success', ascending=False)"
   ]
  },
  {
   "cell_type": "markdown",
   "id": "2123d045",
   "metadata": {},
   "source": [
    "# Title Word cloud"
   ]
  },
  {
   "cell_type": "code",
   "execution_count": null,
   "id": "c58dfcbe",
   "metadata": {},
   "outputs": [],
   "source": [
    "titles = [v['title'] for k,v in commitment_index.items()]"
   ]
  },
  {
   "cell_type": "code",
   "execution_count": null,
   "id": "6d1b1dee",
   "metadata": {},
   "outputs": [],
   "source": [
    "titles = [i.lower() for i in titles]"
   ]
  },
  {
   "cell_type": "code",
   "execution_count": null,
   "id": "88839af2",
   "metadata": {},
   "outputs": [],
   "source": [
    "titles = [i for i in titles if i!=\"\"]"
   ]
  },
  {
   "cell_type": "code",
   "execution_count": null,
   "id": "334c6761",
   "metadata": {},
   "outputs": [],
   "source": [
    "titles = [i.translate(str.maketrans('', '', string.punctuation)) for i in titles]"
   ]
  },
  {
   "cell_type": "code",
   "execution_count": null,
   "id": "20a5372b",
   "metadata": {},
   "outputs": [],
   "source": [
    "tokens = []\n",
    "for i in titles:\n",
    "    for k in i.split(\" \"):\n",
    "        tokens.append(k)"
   ]
  },
  {
   "cell_type": "code",
   "execution_count": null,
   "id": "8a14dfd8",
   "metadata": {},
   "outputs": [],
   "source": [
    "wc_text = \" \".join(tokens)"
   ]
  },
  {
   "cell_type": "code",
   "execution_count": null,
   "id": "62bd811b",
   "metadata": {},
   "outputs": [],
   "source": [
    "len(wc_text)"
   ]
  },
  {
   "cell_type": "code",
   "execution_count": null,
   "id": "ffbf42f3",
   "metadata": {},
   "outputs": [],
   "source": [
    "wordcloud = WordCloud(background_color=\"white\").generate(wc_text)"
   ]
  },
  {
   "cell_type": "code",
   "execution_count": null,
   "id": "a0914f51",
   "metadata": {},
   "outputs": [],
   "source": [
    "plt.imshow(wordcloud, interpolation='bilinear')\n",
    "plt.axis(\"off\")\n",
    "plt.show()"
   ]
  },
  {
   "cell_type": "code",
   "execution_count": null,
   "id": "d7c512db",
   "metadata": {},
   "outputs": [],
   "source": []
  }
 ],
 "metadata": {
  "kernelspec": {
   "display_name": "Python (stickk)",
   "language": "python",
   "name": "stickk"
  },
  "language_info": {
   "codemirror_mode": {
    "name": "ipython",
    "version": 3
   },
   "file_extension": ".py",
   "mimetype": "text/x-python",
   "name": "python",
   "nbconvert_exporter": "python",
   "pygments_lexer": "ipython3",
   "version": "3.10.4"
  }
 },
 "nbformat": 4,
 "nbformat_minor": 5
}
