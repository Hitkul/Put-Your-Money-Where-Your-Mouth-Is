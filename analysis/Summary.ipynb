{
 "cells": [
  {
   "cell_type": "code",
   "execution_count": 1,
   "id": "6487912f",
   "metadata": {},
   "outputs": [],
   "source": [
    "import pandas as pd\n",
    "import numpy as np\n",
    "import json\n",
    "import os"
   ]
  },
  {
   "cell_type": "markdown",
   "id": "fa6ac229",
   "metadata": {},
   "source": [
    "### Total Number of users"
   ]
  },
  {
   "cell_type": "code",
   "execution_count": 2,
   "id": "aa46557d",
   "metadata": {},
   "outputs": [],
   "source": [
    "summary_table = []"
   ]
  },
  {
   "cell_type": "code",
   "execution_count": 3,
   "id": "416b5111",
   "metadata": {},
   "outputs": [],
   "source": [
    "counters = json.load(open(\"../data/counter.json\",'r'))"
   ]
  },
  {
   "cell_type": "code",
   "execution_count": 4,
   "id": "1a34c18c",
   "metadata": {},
   "outputs": [],
   "source": [
    "summary_table.append((\"Total # of users\",counters['last id completed']))\n",
    "summary_table.append((\"# of private users\",counters['Number of private profiles']))\n",
    "summary_table.append((\"# of deleted users\",counters['Number of user not found profiles']))\n",
    "summary_table.append((\"# of public users\",counters['Number of public profiles']))\n",
    "summary_table.append((\"# of commitments\",counters['Number of completed commitments']))"
   ]
  },
  {
   "cell_type": "code",
   "execution_count": 5,
   "id": "9515741a",
   "metadata": {},
   "outputs": [
    {
     "data": {
      "text/html": [
       "<div>\n",
       "<style scoped>\n",
       "    .dataframe tbody tr th:only-of-type {\n",
       "        vertical-align: middle;\n",
       "    }\n",
       "\n",
       "    .dataframe tbody tr th {\n",
       "        vertical-align: top;\n",
       "    }\n",
       "\n",
       "    .dataframe thead th {\n",
       "        text-align: right;\n",
       "    }\n",
       "</style>\n",
       "<table border=\"1\" class=\"dataframe\">\n",
       "  <thead>\n",
       "    <tr style=\"text-align: right;\">\n",
       "      <th></th>\n",
       "      <th>Head</th>\n",
       "      <th>Count</th>\n",
       "    </tr>\n",
       "  </thead>\n",
       "  <tbody>\n",
       "    <tr>\n",
       "      <th>0</th>\n",
       "      <td>Total # of users</td>\n",
       "      <td>595852</td>\n",
       "    </tr>\n",
       "    <tr>\n",
       "      <th>1</th>\n",
       "      <td># of private users</td>\n",
       "      <td>41525</td>\n",
       "    </tr>\n",
       "    <tr>\n",
       "      <th>2</th>\n",
       "      <td># of deleted users</td>\n",
       "      <td>37067</td>\n",
       "    </tr>\n",
       "    <tr>\n",
       "      <th>3</th>\n",
       "      <td># of public users</td>\n",
       "      <td>517260</td>\n",
       "    </tr>\n",
       "    <tr>\n",
       "      <th>4</th>\n",
       "      <td># of commitments</td>\n",
       "      <td>316977</td>\n",
       "    </tr>\n",
       "  </tbody>\n",
       "</table>\n",
       "</div>"
      ],
      "text/plain": [
       "                 Head   Count\n",
       "0    Total # of users  595852\n",
       "1  # of private users   41525\n",
       "2  # of deleted users   37067\n",
       "3   # of public users  517260\n",
       "4    # of commitments  316977"
      ]
     },
     "execution_count": 5,
     "metadata": {},
     "output_type": "execute_result"
    }
   ],
   "source": [
    "pd.DataFrame(summary_table,columns=['Head','Count'])"
   ]
  },
  {
   "cell_type": "code",
   "execution_count": null,
   "id": "393b3b4f",
   "metadata": {},
   "outputs": [],
   "source": []
  }
 ],
 "metadata": {
  "kernelspec": {
   "display_name": "Python (stickk)",
   "language": "python",
   "name": "stickk"
  },
  "language_info": {
   "codemirror_mode": {
    "name": "ipython",
    "version": 3
   },
   "file_extension": ".py",
   "mimetype": "text/x-python",
   "name": "python",
   "nbconvert_exporter": "python",
   "pygments_lexer": "ipython3",
   "version": "3.10.4"
  }
 },
 "nbformat": 4,
 "nbformat_minor": 5
}
