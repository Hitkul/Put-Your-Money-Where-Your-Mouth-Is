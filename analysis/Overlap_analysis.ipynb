{
 "cells": [
  {
   "cell_type": "code",
   "execution_count": 1,
   "id": "e77f7fe7",
   "metadata": {},
   "outputs": [],
   "source": [
    "import json\n",
    "import pandas as pd\n",
    "import numpy as np\n",
    "from tqdm.notebook import tqdm\n",
    "from datetime import datetime,timedelta\n",
    "from collections import defaultdict"
   ]
  },
  {
   "cell_type": "code",
   "execution_count": 2,
   "id": "eb6e0e98",
   "metadata": {},
   "outputs": [],
   "source": [
    "user_index = json.load(open(\"../data/user_index.json\",'r'))\n",
    "commitment_index = json.load(open(\"../data/commitment_index.json\",'r'))"
   ]
  },
  {
   "cell_type": "code",
   "execution_count": 3,
   "id": "3f7a5b2c",
   "metadata": {},
   "outputs": [],
   "source": [
    "max_user_id = max([int(i) for i in user_index.keys()])"
   ]
  },
  {
   "cell_type": "code",
   "execution_count": 4,
   "id": "1434da07",
   "metadata": {},
   "outputs": [
    {
     "data": {
      "application/vnd.jupyter.widget-view+json": {
       "model_id": "24e279bda2294cddb5e678da3c716c76",
       "version_major": 2,
       "version_minor": 0
      },
      "text/plain": [
       "  0%|          | 0/655750 [00:00<?, ?it/s]"
      ]
     },
     "metadata": {},
     "output_type": "display_data"
    }
   ],
   "source": [
    "for k,v in tqdm(user_index.items()):\n",
    "    user_index[k]['date'] = datetime.strptime(v['date'], '%d %b %Y')"
   ]
  },
  {
   "cell_type": "code",
   "execution_count": 5,
   "id": "afae8147",
   "metadata": {},
   "outputs": [
    {
     "data": {
      "application/vnd.jupyter.widget-view+json": {
       "model_id": "623ff70777f6450293f501f3ea630a51",
       "version_major": 2,
       "version_minor": 0
      },
      "text/plain": [
       "  0%|          | 0/655750 [00:00<?, ?it/s]"
      ]
     },
     "metadata": {},
     "output_type": "display_data"
    }
   ],
   "source": [
    "id_for_1_jan_2023 = 722621\n",
    "for k,v in tqdm(user_index.items()):\n",
    "    if int(k)<id_for_1_jan_2023 and v['date'].year == 2023:\n",
    "        user_index[k]['date'] = None"
   ]
  },
  {
   "cell_type": "code",
   "execution_count": 6,
   "id": "cbc0d50b",
   "metadata": {},
   "outputs": [
    {
     "data": {
      "application/vnd.jupyter.widget-view+json": {
       "model_id": "df0efaf5aea64d398e36d93ae7166407",
       "version_major": 2,
       "version_minor": 0
      },
      "text/plain": [
       "  0%|          | 0/20302 [00:00<?, ?it/s]"
      ]
     },
     "metadata": {},
     "output_type": "display_data"
    }
   ],
   "source": [
    "key_date = user_index[str(max_user_id)]['date']\n",
    "for i in tqdm(range(max_user_id,id_for_1_jan_2023,-1)):\n",
    "    if str(i) in user_index.keys():\n",
    "        if user_index[str(i)]['date']> key_date:\n",
    "            user_index[str(i)]['date'] = None\n",
    "        else:\n",
    "            key_date = user_index[str(i)]['date']"
   ]
  },
  {
   "cell_type": "code",
   "execution_count": 7,
   "id": "acd8f040",
   "metadata": {},
   "outputs": [],
   "source": [
    "last_date = user_index['1']['date']\n",
    "for i in range(1, max_user_id+1):\n",
    "    if str(i) in user_index.keys():\n",
    "        if user_index[str(i)]['date'] == None:\n",
    "            user_index[str(i)]['date'] = last_date\n",
    "        else:\n",
    "            last_date = user_index[str(i)]['date']"
   ]
  },
  {
   "cell_type": "code",
   "execution_count": 8,
   "id": "6b50bee8",
   "metadata": {},
   "outputs": [
    {
     "data": {
      "application/vnd.jupyter.widget-view+json": {
       "model_id": "ff78598a8fd14692844242c2b91da031",
       "version_major": 2,
       "version_minor": 0
      },
      "text/plain": [
       "  0%|          | 0/397456 [00:00<?, ?it/s]"
      ]
     },
     "metadata": {},
     "output_type": "display_data"
    }
   ],
   "source": [
    "for k,v in tqdm(commitment_index.items()):\n",
    "    commitment_index[k]['start_date'] = datetime.strptime(v['start_date'], '%B %d, %Y')\n",
    "    commitment_index[k]['end_date'] = datetime.strptime(v['end_date'], '%B %d, %Y')"
   ]
  },
  {
   "cell_type": "code",
   "execution_count": 9,
   "id": "0fcc1a5d",
   "metadata": {},
   "outputs": [
    {
     "data": {
      "application/vnd.jupyter.widget-view+json": {
       "model_id": "cd61ecc7d649492d84f261b1ba495c6a",
       "version_major": 2,
       "version_minor": 0
      },
      "text/plain": [
       "  0%|          | 0/397456 [00:00<?, ?it/s]"
      ]
     },
     "metadata": {},
     "output_type": "display_data"
    }
   ],
   "source": [
    "for k,v in tqdm(commitment_index.items()):\n",
    "    if v['start_date'].year < 2007:\n",
    "        deta = v['end_date'] - v['start_date']\n",
    "        commitment_index[k]['start_date'] = user_index[str(v['user_id'])]['date']\n",
    "        commitment_index[k]['end_date'] = commitment_index[k]['start_date'] + deta"
   ]
  },
  {
   "cell_type": "markdown",
   "id": "39a0a8d0",
   "metadata": {},
   "source": [
    "## overlap detection"
   ]
  },
  {
   "cell_type": "code",
   "execution_count": 10,
   "id": "53d73d4e",
   "metadata": {},
   "outputs": [],
   "source": [
    "with open('../data/Topic_model_classes.json','r') as fp:\n",
    "    topic_commitments = json.load(fp)"
   ]
  },
  {
   "cell_type": "code",
   "execution_count": 11,
   "id": "b4983f87",
   "metadata": {},
   "outputs": [
    {
     "data": {
      "application/vnd.jupyter.widget-view+json": {
       "model_id": "19aa77c8b9ea49cd8549827fa85ea8f5",
       "version_major": 2,
       "version_minor": 0
      },
      "text/plain": [
       "  0%|          | 0/17 [00:00<?, ?it/s]"
      ]
     },
     "metadata": {},
     "output_type": "display_data"
    },
    {
     "data": {
      "application/vnd.jupyter.widget-view+json": {
       "model_id": "",
       "version_major": 2,
       "version_minor": 0
      },
      "text/plain": [
       "  0%|          | 0/102584 [00:00<?, ?it/s]"
      ]
     },
     "metadata": {},
     "output_type": "display_data"
    },
    {
     "data": {
      "application/vnd.jupyter.widget-view+json": {
       "model_id": "",
       "version_major": 2,
       "version_minor": 0
      },
      "text/plain": [
       "  0%|          | 0/14202 [00:00<?, ?it/s]"
      ]
     },
     "metadata": {},
     "output_type": "display_data"
    },
    {
     "data": {
      "application/vnd.jupyter.widget-view+json": {
       "model_id": "",
       "version_major": 2,
       "version_minor": 0
      },
      "text/plain": [
       "  0%|          | 0/88659 [00:00<?, ?it/s]"
      ]
     },
     "metadata": {},
     "output_type": "display_data"
    },
    {
     "data": {
      "application/vnd.jupyter.widget-view+json": {
       "model_id": "",
       "version_major": 2,
       "version_minor": 0
      },
      "text/plain": [
       "  0%|          | 0/10251 [00:00<?, ?it/s]"
      ]
     },
     "metadata": {},
     "output_type": "display_data"
    },
    {
     "data": {
      "application/vnd.jupyter.widget-view+json": {
       "model_id": "",
       "version_major": 2,
       "version_minor": 0
      },
      "text/plain": [
       "  0%|          | 0/4194 [00:00<?, ?it/s]"
      ]
     },
     "metadata": {},
     "output_type": "display_data"
    },
    {
     "data": {
      "application/vnd.jupyter.widget-view+json": {
       "model_id": "",
       "version_major": 2,
       "version_minor": 0
      },
      "text/plain": [
       "  0%|          | 0/8956 [00:00<?, ?it/s]"
      ]
     },
     "metadata": {},
     "output_type": "display_data"
    },
    {
     "data": {
      "application/vnd.jupyter.widget-view+json": {
       "model_id": "",
       "version_major": 2,
       "version_minor": 0
      },
      "text/plain": [
       "  0%|          | 0/8735 [00:00<?, ?it/s]"
      ]
     },
     "metadata": {},
     "output_type": "display_data"
    },
    {
     "data": {
      "application/vnd.jupyter.widget-view+json": {
       "model_id": "",
       "version_major": 2,
       "version_minor": 0
      },
      "text/plain": [
       "  0%|          | 0/22040 [00:00<?, ?it/s]"
      ]
     },
     "metadata": {},
     "output_type": "display_data"
    },
    {
     "data": {
      "application/vnd.jupyter.widget-view+json": {
       "model_id": "",
       "version_major": 2,
       "version_minor": 0
      },
      "text/plain": [
       "  0%|          | 0/5981 [00:00<?, ?it/s]"
      ]
     },
     "metadata": {},
     "output_type": "display_data"
    },
    {
     "data": {
      "application/vnd.jupyter.widget-view+json": {
       "model_id": "",
       "version_major": 2,
       "version_minor": 0
      },
      "text/plain": [
       "  0%|          | 0/2486 [00:00<?, ?it/s]"
      ]
     },
     "metadata": {},
     "output_type": "display_data"
    },
    {
     "data": {
      "application/vnd.jupyter.widget-view+json": {
       "model_id": "",
       "version_major": 2,
       "version_minor": 0
      },
      "text/plain": [
       "  0%|          | 0/7886 [00:00<?, ?it/s]"
      ]
     },
     "metadata": {},
     "output_type": "display_data"
    },
    {
     "data": {
      "application/vnd.jupyter.widget-view+json": {
       "model_id": "",
       "version_major": 2,
       "version_minor": 0
      },
      "text/plain": [
       "  0%|          | 0/7639 [00:00<?, ?it/s]"
      ]
     },
     "metadata": {},
     "output_type": "display_data"
    },
    {
     "data": {
      "application/vnd.jupyter.widget-view+json": {
       "model_id": "",
       "version_major": 2,
       "version_minor": 0
      },
      "text/plain": [
       "  0%|          | 0/1761 [00:00<?, ?it/s]"
      ]
     },
     "metadata": {},
     "output_type": "display_data"
    },
    {
     "data": {
      "application/vnd.jupyter.widget-view+json": {
       "model_id": "",
       "version_major": 2,
       "version_minor": 0
      },
      "text/plain": [
       "  0%|          | 0/4535 [00:00<?, ?it/s]"
      ]
     },
     "metadata": {},
     "output_type": "display_data"
    },
    {
     "data": {
      "application/vnd.jupyter.widget-view+json": {
       "model_id": "",
       "version_major": 2,
       "version_minor": 0
      },
      "text/plain": [
       "  0%|          | 0/1312 [00:00<?, ?it/s]"
      ]
     },
     "metadata": {},
     "output_type": "display_data"
    },
    {
     "data": {
      "application/vnd.jupyter.widget-view+json": {
       "model_id": "",
       "version_major": 2,
       "version_minor": 0
      },
      "text/plain": [
       "  0%|          | 0/1582 [00:00<?, ?it/s]"
      ]
     },
     "metadata": {},
     "output_type": "display_data"
    },
    {
     "data": {
      "application/vnd.jupyter.widget-view+json": {
       "model_id": "",
       "version_major": 2,
       "version_minor": 0
      },
      "text/plain": [
       "  0%|          | 0/2826 [00:00<?, ?it/s]"
      ]
     },
     "metadata": {},
     "output_type": "display_data"
    }
   ],
   "source": [
    "id_to_class_map = {}\n",
    "for k,v in tqdm(topic_commitments.items()):\n",
    "    for id_ in tqdm(v,leave=False):\n",
    "        id_to_class_map[id_] = k"
   ]
  },
  {
   "cell_type": "code",
   "execution_count": 12,
   "id": "1b75f461",
   "metadata": {},
   "outputs": [
    {
     "data": {
      "text/plain": [
       "290008"
      ]
     },
     "execution_count": 12,
     "metadata": {},
     "output_type": "execute_result"
    }
   ],
   "source": [
    "len(id_to_class_map)"
   ]
  },
  {
   "cell_type": "code",
   "execution_count": 13,
   "id": "51c90ff1",
   "metadata": {},
   "outputs": [],
   "source": [
    "def find_id_class(cid):\n",
    "    return id_to_class_map.get(cid,'unidentified')"
   ]
  },
  {
   "cell_type": "code",
   "execution_count": 14,
   "id": "074fccf6",
   "metadata": {},
   "outputs": [],
   "source": [
    "overlap = defaultdict(list)"
   ]
  },
  {
   "cell_type": "code",
   "execution_count": 15,
   "id": "67f7be7c",
   "metadata": {},
   "outputs": [
    {
     "data": {
      "application/vnd.jupyter.widget-view+json": {
       "model_id": "f32eed3d1dca4022ad4c094bd2e1ecfc",
       "version_major": 2,
       "version_minor": 0
      },
      "text/plain": [
       "  0%|          | 0/397456 [00:00<?, ?it/s]"
      ]
     },
     "metadata": {},
     "output_type": "display_data"
    }
   ],
   "source": [
    "for k,v in tqdm(commitment_index.items()):\n",
    "    for cc in user_index[str(v['user_id'])]['commitments']:\n",
    "        cc_class = find_id_class(str(cc))\n",
    "        if str(cc)!=k:\n",
    "            k_class = find_id_class(k)\n",
    "            if v['start_date']==commitment_index[str(cc)]['start_date'] and v['end_date']==commitment_index[str(cc)]['end_date']:\n",
    "                intersection_key = \"_\".join(set([cc_class,k_class]))\n",
    "                overlap[intersection_key].append(k)\n",
    "                overlap[intersection_key].append(str(cc))\n",
    "            elif v['end_date']<commitment_index[str(cc)]['end_date'] and v['end_date']>commitment_index[str(cc)]['start_date'] and v['start_date']<commitment_index[str(cc)]['start_date']:\n",
    "                intersection_key = \"_\".join(set([cc_class,k_class]))\n",
    "                overlap[intersection_key].append(k)\n",
    "                overlap[intersection_key].append(str(cc))\n",
    "            elif v['end_date']==commitment_index[str(cc)]['end_date'] and v['start_date']<commitment_index[str(cc)]['start_date']:\n",
    "                intersection_key = \"_\".join(set([cc_class,k_class]))\n",
    "                overlap[intersection_key].append(k)\n",
    "                overlap[intersection_key].append(str(cc))\n",
    "            elif v['start_date']>commitment_index[str(cc)]['start_date'] and v['end_date']<commitment_index[str(cc)]['end_date']:\n",
    "                intersection_key = \"_\".join(set([cc_class,k_class]))\n",
    "                overlap[intersection_key].append(k)\n",
    "                overlap[intersection_key].append(str(cc))\n",
    "            elif v['start_date']==commitment_index[str(cc)]['start_date'] and v['end_date']>commitment_index[str(cc)]['end_date']:\n",
    "                intersection_key = \"_\".join(set([cc_class,k_class]))\n",
    "                overlap[intersection_key].append(k)\n",
    "                overlap[intersection_key].append(str(cc))\n",
    "            elif v['start_date']>commitment_index[str(cc)]['start_date'] and v['start_date']<commitment_index[str(cc)]['end_date'] and v['end_date']>commitment_index[str(cc)]['end_date']:\n",
    "                intersection_key = \"_\".join(set([cc_class,k_class]))\n",
    "                overlap[intersection_key].append(k)\n",
    "                overlap[intersection_key].append(str(cc))"
   ]
  },
  {
   "cell_type": "code",
   "execution_count": 16,
   "id": "8b2f5770",
   "metadata": {},
   "outputs": [
    {
     "data": {
      "text/plain": [
       "197"
      ]
     },
     "execution_count": 16,
     "metadata": {},
     "output_type": "execute_result"
    }
   ],
   "source": [
    "len(overlap.keys())"
   ]
  },
  {
   "cell_type": "code",
   "execution_count": 17,
   "id": "a098aeda",
   "metadata": {},
   "outputs": [
    {
     "data": {
      "text/plain": [
       "164489"
      ]
     },
     "execution_count": 17,
     "metadata": {},
     "output_type": "execute_result"
    }
   ],
   "source": [
    "len(set([j for k,v in overlap.items() for j in v]))"
   ]
  },
  {
   "cell_type": "code",
   "execution_count": 18,
   "id": "56effc36",
   "metadata": {},
   "outputs": [],
   "source": [
    "with open('../data/Topic_model_overlap_commitments.json','r') as fp:\n",
    "    multi_commitments = json.load(fp)"
   ]
  },
  {
   "cell_type": "code",
   "execution_count": 19,
   "id": "e4dae39e",
   "metadata": {},
   "outputs": [
    {
     "data": {
      "application/vnd.jupyter.widget-view+json": {
       "model_id": "fca94cc2c23d4b02afd0a27b91260bce",
       "version_major": 2,
       "version_minor": 0
      },
      "text/plain": [
       "  0%|          | 0/136 [00:00<?, ?it/s]"
      ]
     },
     "metadata": {},
     "output_type": "display_data"
    }
   ],
   "source": [
    "for k,v in tqdm(multi_commitments.items()):\n",
    "    intersection_key = \"_\".join(set(k.split(\"_\")))\n",
    "    overlap[intersection_key].extend(v)"
   ]
  },
  {
   "cell_type": "code",
   "execution_count": 20,
   "id": "c84cd4c7",
   "metadata": {},
   "outputs": [
    {
     "data": {
      "text/plain": [
       "241"
      ]
     },
     "execution_count": 20,
     "metadata": {},
     "output_type": "execute_result"
    }
   ],
   "source": [
    "len(overlap.keys())"
   ]
  },
  {
   "cell_type": "code",
   "execution_count": 21,
   "id": "a841c9be",
   "metadata": {},
   "outputs": [
    {
     "data": {
      "text/plain": [
       "167511"
      ]
     },
     "execution_count": 21,
     "metadata": {},
     "output_type": "execute_result"
    }
   ],
   "source": [
    "len(set([j for k,v in overlap.items() for j in v]))"
   ]
  },
  {
   "cell_type": "code",
   "execution_count": 27,
   "id": "cc650bf5",
   "metadata": {},
   "outputs": [
    {
     "data": {
      "text/plain": [
       "0.4214579727064128"
      ]
     },
     "execution_count": 27,
     "metadata": {},
     "output_type": "execute_result"
    }
   ],
   "source": [
    "\n",
    "167511/len(commitment_index)"
   ]
  },
  {
   "cell_type": "code",
   "execution_count": 22,
   "id": "13af8c4b",
   "metadata": {},
   "outputs": [],
   "source": [
    "counts = []\n",
    "for k,v in overlap.items():\n",
    "    counts.append([k,len(set(v))])"
   ]
  },
  {
   "cell_type": "code",
   "execution_count": 23,
   "id": "8d8cb1f0",
   "metadata": {},
   "outputs": [
    {
     "data": {
      "text/html": [
       "<div>\n",
       "<style scoped>\n",
       "    .dataframe tbody tr th:only-of-type {\n",
       "        vertical-align: middle;\n",
       "    }\n",
       "\n",
       "    .dataframe tbody tr th {\n",
       "        vertical-align: top;\n",
       "    }\n",
       "\n",
       "    .dataframe thead th {\n",
       "        text-align: right;\n",
       "    }\n",
       "</style>\n",
       "<table border=\"1\" class=\"dataframe\">\n",
       "  <thead>\n",
       "    <tr style=\"text-align: right;\">\n",
       "      <th></th>\n",
       "      <th>Intersection</th>\n",
       "      <th>Count</th>\n",
       "    </tr>\n",
       "  </thead>\n",
       "  <tbody>\n",
       "    <tr>\n",
       "      <th>8</th>\n",
       "      <td>unidentified</td>\n",
       "      <td>39994</td>\n",
       "    </tr>\n",
       "    <tr>\n",
       "      <th>0</th>\n",
       "      <td>exercise_unidentified</td>\n",
       "      <td>31160</td>\n",
       "    </tr>\n",
       "    <tr>\n",
       "      <th>3</th>\n",
       "      <td>exercise_weight</td>\n",
       "      <td>28286</td>\n",
       "    </tr>\n",
       "    <tr>\n",
       "      <th>2</th>\n",
       "      <td>weight_unidentified</td>\n",
       "      <td>19169</td>\n",
       "    </tr>\n",
       "    <tr>\n",
       "      <th>18</th>\n",
       "      <td>study_unidentified</td>\n",
       "      <td>10278</td>\n",
       "    </tr>\n",
       "    <tr>\n",
       "      <th>9</th>\n",
       "      <td>exercise</td>\n",
       "      <td>9615</td>\n",
       "    </tr>\n",
       "    <tr>\n",
       "      <th>7</th>\n",
       "      <td>weight</td>\n",
       "      <td>9067</td>\n",
       "    </tr>\n",
       "    <tr>\n",
       "      <th>10</th>\n",
       "      <td>eat_unidentified</td>\n",
       "      <td>8114</td>\n",
       "    </tr>\n",
       "    <tr>\n",
       "      <th>15</th>\n",
       "      <td>read_unidentified</td>\n",
       "      <td>7500</td>\n",
       "    </tr>\n",
       "    <tr>\n",
       "      <th>11</th>\n",
       "      <td>exercise_eat</td>\n",
       "      <td>7361</td>\n",
       "    </tr>\n",
       "    <tr>\n",
       "      <th>19</th>\n",
       "      <td>exercise_study</td>\n",
       "      <td>6695</td>\n",
       "    </tr>\n",
       "    <tr>\n",
       "      <th>24</th>\n",
       "      <td>money_unidentified</td>\n",
       "      <td>6270</td>\n",
       "    </tr>\n",
       "    <tr>\n",
       "      <th>57</th>\n",
       "      <td>meditate_unidentified</td>\n",
       "      <td>6046</td>\n",
       "    </tr>\n",
       "    <tr>\n",
       "      <th>28</th>\n",
       "      <td>sleep_unidentified</td>\n",
       "      <td>6012</td>\n",
       "    </tr>\n",
       "    <tr>\n",
       "      <th>4</th>\n",
       "      <td>exercise_smoking</td>\n",
       "      <td>5110</td>\n",
       "    </tr>\n",
       "    <tr>\n",
       "      <th>40</th>\n",
       "      <td>client_unidentified</td>\n",
       "      <td>4402</td>\n",
       "    </tr>\n",
       "    <tr>\n",
       "      <th>6</th>\n",
       "      <td>smoking_weight</td>\n",
       "      <td>4271</td>\n",
       "    </tr>\n",
       "    <tr>\n",
       "      <th>52</th>\n",
       "      <td>exercise_meditate</td>\n",
       "      <td>4128</td>\n",
       "    </tr>\n",
       "    <tr>\n",
       "      <th>23</th>\n",
       "      <td>write_unidentified</td>\n",
       "      <td>4094</td>\n",
       "    </tr>\n",
       "    <tr>\n",
       "      <th>12</th>\n",
       "      <td>weight_eat</td>\n",
       "      <td>4038</td>\n",
       "    </tr>\n",
       "    <tr>\n",
       "      <th>13</th>\n",
       "      <td>read_exercise</td>\n",
       "      <td>3750</td>\n",
       "    </tr>\n",
       "    <tr>\n",
       "      <th>1</th>\n",
       "      <td>smoking_unidentified</td>\n",
       "      <td>3748</td>\n",
       "    </tr>\n",
       "    <tr>\n",
       "      <th>17</th>\n",
       "      <td>exercise_read</td>\n",
       "      <td>3659</td>\n",
       "    </tr>\n",
       "    <tr>\n",
       "      <th>20</th>\n",
       "      <td>weight_study</td>\n",
       "      <td>3581</td>\n",
       "    </tr>\n",
       "    <tr>\n",
       "      <th>55</th>\n",
       "      <td>internet_unidentified</td>\n",
       "      <td>3532</td>\n",
       "    </tr>\n",
       "    <tr>\n",
       "      <th>25</th>\n",
       "      <td>exercise_sleep</td>\n",
       "      <td>3528</td>\n",
       "    </tr>\n",
       "    <tr>\n",
       "      <th>71</th>\n",
       "      <td>alcohol_unidentified</td>\n",
       "      <td>2893</td>\n",
       "    </tr>\n",
       "    <tr>\n",
       "      <th>65</th>\n",
       "      <td>money_weight</td>\n",
       "      <td>2882</td>\n",
       "    </tr>\n",
       "    <tr>\n",
       "      <th>75</th>\n",
       "      <td>study</td>\n",
       "      <td>2548</td>\n",
       "    </tr>\n",
       "    <tr>\n",
       "      <th>29</th>\n",
       "      <td>money_exercise</td>\n",
       "      <td>2361</td>\n",
       "    </tr>\n",
       "    <tr>\n",
       "      <th>27</th>\n",
       "      <td>exercise_money</td>\n",
       "      <td>2320</td>\n",
       "    </tr>\n",
       "    <tr>\n",
       "      <th>38</th>\n",
       "      <td>clean_unidentified</td>\n",
       "      <td>2253</td>\n",
       "    </tr>\n",
       "    <tr>\n",
       "      <th>14</th>\n",
       "      <td>read_weight</td>\n",
       "      <td>2227</td>\n",
       "    </tr>\n",
       "    <tr>\n",
       "      <th>90</th>\n",
       "      <td>nail_unidentified</td>\n",
       "      <td>2187</td>\n",
       "    </tr>\n",
       "    <tr>\n",
       "      <th>76</th>\n",
       "      <td>read_study</td>\n",
       "      <td>2033</td>\n",
       "    </tr>\n",
       "    <tr>\n",
       "      <th>36</th>\n",
       "      <td>eat</td>\n",
       "      <td>1688</td>\n",
       "    </tr>\n",
       "    <tr>\n",
       "      <th>145</th>\n",
       "      <td>mastrubate_unidentified</td>\n",
       "      <td>1630</td>\n",
       "    </tr>\n",
       "    <tr>\n",
       "      <th>72</th>\n",
       "      <td>alcohol_exercise</td>\n",
       "      <td>1616</td>\n",
       "    </tr>\n",
       "    <tr>\n",
       "      <th>41</th>\n",
       "      <td>exercise_client</td>\n",
       "      <td>1544</td>\n",
       "    </tr>\n",
       "    <tr>\n",
       "      <th>113</th>\n",
       "      <td>weight_meditate</td>\n",
       "      <td>1520</td>\n",
       "    </tr>\n",
       "    <tr>\n",
       "      <th>62</th>\n",
       "      <td>write_exercise</td>\n",
       "      <td>1300</td>\n",
       "    </tr>\n",
       "    <tr>\n",
       "      <th>5</th>\n",
       "      <td>smoking</td>\n",
       "      <td>1281</td>\n",
       "    </tr>\n",
       "    <tr>\n",
       "      <th>61</th>\n",
       "      <td>exercise_write</td>\n",
       "      <td>1257</td>\n",
       "    </tr>\n",
       "    <tr>\n",
       "      <th>54</th>\n",
       "      <td>alcohol_weight</td>\n",
       "      <td>1221</td>\n",
       "    </tr>\n",
       "    <tr>\n",
       "      <th>115</th>\n",
       "      <td>sleep_study</td>\n",
       "      <td>1143</td>\n",
       "    </tr>\n",
       "    <tr>\n",
       "      <th>30</th>\n",
       "      <td>sleep_eat</td>\n",
       "      <td>1080</td>\n",
       "    </tr>\n",
       "    <tr>\n",
       "      <th>64</th>\n",
       "      <td>money_study</td>\n",
       "      <td>1072</td>\n",
       "    </tr>\n",
       "    <tr>\n",
       "      <th>77</th>\n",
       "      <td>client_weight</td>\n",
       "      <td>1000</td>\n",
       "    </tr>\n",
       "    <tr>\n",
       "      <th>117</th>\n",
       "      <td>read_meditate</td>\n",
       "      <td>998</td>\n",
       "    </tr>\n",
       "    <tr>\n",
       "      <th>67</th>\n",
       "      <td>write_weight</td>\n",
       "      <td>983</td>\n",
       "    </tr>\n",
       "  </tbody>\n",
       "</table>\n",
       "</div>"
      ],
      "text/plain": [
       "                Intersection  Count\n",
       "8               unidentified  39994\n",
       "0      exercise_unidentified  31160\n",
       "3            exercise_weight  28286\n",
       "2        weight_unidentified  19169\n",
       "18        study_unidentified  10278\n",
       "9                   exercise   9615\n",
       "7                     weight   9067\n",
       "10          eat_unidentified   8114\n",
       "15         read_unidentified   7500\n",
       "11              exercise_eat   7361\n",
       "19            exercise_study   6695\n",
       "24        money_unidentified   6270\n",
       "57     meditate_unidentified   6046\n",
       "28        sleep_unidentified   6012\n",
       "4           exercise_smoking   5110\n",
       "40       client_unidentified   4402\n",
       "6             smoking_weight   4271\n",
       "52         exercise_meditate   4128\n",
       "23        write_unidentified   4094\n",
       "12                weight_eat   4038\n",
       "13             read_exercise   3750\n",
       "1       smoking_unidentified   3748\n",
       "17             exercise_read   3659\n",
       "20              weight_study   3581\n",
       "55     internet_unidentified   3532\n",
       "25            exercise_sleep   3528\n",
       "71      alcohol_unidentified   2893\n",
       "65              money_weight   2882\n",
       "75                     study   2548\n",
       "29            money_exercise   2361\n",
       "27            exercise_money   2320\n",
       "38        clean_unidentified   2253\n",
       "14               read_weight   2227\n",
       "90         nail_unidentified   2187\n",
       "76                read_study   2033\n",
       "36                       eat   1688\n",
       "145  mastrubate_unidentified   1630\n",
       "72          alcohol_exercise   1616\n",
       "41           exercise_client   1544\n",
       "113          weight_meditate   1520\n",
       "62            write_exercise   1300\n",
       "5                    smoking   1281\n",
       "61            exercise_write   1257\n",
       "54            alcohol_weight   1221\n",
       "115              sleep_study   1143\n",
       "30                 sleep_eat   1080\n",
       "64               money_study   1072\n",
       "77             client_weight   1000\n",
       "117            read_meditate    998\n",
       "67              write_weight    983"
      ]
     },
     "execution_count": 23,
     "metadata": {},
     "output_type": "execute_result"
    }
   ],
   "source": [
    "pd.DataFrame(counts, columns=['Intersection','Count']).sort_values(\"Count\",ascending=False).head(50)"
   ]
  },
  {
   "cell_type": "code",
   "execution_count": 24,
   "id": "3ec969f6",
   "metadata": {},
   "outputs": [],
   "source": [
    "with open(\"../data/Overlap_commitments.json\",'w') as fp:\n",
    "    json.dump(overlap,fp,indent=4)"
   ]
  },
  {
   "cell_type": "code",
   "execution_count": null,
   "id": "983535ef",
   "metadata": {},
   "outputs": [],
   "source": []
  }
 ],
 "metadata": {
  "kernelspec": {
   "display_name": "Python (stickk)",
   "language": "python",
   "name": "stickk"
  },
  "language_info": {
   "codemirror_mode": {
    "name": "ipython",
    "version": 3
   },
   "file_extension": ".py",
   "mimetype": "text/x-python",
   "name": "python",
   "nbconvert_exporter": "python",
   "pygments_lexer": "ipython3",
   "version": "3.10.4"
  }
 },
 "nbformat": 4,
 "nbformat_minor": 5
}
